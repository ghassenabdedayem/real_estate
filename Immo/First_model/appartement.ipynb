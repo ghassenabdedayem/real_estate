{
 "metadata": {
  "language_info": {
   "codemirror_mode": {
    "name": "ipython",
    "version": 3
   },
   "file_extension": ".py",
   "mimetype": "text/x-python",
   "name": "python",
   "nbconvert_exporter": "python",
   "pygments_lexer": "ipython3",
   "version": "3.8.5-final"
  },
  "orig_nbformat": 2,
  "kernelspec": {
   "name": "python3",
   "display_name": "Python 3",
   "language": "python"
  }
 },
 "nbformat": 4,
 "nbformat_minor": 2,
 "cells": [
  {
   "cell_type": "code",
   "execution_count": 22,
   "metadata": {},
   "outputs": [],
   "source": [
    "import pandas as pd"
   ]
  },
  {
   "cell_type": "code",
   "execution_count": 23,
   "metadata": {},
   "outputs": [
    {
     "output_type": "stream",
     "name": "stdout",
     "text": [
      "(152044, 15)\n"
     ]
    },
    {
     "output_type": "execute_result",
     "data": {
      "text/plain": [
       "        Date_mutation  Valeur_fonciere  No_voie Type_de_voie  \\\n",
       "1048559    2019-09-13         150000.0    110.0          RUE   \n",
       "1048560    2019-09-27         327152.0     28.0          RUE   \n",
       "1048568    2019-09-26         160000.0     20.0           BD   \n",
       "1048570    2019-09-27         212000.0     14.0           AV   \n",
       "1048572    2019-09-27          89209.0    135.0           BD   \n",
       "\n",
       "                          Voie  Code_postal Commune Code_departement  \\\n",
       "1048559           PAUL BELLAMY      44000.0  NANTES               44   \n",
       "1048560             MAL JOFFRE      44000.0  NANTES               44   \n",
       "1048568            VAN ISEGHEM      44000.0  NANTES               44   \n",
       "1048570  DU CIMETIERE ST CLAIR      44100.0  NANTES               44   \n",
       "1048572          DE LA LIBERTE      44100.0  NANTES               44   \n",
       "\n",
       "         Code_type_local   Type_local  Surface_reelle_bati  \\\n",
       "1048559              2.0  Appartement                 44.0   \n",
       "1048560              2.0  Appartement                 92.0   \n",
       "1048568              2.0  Appartement                 32.0   \n",
       "1048570              2.0  Appartement                 79.0   \n",
       "1048572              2.0  Appartement                 22.0   \n",
       "\n",
       "         Nombre_pieces_principales Nature_culture Nature_culture_speciale  \\\n",
       "1048559                        2.0            NaN                     NaN   \n",
       "1048560                        3.0            NaN                     NaN   \n",
       "1048568                        1.0            NaN                     NaN   \n",
       "1048570                        3.0            NaN                     NaN   \n",
       "1048572                        1.0            NaN                     NaN   \n",
       "\n",
       "         Surface_terrain  \n",
       "1048559              NaN  \n",
       "1048560              NaN  \n",
       "1048568              NaN  \n",
       "1048570              NaN  \n",
       "1048572              NaN  "
      ],
      "text/html": "<div>\n<style scoped>\n    .dataframe tbody tr th:only-of-type {\n        vertical-align: middle;\n    }\n\n    .dataframe tbody tr th {\n        vertical-align: top;\n    }\n\n    .dataframe thead th {\n        text-align: right;\n    }\n</style>\n<table border=\"1\" class=\"dataframe\">\n  <thead>\n    <tr style=\"text-align: right;\">\n      <th></th>\n      <th>Date_mutation</th>\n      <th>Valeur_fonciere</th>\n      <th>No_voie</th>\n      <th>Type_de_voie</th>\n      <th>Voie</th>\n      <th>Code_postal</th>\n      <th>Commune</th>\n      <th>Code_departement</th>\n      <th>Code_type_local</th>\n      <th>Type_local</th>\n      <th>Surface_reelle_bati</th>\n      <th>Nombre_pieces_principales</th>\n      <th>Nature_culture</th>\n      <th>Nature_culture_speciale</th>\n      <th>Surface_terrain</th>\n    </tr>\n  </thead>\n  <tbody>\n    <tr>\n      <th>1048559</th>\n      <td>2019-09-13</td>\n      <td>150000.0</td>\n      <td>110.0</td>\n      <td>RUE</td>\n      <td>PAUL BELLAMY</td>\n      <td>44000.0</td>\n      <td>NANTES</td>\n      <td>44</td>\n      <td>2.0</td>\n      <td>Appartement</td>\n      <td>44.0</td>\n      <td>2.0</td>\n      <td>NaN</td>\n      <td>NaN</td>\n      <td>NaN</td>\n    </tr>\n    <tr>\n      <th>1048560</th>\n      <td>2019-09-27</td>\n      <td>327152.0</td>\n      <td>28.0</td>\n      <td>RUE</td>\n      <td>MAL JOFFRE</td>\n      <td>44000.0</td>\n      <td>NANTES</td>\n      <td>44</td>\n      <td>2.0</td>\n      <td>Appartement</td>\n      <td>92.0</td>\n      <td>3.0</td>\n      <td>NaN</td>\n      <td>NaN</td>\n      <td>NaN</td>\n    </tr>\n    <tr>\n      <th>1048568</th>\n      <td>2019-09-26</td>\n      <td>160000.0</td>\n      <td>20.0</td>\n      <td>BD</td>\n      <td>VAN ISEGHEM</td>\n      <td>44000.0</td>\n      <td>NANTES</td>\n      <td>44</td>\n      <td>2.0</td>\n      <td>Appartement</td>\n      <td>32.0</td>\n      <td>1.0</td>\n      <td>NaN</td>\n      <td>NaN</td>\n      <td>NaN</td>\n    </tr>\n    <tr>\n      <th>1048570</th>\n      <td>2019-09-27</td>\n      <td>212000.0</td>\n      <td>14.0</td>\n      <td>AV</td>\n      <td>DU CIMETIERE ST CLAIR</td>\n      <td>44100.0</td>\n      <td>NANTES</td>\n      <td>44</td>\n      <td>2.0</td>\n      <td>Appartement</td>\n      <td>79.0</td>\n      <td>3.0</td>\n      <td>NaN</td>\n      <td>NaN</td>\n      <td>NaN</td>\n    </tr>\n    <tr>\n      <th>1048572</th>\n      <td>2019-09-27</td>\n      <td>89209.0</td>\n      <td>135.0</td>\n      <td>BD</td>\n      <td>DE LA LIBERTE</td>\n      <td>44100.0</td>\n      <td>NANTES</td>\n      <td>44</td>\n      <td>2.0</td>\n      <td>Appartement</td>\n      <td>22.0</td>\n      <td>1.0</td>\n      <td>NaN</td>\n      <td>NaN</td>\n      <td>NaN</td>\n    </tr>\n  </tbody>\n</table>\n</div>"
     },
     "metadata": {},
     "execution_count": 23
    }
   ],
   "source": [
    "df = pd.read_csv('/Users/ghassenabdedayem/Documents/Data/Immo/First_model/appartement_2015_2019.csv', index_col=0, parse_dates=['Date_mutation'])\n",
    "df.drop(columns=['Id'], inplace=True)\n",
    "print(df.shape)\n",
    "df.tail()"
   ]
  },
  {
   "cell_type": "code",
   "execution_count": 21,
   "metadata": {},
   "outputs": [
    {
     "output_type": "stream",
     "name": "stdout",
     "text": [
      "<class 'pandas.core.frame.DataFrame'>\nInt64Index: 152044 entries, 0 to 1048572\nData columns (total 15 columns):\n #   Column                     Non-Null Count   Dtype         \n---  ------                     --------------   -----         \n 0   Date_mutation              152044 non-null  datetime64[ns]\n 1   Valeur_fonciere            151609 non-null  float64       \n 2   No_voie                    151039 non-null  float64       \n 3   Type_de_voie               145612 non-null  object        \n 4   Voie                       152044 non-null  object        \n 5   Code_postal                152039 non-null  float64       \n 6   Commune                    152044 non-null  object        \n 7   Code_departement           152044 non-null  object        \n 8   Code_type_local            152044 non-null  float64       \n 9   Type_local                 152044 non-null  object        \n 10  Surface_reelle_bati        152040 non-null  float64       \n 11  Nombre_pieces_principales  152040 non-null  float64       \n 12  Nature_culture             35124 non-null   object        \n 13  Nature_culture_speciale    729 non-null     object        \n 14  Surface_terrain            35124 non-null   float64       \ndtypes: datetime64[ns](1), float64(7), object(7)\nmemory usage: 18.6+ MB\n"
     ]
    }
   ],
   "source": [
    "df.info()"
   ]
  },
  {
   "cell_type": "code",
   "execution_count": 24,
   "metadata": {},
   "outputs": [
    {
     "output_type": "execute_result",
     "data": {
      "text/plain": [
       "Index(['Date_mutation', 'Valeur_fonciere', 'No_voie', 'Type_de_voie', 'Voie',\n",
       "       'Code_postal', 'Commune', 'Code_departement', 'Code_type_local',\n",
       "       'Type_local', 'Surface_reelle_bati', 'Nombre_pieces_principales',\n",
       "       'Nature_culture', 'Nature_culture_speciale', 'Surface_terrain'],\n",
       "      dtype='object')"
      ]
     },
     "metadata": {},
     "execution_count": 24
    }
   ],
   "source": [
    "df.columns"
   ]
  },
  {
   "cell_type": "code",
   "execution_count": 25,
   "metadata": {},
   "outputs": [],
   "source": [
    "from functions import double_to_int"
   ]
  },
  {
   "cell_type": "code",
   "execution_count": 36,
   "metadata": {},
   "outputs": [
    {
     "output_type": "execute_result",
     "data": {
      "text/plain": [
       "(0, 15)"
      ]
     },
     "metadata": {},
     "execution_count": 36
    }
   ],
   "source": [
    "df[df['Valeur_fonciere'].isna()].shape\n",
    "df.dropna(axis=0, inplace=True, subset=['Valeur_fonciere'])\n",
    "df[df['Valeur_fonciere'].isna()].shape"
   ]
  },
  {
   "cell_type": "code",
   "execution_count": 41,
   "metadata": {},
   "outputs": [],
   "source": [
    "df.dropna(axis=0, inplace=True, subset=['Nombre_pieces_principales'])"
   ]
  },
  {
   "cell_type": "code",
   "execution_count": 43,
   "metadata": {},
   "outputs": [],
   "source": [
    "df.drop(columns=['Nature_culture', 'Nature_culture_speciale'], inplace=True)"
   ]
  },
  {
   "cell_type": "code",
   "execution_count": 49,
   "metadata": {},
   "outputs": [
    {
     "output_type": "stream",
     "name": "stdout",
     "text": [
      "(151605, 13)\n(151600, 13)\n"
     ]
    },
    {
     "output_type": "execute_result",
     "data": {
      "text/plain": [
       "      Date_mutation  Valeur_fonciere  No_voie Type_de_voie             Voie  \\\n",
       "65899    2019-01-03         118000.0      4.0          RUE  DE L IMPRIMERIE   \n",
       "65900    2019-01-03         118000.0      4.0          RUE  DE L IMPRIMERIE   \n",
       "65907    2019-01-08         130000.0     13.0          RUE     DE VALSERRES   \n",
       "65910    2019-01-08         149350.0     39.0          RUE   GEORGES POUGET   \n",
       "65916    2019-01-09         207000.0      2.0          RUE    DES LAVANDINS   \n",
       "\n",
       "       Code_postal Commune Code_departement  Code_type_local   Type_local  \\\n",
       "65899       5000.0     GAP                5              2.0  Appartement   \n",
       "65900       5000.0     GAP                5              2.0  Appartement   \n",
       "65907       5000.0     GAP                5              2.0  Appartement   \n",
       "65910       5000.0     GAP                5              2.0  Appartement   \n",
       "65916       5000.0     GAP                5              2.0  Appartement   \n",
       "\n",
       "       Surface_reelle_bati  Nombre_pieces_principales  Surface_terrain  \n",
       "65899                 23.0                        1.0              NaN  \n",
       "65900                 40.0                        2.0              NaN  \n",
       "65907                103.0                        5.0              NaN  \n",
       "65910                 71.0                        4.0              NaN  \n",
       "65916                100.0                        4.0              NaN  "
      ],
      "text/html": "<div>\n<style scoped>\n    .dataframe tbody tr th:only-of-type {\n        vertical-align: middle;\n    }\n\n    .dataframe tbody tr th {\n        vertical-align: top;\n    }\n\n    .dataframe thead th {\n        text-align: right;\n    }\n</style>\n<table border=\"1\" class=\"dataframe\">\n  <thead>\n    <tr style=\"text-align: right;\">\n      <th></th>\n      <th>Date_mutation</th>\n      <th>Valeur_fonciere</th>\n      <th>No_voie</th>\n      <th>Type_de_voie</th>\n      <th>Voie</th>\n      <th>Code_postal</th>\n      <th>Commune</th>\n      <th>Code_departement</th>\n      <th>Code_type_local</th>\n      <th>Type_local</th>\n      <th>Surface_reelle_bati</th>\n      <th>Nombre_pieces_principales</th>\n      <th>Surface_terrain</th>\n    </tr>\n  </thead>\n  <tbody>\n    <tr>\n      <th>65899</th>\n      <td>2019-01-03</td>\n      <td>118000.0</td>\n      <td>4.0</td>\n      <td>RUE</td>\n      <td>DE L IMPRIMERIE</td>\n      <td>5000.0</td>\n      <td>GAP</td>\n      <td>5</td>\n      <td>2.0</td>\n      <td>Appartement</td>\n      <td>23.0</td>\n      <td>1.0</td>\n      <td>NaN</td>\n    </tr>\n    <tr>\n      <th>65900</th>\n      <td>2019-01-03</td>\n      <td>118000.0</td>\n      <td>4.0</td>\n      <td>RUE</td>\n      <td>DE L IMPRIMERIE</td>\n      <td>5000.0</td>\n      <td>GAP</td>\n      <td>5</td>\n      <td>2.0</td>\n      <td>Appartement</td>\n      <td>40.0</td>\n      <td>2.0</td>\n      <td>NaN</td>\n    </tr>\n    <tr>\n      <th>65907</th>\n      <td>2019-01-08</td>\n      <td>130000.0</td>\n      <td>13.0</td>\n      <td>RUE</td>\n      <td>DE VALSERRES</td>\n      <td>5000.0</td>\n      <td>GAP</td>\n      <td>5</td>\n      <td>2.0</td>\n      <td>Appartement</td>\n      <td>103.0</td>\n      <td>5.0</td>\n      <td>NaN</td>\n    </tr>\n    <tr>\n      <th>65910</th>\n      <td>2019-01-08</td>\n      <td>149350.0</td>\n      <td>39.0</td>\n      <td>RUE</td>\n      <td>GEORGES POUGET</td>\n      <td>5000.0</td>\n      <td>GAP</td>\n      <td>5</td>\n      <td>2.0</td>\n      <td>Appartement</td>\n      <td>71.0</td>\n      <td>4.0</td>\n      <td>NaN</td>\n    </tr>\n    <tr>\n      <th>65916</th>\n      <td>2019-01-09</td>\n      <td>207000.0</td>\n      <td>2.0</td>\n      <td>RUE</td>\n      <td>DES LAVANDINS</td>\n      <td>5000.0</td>\n      <td>GAP</td>\n      <td>5</td>\n      <td>2.0</td>\n      <td>Appartement</td>\n      <td>100.0</td>\n      <td>4.0</td>\n      <td>NaN</td>\n    </tr>\n  </tbody>\n</table>\n</div>"
     },
     "metadata": {},
     "execution_count": 49
    }
   ],
   "source": [
    "print(df.shape)\n",
    "print(df.dropna(axis=0, subset=['Code_postal']).shape)\n",
    "# df[df['Code_postal'].isna()].head()\n",
    "df[df['Commune'] == 'GAP'].head()"
   ]
  },
  {
   "cell_type": "code",
   "execution_count": 50,
   "metadata": {},
   "outputs": [
    {
     "output_type": "execute_result",
     "data": {
      "text/plain": [
       "   Date_mutation  Valeur_fonciere  No_voie Type_de_voie             Voie  \\\n",
       "0     2019-01-04          37220.0     26.0          RUE     DE MONTHOLON   \n",
       "1     2019-01-04         185100.0     22.0          RUE  GEN DELESTRAINT   \n",
       "9     2019-01-04          65000.0     50.0          RUE        DOC NODET   \n",
       "10    2019-01-04          37000.0     68.0           AV         DE MACON   \n",
       "36    2019-01-07          75000.0   5362.0          NaN    LA MORANDIERE   \n",
       "\n",
       "    Code_postal          Commune Code_departement  Surface_reelle_bati  \\\n",
       "0        1000.0  BOURG-EN-BRESSE                1                 20.0   \n",
       "1        1000.0  BOURG-EN-BRESSE                1                 62.0   \n",
       "9        1000.0  BOURG-EN-BRESSE                1                 69.0   \n",
       "10       1000.0  BOURG-EN-BRESSE                1                 39.0   \n",
       "36       1240.0         CERTINES                1                 53.0   \n",
       "\n",
       "    Nombre_pieces_principales  \n",
       "0                         1.0  \n",
       "1                         3.0  \n",
       "9                         3.0  \n",
       "10                        1.0  \n",
       "36                        2.0  "
      ],
      "text/html": "<div>\n<style scoped>\n    .dataframe tbody tr th:only-of-type {\n        vertical-align: middle;\n    }\n\n    .dataframe tbody tr th {\n        vertical-align: top;\n    }\n\n    .dataframe thead th {\n        text-align: right;\n    }\n</style>\n<table border=\"1\" class=\"dataframe\">\n  <thead>\n    <tr style=\"text-align: right;\">\n      <th></th>\n      <th>Date_mutation</th>\n      <th>Valeur_fonciere</th>\n      <th>No_voie</th>\n      <th>Type_de_voie</th>\n      <th>Voie</th>\n      <th>Code_postal</th>\n      <th>Commune</th>\n      <th>Code_departement</th>\n      <th>Surface_reelle_bati</th>\n      <th>Nombre_pieces_principales</th>\n    </tr>\n  </thead>\n  <tbody>\n    <tr>\n      <th>0</th>\n      <td>2019-01-04</td>\n      <td>37220.0</td>\n      <td>26.0</td>\n      <td>RUE</td>\n      <td>DE MONTHOLON</td>\n      <td>1000.0</td>\n      <td>BOURG-EN-BRESSE</td>\n      <td>1</td>\n      <td>20.0</td>\n      <td>1.0</td>\n    </tr>\n    <tr>\n      <th>1</th>\n      <td>2019-01-04</td>\n      <td>185100.0</td>\n      <td>22.0</td>\n      <td>RUE</td>\n      <td>GEN DELESTRAINT</td>\n      <td>1000.0</td>\n      <td>BOURG-EN-BRESSE</td>\n      <td>1</td>\n      <td>62.0</td>\n      <td>3.0</td>\n    </tr>\n    <tr>\n      <th>9</th>\n      <td>2019-01-04</td>\n      <td>65000.0</td>\n      <td>50.0</td>\n      <td>RUE</td>\n      <td>DOC NODET</td>\n      <td>1000.0</td>\n      <td>BOURG-EN-BRESSE</td>\n      <td>1</td>\n      <td>69.0</td>\n      <td>3.0</td>\n    </tr>\n    <tr>\n      <th>10</th>\n      <td>2019-01-04</td>\n      <td>37000.0</td>\n      <td>68.0</td>\n      <td>AV</td>\n      <td>DE MACON</td>\n      <td>1000.0</td>\n      <td>BOURG-EN-BRESSE</td>\n      <td>1</td>\n      <td>39.0</td>\n      <td>1.0</td>\n    </tr>\n    <tr>\n      <th>36</th>\n      <td>2019-01-07</td>\n      <td>75000.0</td>\n      <td>5362.0</td>\n      <td>NaN</td>\n      <td>LA MORANDIERE</td>\n      <td>1240.0</td>\n      <td>CERTINES</td>\n      <td>1</td>\n      <td>53.0</td>\n      <td>2.0</td>\n    </tr>\n  </tbody>\n</table>\n</div>"
     },
     "metadata": {},
     "execution_count": 50
    }
   ],
   "source": [
    "df.drop(columns=['Type_local', 'Code_type_local', 'Surface_terrain'], inplace = True)\n",
    "df.head()"
   ]
  },
  {
   "cell_type": "code",
   "execution_count": 52,
   "metadata": {},
   "outputs": [
    {
     "output_type": "stream",
     "name": "stdout",
     "text": [
      "(151605, 10)\n"
     ]
    }
   ],
   "source": [
    "print(df.dropna(axis=0, subset=['Surface_reelle_bati']).shape)"
   ]
  },
  {
   "cell_type": "code",
   "execution_count": 69,
   "metadata": {},
   "outputs": [
    {
     "output_type": "execute_result",
     "data": {
      "text/plain": [
       "        Date_mutation  Valeur_fonciere  No_voie Type_de_voie          Voie  \\\n",
       "1048545    2019-09-20         429389.3      2.0          RUE    DE LA PAIX   \n",
       "1048558    2019-09-13         150000.0    110.0          RUE  PAUL BELLAMY   \n",
       "1048559    2019-09-13         150000.0    110.0          RUE  PAUL BELLAMY   \n",
       "1048560    2019-09-27         327152.0     28.0          RUE    MAL JOFFRE   \n",
       "1048568    2019-09-26         160000.0     20.0           BD   VAN ISEGHEM   \n",
       "\n",
       "         Code_postal Commune Code_departement  Surface_reelle_bati  \\\n",
       "1048545      44000.0  NANTES               44                120.0   \n",
       "1048558      44000.0  NANTES               44                  1.0   \n",
       "1048559      44000.0  NANTES               44                 44.0   \n",
       "1048560      44000.0  NANTES               44                 92.0   \n",
       "1048568      44000.0  NANTES               44                 32.0   \n",
       "\n",
       "         Nombre_pieces_principales     prix_par_m  \n",
       "1048545                        4.0    3578.244167  \n",
       "1048558                        0.0  150000.000000  \n",
       "1048559                        2.0    3409.090909  \n",
       "1048560                        3.0    3556.000000  \n",
       "1048568                        1.0    5000.000000  "
      ],
      "text/html": "<div>\n<style scoped>\n    .dataframe tbody tr th:only-of-type {\n        vertical-align: middle;\n    }\n\n    .dataframe tbody tr th {\n        vertical-align: top;\n    }\n\n    .dataframe thead th {\n        text-align: right;\n    }\n</style>\n<table border=\"1\" class=\"dataframe\">\n  <thead>\n    <tr style=\"text-align: right;\">\n      <th></th>\n      <th>Date_mutation</th>\n      <th>Valeur_fonciere</th>\n      <th>No_voie</th>\n      <th>Type_de_voie</th>\n      <th>Voie</th>\n      <th>Code_postal</th>\n      <th>Commune</th>\n      <th>Code_departement</th>\n      <th>Surface_reelle_bati</th>\n      <th>Nombre_pieces_principales</th>\n      <th>prix_par_m</th>\n    </tr>\n  </thead>\n  <tbody>\n    <tr>\n      <th>1048545</th>\n      <td>2019-09-20</td>\n      <td>429389.3</td>\n      <td>2.0</td>\n      <td>RUE</td>\n      <td>DE LA PAIX</td>\n      <td>44000.0</td>\n      <td>NANTES</td>\n      <td>44</td>\n      <td>120.0</td>\n      <td>4.0</td>\n      <td>3578.244167</td>\n    </tr>\n    <tr>\n      <th>1048558</th>\n      <td>2019-09-13</td>\n      <td>150000.0</td>\n      <td>110.0</td>\n      <td>RUE</td>\n      <td>PAUL BELLAMY</td>\n      <td>44000.0</td>\n      <td>NANTES</td>\n      <td>44</td>\n      <td>1.0</td>\n      <td>0.0</td>\n      <td>150000.000000</td>\n    </tr>\n    <tr>\n      <th>1048559</th>\n      <td>2019-09-13</td>\n      <td>150000.0</td>\n      <td>110.0</td>\n      <td>RUE</td>\n      <td>PAUL BELLAMY</td>\n      <td>44000.0</td>\n      <td>NANTES</td>\n      <td>44</td>\n      <td>44.0</td>\n      <td>2.0</td>\n      <td>3409.090909</td>\n    </tr>\n    <tr>\n      <th>1048560</th>\n      <td>2019-09-27</td>\n      <td>327152.0</td>\n      <td>28.0</td>\n      <td>RUE</td>\n      <td>MAL JOFFRE</td>\n      <td>44000.0</td>\n      <td>NANTES</td>\n      <td>44</td>\n      <td>92.0</td>\n      <td>3.0</td>\n      <td>3556.000000</td>\n    </tr>\n    <tr>\n      <th>1048568</th>\n      <td>2019-09-26</td>\n      <td>160000.0</td>\n      <td>20.0</td>\n      <td>BD</td>\n      <td>VAN ISEGHEM</td>\n      <td>44000.0</td>\n      <td>NANTES</td>\n      <td>44</td>\n      <td>32.0</td>\n      <td>1.0</td>\n      <td>5000.000000</td>\n    </tr>\n  </tbody>\n</table>\n</div>"
     },
     "metadata": {},
     "execution_count": 69
    }
   ],
   "source": [
    "df['prix_par_m'] = df['Valeur_fonciere'] / df['Surface_reelle_bati']\n",
    "df[df['Code_postal'] == 44000.0 ].tail()"
   ]
  },
  {
   "cell_type": "code",
   "execution_count": null,
   "metadata": {},
   "outputs": [],
   "source": []
  }
 ]
}