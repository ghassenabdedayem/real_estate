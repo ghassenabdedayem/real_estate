{
 "cells": [
  {
   "cell_type": "code",
   "execution_count": 1,
   "metadata": {
    "azdata_cell_guid": "54568f1d-5454-4880-a88c-7f8f4008f8d7"
   },
   "outputs": [],
   "source": [
    "import pandas as pd"
   ]
  },
  {
   "cell_type": "code",
   "execution_count": 2,
   "metadata": {
    "azdata_cell_guid": "bb726bf9-4348-489a-965f-523729154faf"
   },
   "outputs": [],
   "source": [
    "import numpy as np\n",
    "import matplotlib as plt\n",
    "import sklearn as sk"
   ]
  },
  {
   "cell_type": "code",
   "execution_count": 3,
   "metadata": {
    "azdata_cell_guid": "8f1b6263-4b33-4215-95f8-c7986c875043"
   },
   "outputs": [],
   "source": [
    "import seaborn as sns\n",
    "import time"
   ]
  },
  {
   "cell_type": "code",
   "execution_count": 5,
   "metadata": {
    "azdata_cell_guid": "31c722d2-d735-41e8-ae0e-2b9664448893",
    "tags": []
   },
   "outputs": [
    {
     "output_type": "execute_result",
     "data": {
      "text/plain": [
       "    No_disposition Date_mutation Nature_mutation  Valeur_fonciere  No_voie  \\\n",
       "Id                                                                           \n",
       "0                1    2019-04-01           Vente          37220.0     26.0   \n",
       "1                1    2019-04-01           Vente         185100.0     22.0   \n",
       "2                1    2019-04-01           Vente         185100.0     22.0   \n",
       "3                1    2019-08-01           Vente         209000.0      3.0   \n",
       "4                1    2019-07-01           Vente         134900.0      5.0   \n",
       "\n",
       "   Type_de_voie             Voie  Code_postal                Commune  \\\n",
       "Id                                                                     \n",
       "0           RUE     DE MONTHOLON       1000.0        BOURG-EN-BRESSE   \n",
       "1           RUE  GEN DELESTRAINT       1000.0        BOURG-EN-BRESSE   \n",
       "2           RUE  GEN DELESTRAINT       1000.0        BOURG-EN-BRESSE   \n",
       "3           RUE   DES CHAMPAGNES       1160.0                  PRIAY   \n",
       "4           LOT        LE BIOLAY       1370.0  SAINT-ETIENNE-DU-BOIS   \n",
       "\n",
       "   Code_departement  ... 5eme_lot  Surface_Carrez_du_5eme_lot Nombre_de_lots  \\\n",
       "Id                   ...                                                       \n",
       "0                01  ...      NaN                         NaN              1   \n",
       "1                01  ...      NaN                         NaN              2   \n",
       "2                01  ...      NaN                         NaN              1   \n",
       "3                01  ...      NaN                         NaN              0   \n",
       "4                01  ...      NaN                         NaN              0   \n",
       "\n",
       "    Code_type_local   Type_local  Surface_reelle_bati  \\\n",
       "Id                                                      \n",
       "0               2.0  Appartement                 20.0   \n",
       "1               2.0  Appartement                 62.0   \n",
       "2               3.0   Dépendance                  0.0   \n",
       "3               1.0       Maison                 90.0   \n",
       "4               1.0       Maison                101.0   \n",
       "\n",
       "   Nombre_pieces_principales  Nature_culture Nature_culture_speciale  \\\n",
       "Id                                                                     \n",
       "0                        1.0             NaN                     NaN   \n",
       "1                        3.0             NaN                     NaN   \n",
       "2                        0.0             NaN                     NaN   \n",
       "3                        4.0               S                     NaN   \n",
       "4                        5.0               S                     NaN   \n",
       "\n",
       "    Surface_terrain  \n",
       "Id                   \n",
       "0               NaN  \n",
       "1               NaN  \n",
       "2               NaN  \n",
       "3             940.0  \n",
       "4             490.0  \n",
       "\n",
       "[5 rows x 28 columns]"
      ],
      "text/html": "<div>\n<style scoped>\n    .dataframe tbody tr th:only-of-type {\n        vertical-align: middle;\n    }\n\n    .dataframe tbody tr th {\n        vertical-align: top;\n    }\n\n    .dataframe thead th {\n        text-align: right;\n    }\n</style>\n<table border=\"1\" class=\"dataframe\">\n  <thead>\n    <tr style=\"text-align: right;\">\n      <th></th>\n      <th>No_disposition</th>\n      <th>Date_mutation</th>\n      <th>Nature_mutation</th>\n      <th>Valeur_fonciere</th>\n      <th>No_voie</th>\n      <th>Type_de_voie</th>\n      <th>Voie</th>\n      <th>Code_postal</th>\n      <th>Commune</th>\n      <th>Code_departement</th>\n      <th>...</th>\n      <th>5eme_lot</th>\n      <th>Surface_Carrez_du_5eme_lot</th>\n      <th>Nombre_de_lots</th>\n      <th>Code_type_local</th>\n      <th>Type_local</th>\n      <th>Surface_reelle_bati</th>\n      <th>Nombre_pieces_principales</th>\n      <th>Nature_culture</th>\n      <th>Nature_culture_speciale</th>\n      <th>Surface_terrain</th>\n    </tr>\n    <tr>\n      <th>Id</th>\n      <th></th>\n      <th></th>\n      <th></th>\n      <th></th>\n      <th></th>\n      <th></th>\n      <th></th>\n      <th></th>\n      <th></th>\n      <th></th>\n      <th></th>\n      <th></th>\n      <th></th>\n      <th></th>\n      <th></th>\n      <th></th>\n      <th></th>\n      <th></th>\n      <th></th>\n      <th></th>\n      <th></th>\n    </tr>\n  </thead>\n  <tbody>\n    <tr>\n      <th>0</th>\n      <td>1</td>\n      <td>2019-04-01</td>\n      <td>Vente</td>\n      <td>37220.0</td>\n      <td>26.0</td>\n      <td>RUE</td>\n      <td>DE MONTHOLON</td>\n      <td>1000.0</td>\n      <td>BOURG-EN-BRESSE</td>\n      <td>01</td>\n      <td>...</td>\n      <td>NaN</td>\n      <td>NaN</td>\n      <td>1</td>\n      <td>2.0</td>\n      <td>Appartement</td>\n      <td>20.0</td>\n      <td>1.0</td>\n      <td>NaN</td>\n      <td>NaN</td>\n      <td>NaN</td>\n    </tr>\n    <tr>\n      <th>1</th>\n      <td>1</td>\n      <td>2019-04-01</td>\n      <td>Vente</td>\n      <td>185100.0</td>\n      <td>22.0</td>\n      <td>RUE</td>\n      <td>GEN DELESTRAINT</td>\n      <td>1000.0</td>\n      <td>BOURG-EN-BRESSE</td>\n      <td>01</td>\n      <td>...</td>\n      <td>NaN</td>\n      <td>NaN</td>\n      <td>2</td>\n      <td>2.0</td>\n      <td>Appartement</td>\n      <td>62.0</td>\n      <td>3.0</td>\n      <td>NaN</td>\n      <td>NaN</td>\n      <td>NaN</td>\n    </tr>\n    <tr>\n      <th>2</th>\n      <td>1</td>\n      <td>2019-04-01</td>\n      <td>Vente</td>\n      <td>185100.0</td>\n      <td>22.0</td>\n      <td>RUE</td>\n      <td>GEN DELESTRAINT</td>\n      <td>1000.0</td>\n      <td>BOURG-EN-BRESSE</td>\n      <td>01</td>\n      <td>...</td>\n      <td>NaN</td>\n      <td>NaN</td>\n      <td>1</td>\n      <td>3.0</td>\n      <td>Dépendance</td>\n      <td>0.0</td>\n      <td>0.0</td>\n      <td>NaN</td>\n      <td>NaN</td>\n      <td>NaN</td>\n    </tr>\n    <tr>\n      <th>3</th>\n      <td>1</td>\n      <td>2019-08-01</td>\n      <td>Vente</td>\n      <td>209000.0</td>\n      <td>3.0</td>\n      <td>RUE</td>\n      <td>DES CHAMPAGNES</td>\n      <td>1160.0</td>\n      <td>PRIAY</td>\n      <td>01</td>\n      <td>...</td>\n      <td>NaN</td>\n      <td>NaN</td>\n      <td>0</td>\n      <td>1.0</td>\n      <td>Maison</td>\n      <td>90.0</td>\n      <td>4.0</td>\n      <td>S</td>\n      <td>NaN</td>\n      <td>940.0</td>\n    </tr>\n    <tr>\n      <th>4</th>\n      <td>1</td>\n      <td>2019-07-01</td>\n      <td>Vente</td>\n      <td>134900.0</td>\n      <td>5.0</td>\n      <td>LOT</td>\n      <td>LE BIOLAY</td>\n      <td>1370.0</td>\n      <td>SAINT-ETIENNE-DU-BOIS</td>\n      <td>01</td>\n      <td>...</td>\n      <td>NaN</td>\n      <td>NaN</td>\n      <td>0</td>\n      <td>1.0</td>\n      <td>Maison</td>\n      <td>101.0</td>\n      <td>5.0</td>\n      <td>S</td>\n      <td>NaN</td>\n      <td>490.0</td>\n    </tr>\n  </tbody>\n</table>\n<p>5 rows × 28 columns</p>\n</div>"
     },
     "metadata": {},
     "execution_count": 5
    }
   ],
   "source": [
    "df = pd.read_csv('../Destination_2015_2019.csv', low_memory=False)\n",
    "df.rename(columns={'Unnamed: 0' : 'Id'}, inplace=True)\n",
    "df.set_index(keys=['Id'], inplace=True)\n",
    "df.head()"
   ]
  },
  {
   "cell_type": "code",
   "execution_count": 6,
   "metadata": {
    "azdata_cell_guid": "aa977aaf-c272-45ee-a9d0-3ec762646685"
   },
   "outputs": [
    {
     "output_type": "execute_result",
     "data": {
      "text/plain": [
       "(14880473, 28)"
      ]
     },
     "metadata": {},
     "execution_count": 6
    }
   ],
   "source": [
    "df.shape"
   ]
  },
  {
   "cell_type": "code",
   "execution_count": 7,
   "metadata": {
    "azdata_cell_guid": "582c87e6-da1e-449c-ad10-81348e0f7b42"
   },
   "outputs": [
    {
     "output_type": "execute_result",
     "data": {
      "text/plain": [
       "(13764742, 27)"
      ]
     },
     "metadata": {},
     "execution_count": 7
    }
   ],
   "source": [
    "df = df[df['No_disposition'] == 1]\n",
    "df.drop(columns=['No_disposition' ], inplace=True)\n",
    "df.shape"
   ]
  },
  {
   "cell_type": "code",
   "execution_count": 8,
   "metadata": {},
   "outputs": [
    {
     "output_type": "execute_result",
     "data": {
      "text/plain": [
       "(12480780, 26)"
      ]
     },
     "metadata": {},
     "execution_count": 8
    }
   ],
   "source": [
    "df = df[df['Nature_mutation'] == 'Vente']\n",
    "df.drop(columns=['Nature_mutation'], inplace=True)\n",
    "df.shape"
   ]
  },
  {
   "cell_type": "code",
   "execution_count": 8,
   "metadata": {},
   "outputs": [
    {
     "output_type": "execute_result",
     "data": {
      "text/plain": [
       "Index(['Date_mutation', 'Valeur_fonciere', 'No_voie', 'Type_de_voie', 'Voie',\n",
       "       'Code_postal', 'Commune', 'Code_departement', '1er_lot',\n",
       "       'Surface_Carrez_du_1er_lot', '2eme_lot', 'Surface_Carrez_du_2eme_lot',\n",
       "       '3eme_lot', 'Surface_Carrez_du_3eme_lot', '4eme_lot',\n",
       "       'Surface_Carrez_du_4eme_lot', '5eme_lot', 'Surface_Carrez_du_5eme_lot',\n",
       "       'Nombre_de_lots', 'Code_type_local', 'Type_local',\n",
       "       'Surface_reelle_bati', 'Nombre_pieces_principales', 'Nature_culture',\n",
       "       'Nature_culture_speciale', 'Surface_terrain'],\n",
       "      dtype='object')"
      ]
     },
     "metadata": {},
     "execution_count": 8
    }
   ],
   "source": [
    "df.columns"
   ]
  },
  {
   "cell_type": "code",
   "execution_count": 9,
   "metadata": {},
   "outputs": [
    {
     "output_type": "execute_result",
     "data": {
      "text/plain": [
       "(12480780, 14)"
      ]
     },
     "metadata": {},
     "execution_count": 9
    }
   ],
   "source": [
    "df.drop(columns=['1er_lot', 'Surface_Carrez_du_1er_lot', '2eme_lot', 'Surface_Carrez_du_2eme_lot',\n",
    "       '3eme_lot', 'Surface_Carrez_du_3eme_lot', '4eme_lot',\n",
    "       'Surface_Carrez_du_4eme_lot', '5eme_lot', 'Surface_Carrez_du_5eme_lot',\n",
    "       'Nombre_de_lots', 'Code_type_local'], inplace=True)\n",
    "df.shape"
   ]
  },
  {
   "cell_type": "code",
   "execution_count": 10,
   "metadata": {},
   "outputs": [
    {
     "output_type": "execute_result",
     "data": {
      "text/plain": [
       "(12480780, 12)"
      ]
     },
     "metadata": {},
     "execution_count": 10
    }
   ],
   "source": [
    "df.drop(columns=['Nature_culture', 'Nature_culture_speciale'], inplace=True)\n",
    "df.shape"
   ]
  },
  {
   "cell_type": "code",
   "execution_count": 12,
   "metadata": {},
   "outputs": [],
   "source": [
    "df['Prix_par_m_bati'] = df['Valeur_fonciere']/df['Surface_reelle_bati']\n",
    "df['Prix_par_m_terrain'] = df['Valeur_fonciere']/df['Surface_terrain']\n"
   ]
  },
  {
   "cell_type": "code",
   "execution_count": 13,
   "metadata": {
    "azdata_cell_guid": "2f6efce2-c286-4f59-a4c8-338f357a7e38"
   },
   "outputs": [
    {
     "output_type": "stream",
     "name": "stdout",
     "text": [
      "<class 'numpy.float64'>\n"
     ]
    },
    {
     "output_type": "execute_result",
     "data": {
      "text/plain": [
       "         Date_mutation  Valeur_fonciere  No_voie Type_de_voie  \\\n",
       "Id                                                              \n",
       "14880465    2015-12-30         642500.0     29.0          RUE   \n",
       "14880466    2015-12-30        1020000.0      1.0          RUE   \n",
       "14880467    2015-12-30         495000.0     22.0          RUE   \n",
       "14880468    2015-07-22         223000.0    141.0          RUE   \n",
       "14880471    2015-10-29          38000.0     17.0           PL   \n",
       "\n",
       "                          Voie  Code_postal   Commune Code_departement  \\\n",
       "Id                                                                       \n",
       "14880465  DES FRANCS BOURGEOIS      75004.0  PARIS 04               75   \n",
       "14880466            BACHAUMONT      75002.0  PARIS 02               75   \n",
       "14880467            SAINT PAUL      75004.0  PARIS 04               75   \n",
       "14880468           SAINT DENIS      75002.0  PARIS 02               75   \n",
       "14880471            DES VOSGES      75004.0  PARIS 04               75   \n",
       "\n",
       "           Type_local  Surface_reelle_bati  Nombre_pieces_principales  \\\n",
       "Id                                                                      \n",
       "14880465  Appartement                 51.0                        3.0   \n",
       "14880466  Appartement                 89.0                        4.0   \n",
       "14880467  Appartement                 20.0                        0.0   \n",
       "14880468  Appartement                 19.0                        1.0   \n",
       "14880471   Dépendance                  0.0                        0.0   \n",
       "\n",
       "          Surface_terrain  Prix_par_m_bati  Prix_par_m_terrain  \n",
       "Id                                                              \n",
       "14880465              NaN     1.259804e+04                 NaN  \n",
       "14880466              NaN     1.146067e+04                 NaN  \n",
       "14880467              NaN     2.475000e+04                 NaN  \n",
       "14880468              NaN     1.173684e+04                 NaN  \n",
       "14880471              NaN              inf                 NaN  "
      ],
      "text/html": "<div>\n<style scoped>\n    .dataframe tbody tr th:only-of-type {\n        vertical-align: middle;\n    }\n\n    .dataframe tbody tr th {\n        vertical-align: top;\n    }\n\n    .dataframe thead th {\n        text-align: right;\n    }\n</style>\n<table border=\"1\" class=\"dataframe\">\n  <thead>\n    <tr style=\"text-align: right;\">\n      <th></th>\n      <th>Date_mutation</th>\n      <th>Valeur_fonciere</th>\n      <th>No_voie</th>\n      <th>Type_de_voie</th>\n      <th>Voie</th>\n      <th>Code_postal</th>\n      <th>Commune</th>\n      <th>Code_departement</th>\n      <th>Type_local</th>\n      <th>Surface_reelle_bati</th>\n      <th>Nombre_pieces_principales</th>\n      <th>Surface_terrain</th>\n      <th>Prix_par_m_bati</th>\n      <th>Prix_par_m_terrain</th>\n    </tr>\n    <tr>\n      <th>Id</th>\n      <th></th>\n      <th></th>\n      <th></th>\n      <th></th>\n      <th></th>\n      <th></th>\n      <th></th>\n      <th></th>\n      <th></th>\n      <th></th>\n      <th></th>\n      <th></th>\n      <th></th>\n      <th></th>\n    </tr>\n  </thead>\n  <tbody>\n    <tr>\n      <th>14880465</th>\n      <td>2015-12-30</td>\n      <td>642500.0</td>\n      <td>29.0</td>\n      <td>RUE</td>\n      <td>DES FRANCS BOURGEOIS</td>\n      <td>75004.0</td>\n      <td>PARIS 04</td>\n      <td>75</td>\n      <td>Appartement</td>\n      <td>51.0</td>\n      <td>3.0</td>\n      <td>NaN</td>\n      <td>1.259804e+04</td>\n      <td>NaN</td>\n    </tr>\n    <tr>\n      <th>14880466</th>\n      <td>2015-12-30</td>\n      <td>1020000.0</td>\n      <td>1.0</td>\n      <td>RUE</td>\n      <td>BACHAUMONT</td>\n      <td>75002.0</td>\n      <td>PARIS 02</td>\n      <td>75</td>\n      <td>Appartement</td>\n      <td>89.0</td>\n      <td>4.0</td>\n      <td>NaN</td>\n      <td>1.146067e+04</td>\n      <td>NaN</td>\n    </tr>\n    <tr>\n      <th>14880467</th>\n      <td>2015-12-30</td>\n      <td>495000.0</td>\n      <td>22.0</td>\n      <td>RUE</td>\n      <td>SAINT PAUL</td>\n      <td>75004.0</td>\n      <td>PARIS 04</td>\n      <td>75</td>\n      <td>Appartement</td>\n      <td>20.0</td>\n      <td>0.0</td>\n      <td>NaN</td>\n      <td>2.475000e+04</td>\n      <td>NaN</td>\n    </tr>\n    <tr>\n      <th>14880468</th>\n      <td>2015-07-22</td>\n      <td>223000.0</td>\n      <td>141.0</td>\n      <td>RUE</td>\n      <td>SAINT DENIS</td>\n      <td>75002.0</td>\n      <td>PARIS 02</td>\n      <td>75</td>\n      <td>Appartement</td>\n      <td>19.0</td>\n      <td>1.0</td>\n      <td>NaN</td>\n      <td>1.173684e+04</td>\n      <td>NaN</td>\n    </tr>\n    <tr>\n      <th>14880471</th>\n      <td>2015-10-29</td>\n      <td>38000.0</td>\n      <td>17.0</td>\n      <td>PL</td>\n      <td>DES VOSGES</td>\n      <td>75004.0</td>\n      <td>PARIS 04</td>\n      <td>75</td>\n      <td>Dépendance</td>\n      <td>0.0</td>\n      <td>0.0</td>\n      <td>NaN</td>\n      <td>inf</td>\n      <td>NaN</td>\n    </tr>\n  </tbody>\n</table>\n</div>"
     },
     "metadata": {},
     "execution_count": 13
    }
   ],
   "source": [
    "print(type(df['Prix_par_m_bati'][14880471]))\n",
    "df.tail()\n"
   ]
  },
  {
   "cell_type": "code",
   "execution_count": 21,
   "metadata": {},
   "outputs": [
    {
     "output_type": "execute_result",
     "data": {
      "text/plain": [
       "Index(['Date_mutation', 'Valeur_fonciere', 'No_voie', 'Type_de_voie', 'Voie',\n",
       "       'Code_postal', 'Commune', 'Code_departement', 'Type_local',\n",
       "       'Surface_reelle_bati', 'Nombre_pieces_principales', 'Surface_terrain',\n",
       "       'Prix_par_m_bati', 'Prix_par_m_terrain'],\n",
       "      dtype='object')"
      ]
     },
     "metadata": {},
     "execution_count": 21
    }
   ],
   "source": [
    "df.columns"
   ]
  },
  {
   "cell_type": "code",
   "execution_count": 14,
   "metadata": {},
   "outputs": [],
   "source": [
    "df.Prix_par_m_bati.fillna(0, inplace=True)\n",
    "df.Prix_par_m_terrain.fillna(0, inplace=True)\n",
    "df.replace(np.inf, 0, inplace=True)"
   ]
  },
  {
   "cell_type": "code",
   "execution_count": 37,
   "metadata": {},
   "outputs": [
    {
     "output_type": "stream",
     "name": "stdout",
     "text": [
      "(2323975, 14)\n"
     ]
    },
    {
     "output_type": "execute_result",
     "data": {
      "text/plain": [
       "(2781103, 14)"
      ]
     },
     "metadata": {},
     "execution_count": 37
    }
   ],
   "source": [
    "print(df[df['Type_local'] == 'Appartement'].shape)\n",
    "df[df['Type_local'] == 'Maison'].shape"
   ]
  },
  {
   "cell_type": "code",
   "execution_count": 12,
   "metadata": {},
   "outputs": [
    {
     "output_type": "execute_result",
     "data": {
      "text/plain": [
       "<AxesSubplot:xlabel='Type_local', ylabel='count'>"
      ]
     },
     "metadata": {},
     "execution_count": 12
    },
    {
     "output_type": "display_data",
     "data": {
      "text/plain": "<Figure size 432x288 with 1 Axes>",
      "image/svg+xml": "<?xml version=\"1.0\" encoding=\"utf-8\" standalone=\"no\"?>\n<!DOCTYPE svg PUBLIC \"-//W3C//DTD SVG 1.1//EN\"\n  \"http://www.w3.org/Graphics/SVG/1.1/DTD/svg11.dtd\">\n<!-- Created with matplotlib (https://matplotlib.org/) -->\n<svg height=\"273.472812pt\" version=\"1.1\" viewBox=\"0 0 443.988281 273.472812\" width=\"443.988281pt\" xmlns=\"http://www.w3.org/2000/svg\" xmlns:xlink=\"http://www.w3.org/1999/xlink\">\n <metadata>\n  <rdf:RDF xmlns:cc=\"http://creativecommons.org/ns#\" xmlns:dc=\"http://purl.org/dc/elements/1.1/\" xmlns:rdf=\"http://www.w3.org/1999/02/22-rdf-syntax-ns#\">\n   <cc:Work>\n    <dc:type rdf:resource=\"http://purl.org/dc/dcmitype/StillImage\"/>\n    <dc:date>2021-01-16T00:23:55.286443</dc:date>\n    <dc:format>image/svg+xml</dc:format>\n    <dc:creator>\n     <cc:Agent>\n      <dc:title>Matplotlib v3.3.2, https://matplotlib.org/</dc:title>\n     </cc:Agent>\n    </dc:creator>\n   </cc:Work>\n  </rdf:RDF>\n </metadata>\n <defs>\n  <style type=\"text/css\">*{stroke-linecap:butt;stroke-linejoin:round;}</style>\n </defs>\n <g id=\"figure_1\">\n  <g id=\"patch_1\">\n   <path d=\"M 0 273.472812 \nL 443.988281 273.472812 \nL 443.988281 0 \nL 0 0 \nz\n\" style=\"fill:none;\"/>\n  </g>\n  <g id=\"axes_1\">\n   <g id=\"patch_2\">\n    <path d=\"M 43.78125 235.238437 \nL 378.58125 235.238437 \nL 378.58125 17.798437 \nL 43.78125 17.798437 \nz\n\" style=\"fill:#ffffff;\"/>\n   </g>\n   <g id=\"patch_3\">\n    <path clip-path=\"url(#p3abc51209e)\" d=\"M 52.15125 235.238437 \nL 119.11125 235.238437 \nL 119.11125 62.191261 \nL 52.15125 62.191261 \nz\n\" style=\"fill:#3274a1;\"/>\n   </g>\n   <g id=\"patch_4\">\n    <path clip-path=\"url(#p3abc51209e)\" d=\"M 135.85125 235.238437 \nL 202.81125 235.238437 \nL 202.81125 107.927585 \nL 135.85125 107.927585 \nz\n\" style=\"fill:#e1812c;\"/>\n   </g>\n   <g id=\"patch_5\">\n    <path clip-path=\"url(#p3abc51209e)\" d=\"M 219.55125 235.238437 \nL 286.51125 235.238437 \nL 286.51125 28.152723 \nL 219.55125 28.152723 \nz\n\" style=\"fill:#3a923a;\"/>\n   </g>\n   <g id=\"patch_6\">\n    <path clip-path=\"url(#p3abc51209e)\" d=\"M 303.25125 235.238437 \nL 370.21125 235.238437 \nL 370.21125 199.493759 \nL 303.25125 199.493759 \nz\n\" style=\"fill:#c03d3e;\"/>\n   </g>\n   <g id=\"matplotlib.axis_1\">\n    <g id=\"xtick_1\">\n     <g id=\"line2d_1\">\n      <defs>\n       <path d=\"M 0 0 \nL 0 3.5 \n\" id=\"mb19c4063fa\" style=\"stroke:#000000;stroke-width:0.8;\"/>\n      </defs>\n      <g>\n       <use style=\"stroke:#000000;stroke-width:0.8;\" x=\"85.63125\" xlink:href=\"#mb19c4063fa\" y=\"235.238437\"/>\n      </g>\n     </g>\n     <g id=\"text_1\">\n      <!-- Appartement -->\n      <g transform=\"translate(52.630469 249.836875)scale(0.1 -0.1)\">\n       <defs>\n        <path d=\"M 34.1875 63.1875 \nL 20.796875 26.90625 \nL 47.609375 26.90625 \nz\nM 28.609375 72.90625 \nL 39.796875 72.90625 \nL 67.578125 0 \nL 57.328125 0 \nL 50.6875 18.703125 \nL 17.828125 18.703125 \nL 11.1875 0 \nL 0.78125 0 \nz\n\" id=\"DejaVuSans-65\"/>\n        <path d=\"M 18.109375 8.203125 \nL 18.109375 -20.796875 \nL 9.078125 -20.796875 \nL 9.078125 54.6875 \nL 18.109375 54.6875 \nL 18.109375 46.390625 \nQ 20.953125 51.265625 25.265625 53.625 \nQ 29.59375 56 35.59375 56 \nQ 45.5625 56 51.78125 48.09375 \nQ 58.015625 40.1875 58.015625 27.296875 \nQ 58.015625 14.40625 51.78125 6.484375 \nQ 45.5625 -1.421875 35.59375 -1.421875 \nQ 29.59375 -1.421875 25.265625 0.953125 \nQ 20.953125 3.328125 18.109375 8.203125 \nz\nM 48.6875 27.296875 \nQ 48.6875 37.203125 44.609375 42.84375 \nQ 40.53125 48.484375 33.40625 48.484375 \nQ 26.265625 48.484375 22.1875 42.84375 \nQ 18.109375 37.203125 18.109375 27.296875 \nQ 18.109375 17.390625 22.1875 11.75 \nQ 26.265625 6.109375 33.40625 6.109375 \nQ 40.53125 6.109375 44.609375 11.75 \nQ 48.6875 17.390625 48.6875 27.296875 \nz\n\" id=\"DejaVuSans-112\"/>\n        <path d=\"M 34.28125 27.484375 \nQ 23.390625 27.484375 19.1875 25 \nQ 14.984375 22.515625 14.984375 16.5 \nQ 14.984375 11.71875 18.140625 8.90625 \nQ 21.296875 6.109375 26.703125 6.109375 \nQ 34.1875 6.109375 38.703125 11.40625 \nQ 43.21875 16.703125 43.21875 25.484375 \nL 43.21875 27.484375 \nz\nM 52.203125 31.203125 \nL 52.203125 0 \nL 43.21875 0 \nL 43.21875 8.296875 \nQ 40.140625 3.328125 35.546875 0.953125 \nQ 30.953125 -1.421875 24.3125 -1.421875 \nQ 15.921875 -1.421875 10.953125 3.296875 \nQ 6 8.015625 6 15.921875 \nQ 6 25.140625 12.171875 29.828125 \nQ 18.359375 34.515625 30.609375 34.515625 \nL 43.21875 34.515625 \nL 43.21875 35.40625 \nQ 43.21875 41.609375 39.140625 45 \nQ 35.0625 48.390625 27.6875 48.390625 \nQ 23 48.390625 18.546875 47.265625 \nQ 14.109375 46.140625 10.015625 43.890625 \nL 10.015625 52.203125 \nQ 14.9375 54.109375 19.578125 55.046875 \nQ 24.21875 56 28.609375 56 \nQ 40.484375 56 46.34375 49.84375 \nQ 52.203125 43.703125 52.203125 31.203125 \nz\n\" id=\"DejaVuSans-97\"/>\n        <path d=\"M 41.109375 46.296875 \nQ 39.59375 47.171875 37.8125 47.578125 \nQ 36.03125 48 33.890625 48 \nQ 26.265625 48 22.1875 43.046875 \nQ 18.109375 38.09375 18.109375 28.8125 \nL 18.109375 0 \nL 9.078125 0 \nL 9.078125 54.6875 \nL 18.109375 54.6875 \nL 18.109375 46.1875 \nQ 20.953125 51.171875 25.484375 53.578125 \nQ 30.03125 56 36.53125 56 \nQ 37.453125 56 38.578125 55.875 \nQ 39.703125 55.765625 41.0625 55.515625 \nz\n\" id=\"DejaVuSans-114\"/>\n        <path d=\"M 18.3125 70.21875 \nL 18.3125 54.6875 \nL 36.8125 54.6875 \nL 36.8125 47.703125 \nL 18.3125 47.703125 \nL 18.3125 18.015625 \nQ 18.3125 11.328125 20.140625 9.421875 \nQ 21.96875 7.515625 27.59375 7.515625 \nL 36.8125 7.515625 \nL 36.8125 0 \nL 27.59375 0 \nQ 17.1875 0 13.234375 3.875 \nQ 9.28125 7.765625 9.28125 18.015625 \nL 9.28125 47.703125 \nL 2.6875 47.703125 \nL 2.6875 54.6875 \nL 9.28125 54.6875 \nL 9.28125 70.21875 \nz\n\" id=\"DejaVuSans-116\"/>\n        <path d=\"M 56.203125 29.59375 \nL 56.203125 25.203125 \nL 14.890625 25.203125 \nQ 15.484375 15.921875 20.484375 11.0625 \nQ 25.484375 6.203125 34.421875 6.203125 \nQ 39.59375 6.203125 44.453125 7.46875 \nQ 49.3125 8.734375 54.109375 11.28125 \nL 54.109375 2.78125 \nQ 49.265625 0.734375 44.1875 -0.34375 \nQ 39.109375 -1.421875 33.890625 -1.421875 \nQ 20.796875 -1.421875 13.15625 6.1875 \nQ 5.515625 13.8125 5.515625 26.8125 \nQ 5.515625 40.234375 12.765625 48.109375 \nQ 20.015625 56 32.328125 56 \nQ 43.359375 56 49.78125 48.890625 \nQ 56.203125 41.796875 56.203125 29.59375 \nz\nM 47.21875 32.234375 \nQ 47.125 39.59375 43.09375 43.984375 \nQ 39.0625 48.390625 32.421875 48.390625 \nQ 24.90625 48.390625 20.390625 44.140625 \nQ 15.875 39.890625 15.1875 32.171875 \nz\n\" id=\"DejaVuSans-101\"/>\n        <path d=\"M 52 44.1875 \nQ 55.375 50.25 60.0625 53.125 \nQ 64.75 56 71.09375 56 \nQ 79.640625 56 84.28125 50.015625 \nQ 88.921875 44.046875 88.921875 33.015625 \nL 88.921875 0 \nL 79.890625 0 \nL 79.890625 32.71875 \nQ 79.890625 40.578125 77.09375 44.375 \nQ 74.3125 48.1875 68.609375 48.1875 \nQ 61.625 48.1875 57.5625 43.546875 \nQ 53.515625 38.921875 53.515625 30.90625 \nL 53.515625 0 \nL 44.484375 0 \nL 44.484375 32.71875 \nQ 44.484375 40.625 41.703125 44.40625 \nQ 38.921875 48.1875 33.109375 48.1875 \nQ 26.21875 48.1875 22.15625 43.53125 \nQ 18.109375 38.875 18.109375 30.90625 \nL 18.109375 0 \nL 9.078125 0 \nL 9.078125 54.6875 \nL 18.109375 54.6875 \nL 18.109375 46.1875 \nQ 21.1875 51.21875 25.484375 53.609375 \nQ 29.78125 56 35.6875 56 \nQ 41.65625 56 45.828125 52.96875 \nQ 50 49.953125 52 44.1875 \nz\n\" id=\"DejaVuSans-109\"/>\n        <path d=\"M 54.890625 33.015625 \nL 54.890625 0 \nL 45.90625 0 \nL 45.90625 32.71875 \nQ 45.90625 40.484375 42.875 44.328125 \nQ 39.84375 48.1875 33.796875 48.1875 \nQ 26.515625 48.1875 22.3125 43.546875 \nQ 18.109375 38.921875 18.109375 30.90625 \nL 18.109375 0 \nL 9.078125 0 \nL 9.078125 54.6875 \nL 18.109375 54.6875 \nL 18.109375 46.1875 \nQ 21.34375 51.125 25.703125 53.5625 \nQ 30.078125 56 35.796875 56 \nQ 45.21875 56 50.046875 50.171875 \nQ 54.890625 44.34375 54.890625 33.015625 \nz\n\" id=\"DejaVuSans-110\"/>\n       </defs>\n       <use xlink:href=\"#DejaVuSans-65\"/>\n       <use x=\"68.408203\" xlink:href=\"#DejaVuSans-112\"/>\n       <use x=\"131.884766\" xlink:href=\"#DejaVuSans-112\"/>\n       <use x=\"195.361328\" xlink:href=\"#DejaVuSans-97\"/>\n       <use x=\"256.640625\" xlink:href=\"#DejaVuSans-114\"/>\n       <use x=\"297.753906\" xlink:href=\"#DejaVuSans-116\"/>\n       <use x=\"336.962891\" xlink:href=\"#DejaVuSans-101\"/>\n       <use x=\"398.486328\" xlink:href=\"#DejaVuSans-109\"/>\n       <use x=\"495.898438\" xlink:href=\"#DejaVuSans-101\"/>\n       <use x=\"557.421875\" xlink:href=\"#DejaVuSans-110\"/>\n       <use x=\"620.800781\" xlink:href=\"#DejaVuSans-116\"/>\n      </g>\n     </g>\n    </g>\n    <g id=\"xtick_2\">\n     <g id=\"line2d_2\">\n      <g>\n       <use style=\"stroke:#000000;stroke-width:0.8;\" x=\"169.33125\" xlink:href=\"#mb19c4063fa\" y=\"235.238437\"/>\n      </g>\n     </g>\n     <g id=\"text_2\">\n      <!-- Dépendance -->\n      <g transform=\"translate(137.752344 250.236875)scale(0.1 -0.1)\">\n       <defs>\n        <path d=\"M 19.671875 64.796875 \nL 19.671875 8.109375 \nL 31.59375 8.109375 \nQ 46.6875 8.109375 53.6875 14.9375 \nQ 60.6875 21.78125 60.6875 36.53125 \nQ 60.6875 51.171875 53.6875 57.984375 \nQ 46.6875 64.796875 31.59375 64.796875 \nz\nM 9.8125 72.90625 \nL 30.078125 72.90625 \nQ 51.265625 72.90625 61.171875 64.09375 \nQ 71.09375 55.28125 71.09375 36.53125 \nQ 71.09375 17.671875 61.125 8.828125 \nQ 51.171875 0 30.078125 0 \nL 9.8125 0 \nz\n\" id=\"DejaVuSans-68\"/>\n        <path d=\"M 56.203125 29.59375 \nL 56.203125 25.203125 \nL 14.890625 25.203125 \nQ 15.484375 15.921875 20.484375 11.0625 \nQ 25.484375 6.203125 34.421875 6.203125 \nQ 39.59375 6.203125 44.453125 7.46875 \nQ 49.3125 8.734375 54.109375 11.28125 \nL 54.109375 2.78125 \nQ 49.265625 0.734375 44.1875 -0.34375 \nQ 39.109375 -1.421875 33.890625 -1.421875 \nQ 20.796875 -1.421875 13.15625 6.1875 \nQ 5.515625 13.8125 5.515625 26.8125 \nQ 5.515625 40.234375 12.765625 48.109375 \nQ 20.015625 56 32.328125 56 \nQ 43.359375 56 49.78125 48.890625 \nQ 56.203125 41.796875 56.203125 29.59375 \nz\nM 47.21875 32.234375 \nQ 47.125 39.59375 43.09375 43.984375 \nQ 39.0625 48.390625 32.421875 48.390625 \nQ 24.90625 48.390625 20.390625 44.140625 \nQ 15.875 39.890625 15.1875 32.171875 \nz\nM 38.578125 79.984375 \nL 48.296875 79.984375 \nL 32.375 61.625 \nL 24.90625 61.625 \nz\n\" id=\"DejaVuSans-233\"/>\n        <path d=\"M 45.40625 46.390625 \nL 45.40625 75.984375 \nL 54.390625 75.984375 \nL 54.390625 0 \nL 45.40625 0 \nL 45.40625 8.203125 \nQ 42.578125 3.328125 38.25 0.953125 \nQ 33.9375 -1.421875 27.875 -1.421875 \nQ 17.96875 -1.421875 11.734375 6.484375 \nQ 5.515625 14.40625 5.515625 27.296875 \nQ 5.515625 40.1875 11.734375 48.09375 \nQ 17.96875 56 27.875 56 \nQ 33.9375 56 38.25 53.625 \nQ 42.578125 51.265625 45.40625 46.390625 \nz\nM 14.796875 27.296875 \nQ 14.796875 17.390625 18.875 11.75 \nQ 22.953125 6.109375 30.078125 6.109375 \nQ 37.203125 6.109375 41.296875 11.75 \nQ 45.40625 17.390625 45.40625 27.296875 \nQ 45.40625 37.203125 41.296875 42.84375 \nQ 37.203125 48.484375 30.078125 48.484375 \nQ 22.953125 48.484375 18.875 42.84375 \nQ 14.796875 37.203125 14.796875 27.296875 \nz\n\" id=\"DejaVuSans-100\"/>\n        <path d=\"M 48.78125 52.59375 \nL 48.78125 44.1875 \nQ 44.96875 46.296875 41.140625 47.34375 \nQ 37.3125 48.390625 33.40625 48.390625 \nQ 24.65625 48.390625 19.8125 42.84375 \nQ 14.984375 37.3125 14.984375 27.296875 \nQ 14.984375 17.28125 19.8125 11.734375 \nQ 24.65625 6.203125 33.40625 6.203125 \nQ 37.3125 6.203125 41.140625 7.25 \nQ 44.96875 8.296875 48.78125 10.40625 \nL 48.78125 2.09375 \nQ 45.015625 0.34375 40.984375 -0.53125 \nQ 36.96875 -1.421875 32.421875 -1.421875 \nQ 20.0625 -1.421875 12.78125 6.34375 \nQ 5.515625 14.109375 5.515625 27.296875 \nQ 5.515625 40.671875 12.859375 48.328125 \nQ 20.21875 56 33.015625 56 \nQ 37.15625 56 41.109375 55.140625 \nQ 45.0625 54.296875 48.78125 52.59375 \nz\n\" id=\"DejaVuSans-99\"/>\n       </defs>\n       <use xlink:href=\"#DejaVuSans-68\"/>\n       <use x=\"77.001953\" xlink:href=\"#DejaVuSans-233\"/>\n       <use x=\"138.525391\" xlink:href=\"#DejaVuSans-112\"/>\n       <use x=\"202.001953\" xlink:href=\"#DejaVuSans-101\"/>\n       <use x=\"263.525391\" xlink:href=\"#DejaVuSans-110\"/>\n       <use x=\"326.904297\" xlink:href=\"#DejaVuSans-100\"/>\n       <use x=\"390.380859\" xlink:href=\"#DejaVuSans-97\"/>\n       <use x=\"451.660156\" xlink:href=\"#DejaVuSans-110\"/>\n       <use x=\"515.039062\" xlink:href=\"#DejaVuSans-99\"/>\n       <use x=\"570.019531\" xlink:href=\"#DejaVuSans-101\"/>\n      </g>\n     </g>\n    </g>\n    <g id=\"xtick_3\">\n     <g id=\"line2d_3\">\n      <g>\n       <use style=\"stroke:#000000;stroke-width:0.8;\" x=\"253.03125\" xlink:href=\"#mb19c4063fa\" y=\"235.238437\"/>\n      </g>\n     </g>\n     <g id=\"text_3\">\n      <!-- Maison -->\n      <g transform=\"translate(235.43125 249.836875)scale(0.1 -0.1)\">\n       <defs>\n        <path d=\"M 9.8125 72.90625 \nL 24.515625 72.90625 \nL 43.109375 23.296875 \nL 61.8125 72.90625 \nL 76.515625 72.90625 \nL 76.515625 0 \nL 66.890625 0 \nL 66.890625 64.015625 \nL 48.09375 14.015625 \nL 38.1875 14.015625 \nL 19.390625 64.015625 \nL 19.390625 0 \nL 9.8125 0 \nz\n\" id=\"DejaVuSans-77\"/>\n        <path d=\"M 9.421875 54.6875 \nL 18.40625 54.6875 \nL 18.40625 0 \nL 9.421875 0 \nz\nM 9.421875 75.984375 \nL 18.40625 75.984375 \nL 18.40625 64.59375 \nL 9.421875 64.59375 \nz\n\" id=\"DejaVuSans-105\"/>\n        <path d=\"M 44.28125 53.078125 \nL 44.28125 44.578125 \nQ 40.484375 46.53125 36.375 47.5 \nQ 32.28125 48.484375 27.875 48.484375 \nQ 21.1875 48.484375 17.84375 46.4375 \nQ 14.5 44.390625 14.5 40.28125 \nQ 14.5 37.15625 16.890625 35.375 \nQ 19.28125 33.59375 26.515625 31.984375 \nL 29.59375 31.296875 \nQ 39.15625 29.25 43.1875 25.515625 \nQ 47.21875 21.78125 47.21875 15.09375 \nQ 47.21875 7.46875 41.1875 3.015625 \nQ 35.15625 -1.421875 24.609375 -1.421875 \nQ 20.21875 -1.421875 15.453125 -0.5625 \nQ 10.6875 0.296875 5.421875 2 \nL 5.421875 11.28125 \nQ 10.40625 8.6875 15.234375 7.390625 \nQ 20.0625 6.109375 24.8125 6.109375 \nQ 31.15625 6.109375 34.5625 8.28125 \nQ 37.984375 10.453125 37.984375 14.40625 \nQ 37.984375 18.0625 35.515625 20.015625 \nQ 33.0625 21.96875 24.703125 23.78125 \nL 21.578125 24.515625 \nQ 13.234375 26.265625 9.515625 29.90625 \nQ 5.8125 33.546875 5.8125 39.890625 \nQ 5.8125 47.609375 11.28125 51.796875 \nQ 16.75 56 26.8125 56 \nQ 31.78125 56 36.171875 55.265625 \nQ 40.578125 54.546875 44.28125 53.078125 \nz\n\" id=\"DejaVuSans-115\"/>\n        <path d=\"M 30.609375 48.390625 \nQ 23.390625 48.390625 19.1875 42.75 \nQ 14.984375 37.109375 14.984375 27.296875 \nQ 14.984375 17.484375 19.15625 11.84375 \nQ 23.34375 6.203125 30.609375 6.203125 \nQ 37.796875 6.203125 41.984375 11.859375 \nQ 46.1875 17.53125 46.1875 27.296875 \nQ 46.1875 37.015625 41.984375 42.703125 \nQ 37.796875 48.390625 30.609375 48.390625 \nz\nM 30.609375 56 \nQ 42.328125 56 49.015625 48.375 \nQ 55.71875 40.765625 55.71875 27.296875 \nQ 55.71875 13.875 49.015625 6.21875 \nQ 42.328125 -1.421875 30.609375 -1.421875 \nQ 18.84375 -1.421875 12.171875 6.21875 \nQ 5.515625 13.875 5.515625 27.296875 \nQ 5.515625 40.765625 12.171875 48.375 \nQ 18.84375 56 30.609375 56 \nz\n\" id=\"DejaVuSans-111\"/>\n       </defs>\n       <use xlink:href=\"#DejaVuSans-77\"/>\n       <use x=\"86.279297\" xlink:href=\"#DejaVuSans-97\"/>\n       <use x=\"147.558594\" xlink:href=\"#DejaVuSans-105\"/>\n       <use x=\"175.341797\" xlink:href=\"#DejaVuSans-115\"/>\n       <use x=\"227.441406\" xlink:href=\"#DejaVuSans-111\"/>\n       <use x=\"288.623047\" xlink:href=\"#DejaVuSans-110\"/>\n      </g>\n     </g>\n    </g>\n    <g id=\"xtick_4\">\n     <g id=\"line2d_4\">\n      <g>\n       <use style=\"stroke:#000000;stroke-width:0.8;\" x=\"336.73125\" xlink:href=\"#mb19c4063fa\" y=\"235.238437\"/>\n      </g>\n     </g>\n     <g id=\"text_4\">\n      <!-- Local industriel. commercial ou assimilé -->\n      <g transform=\"translate(236.674219 249.836875)scale(0.1 -0.1)\">\n       <defs>\n        <path d=\"M 9.8125 72.90625 \nL 19.671875 72.90625 \nL 19.671875 8.296875 \nL 55.171875 8.296875 \nL 55.171875 0 \nL 9.8125 0 \nz\n\" id=\"DejaVuSans-76\"/>\n        <path d=\"M 9.421875 75.984375 \nL 18.40625 75.984375 \nL 18.40625 0 \nL 9.421875 0 \nz\n\" id=\"DejaVuSans-108\"/>\n        <path id=\"DejaVuSans-32\"/>\n        <path d=\"M 8.5 21.578125 \nL 8.5 54.6875 \nL 17.484375 54.6875 \nL 17.484375 21.921875 \nQ 17.484375 14.15625 20.5 10.265625 \nQ 23.53125 6.390625 29.59375 6.390625 \nQ 36.859375 6.390625 41.078125 11.03125 \nQ 45.3125 15.671875 45.3125 23.6875 \nL 45.3125 54.6875 \nL 54.296875 54.6875 \nL 54.296875 0 \nL 45.3125 0 \nL 45.3125 8.40625 \nQ 42.046875 3.421875 37.71875 1 \nQ 33.40625 -1.421875 27.6875 -1.421875 \nQ 18.265625 -1.421875 13.375 4.4375 \nQ 8.5 10.296875 8.5 21.578125 \nz\nM 31.109375 56 \nz\n\" id=\"DejaVuSans-117\"/>\n        <path d=\"M 10.6875 12.40625 \nL 21 12.40625 \nL 21 0 \nL 10.6875 0 \nz\n\" id=\"DejaVuSans-46\"/>\n       </defs>\n       <use xlink:href=\"#DejaVuSans-76\"/>\n       <use x=\"53.962891\" xlink:href=\"#DejaVuSans-111\"/>\n       <use x=\"115.144531\" xlink:href=\"#DejaVuSans-99\"/>\n       <use x=\"170.125\" xlink:href=\"#DejaVuSans-97\"/>\n       <use x=\"231.404297\" xlink:href=\"#DejaVuSans-108\"/>\n       <use x=\"259.1875\" xlink:href=\"#DejaVuSans-32\"/>\n       <use x=\"290.974609\" xlink:href=\"#DejaVuSans-105\"/>\n       <use x=\"318.757812\" xlink:href=\"#DejaVuSans-110\"/>\n       <use x=\"382.136719\" xlink:href=\"#DejaVuSans-100\"/>\n       <use x=\"445.613281\" xlink:href=\"#DejaVuSans-117\"/>\n       <use x=\"508.992188\" xlink:href=\"#DejaVuSans-115\"/>\n       <use x=\"561.091797\" xlink:href=\"#DejaVuSans-116\"/>\n       <use x=\"600.300781\" xlink:href=\"#DejaVuSans-114\"/>\n       <use x=\"641.414062\" xlink:href=\"#DejaVuSans-105\"/>\n       <use x=\"669.197266\" xlink:href=\"#DejaVuSans-101\"/>\n       <use x=\"730.720703\" xlink:href=\"#DejaVuSans-108\"/>\n       <use x=\"758.503906\" xlink:href=\"#DejaVuSans-46\"/>\n       <use x=\"790.291016\" xlink:href=\"#DejaVuSans-32\"/>\n       <use x=\"822.078125\" xlink:href=\"#DejaVuSans-99\"/>\n       <use x=\"877.058594\" xlink:href=\"#DejaVuSans-111\"/>\n       <use x=\"938.240234\" xlink:href=\"#DejaVuSans-109\"/>\n       <use x=\"1035.652344\" xlink:href=\"#DejaVuSans-109\"/>\n       <use x=\"1133.064453\" xlink:href=\"#DejaVuSans-101\"/>\n       <use x=\"1194.587891\" xlink:href=\"#DejaVuSans-114\"/>\n       <use x=\"1233.451172\" xlink:href=\"#DejaVuSans-99\"/>\n       <use x=\"1288.431641\" xlink:href=\"#DejaVuSans-105\"/>\n       <use x=\"1316.214844\" xlink:href=\"#DejaVuSans-97\"/>\n       <use x=\"1377.494141\" xlink:href=\"#DejaVuSans-108\"/>\n       <use x=\"1405.277344\" xlink:href=\"#DejaVuSans-32\"/>\n       <use x=\"1437.064453\" xlink:href=\"#DejaVuSans-111\"/>\n       <use x=\"1498.246094\" xlink:href=\"#DejaVuSans-117\"/>\n       <use x=\"1561.625\" xlink:href=\"#DejaVuSans-32\"/>\n       <use x=\"1593.412109\" xlink:href=\"#DejaVuSans-97\"/>\n       <use x=\"1654.691406\" xlink:href=\"#DejaVuSans-115\"/>\n       <use x=\"1706.791016\" xlink:href=\"#DejaVuSans-115\"/>\n       <use x=\"1758.890625\" xlink:href=\"#DejaVuSans-105\"/>\n       <use x=\"1786.673828\" xlink:href=\"#DejaVuSans-109\"/>\n       <use x=\"1884.085938\" xlink:href=\"#DejaVuSans-105\"/>\n       <use x=\"1911.869141\" xlink:href=\"#DejaVuSans-108\"/>\n       <use x=\"1939.652344\" xlink:href=\"#DejaVuSans-233\"/>\n      </g>\n     </g>\n    </g>\n    <g id=\"text_5\">\n     <!-- Type_local -->\n     <g transform=\"translate(185.547656 263.915)scale(0.1 -0.1)\">\n      <defs>\n       <path d=\"M -0.296875 72.90625 \nL 61.375 72.90625 \nL 61.375 64.59375 \nL 35.5 64.59375 \nL 35.5 0 \nL 25.59375 0 \nL 25.59375 64.59375 \nL -0.296875 64.59375 \nz\n\" id=\"DejaVuSans-84\"/>\n       <path d=\"M 32.171875 -5.078125 \nQ 28.375 -14.84375 24.75 -17.8125 \nQ 21.140625 -20.796875 15.09375 -20.796875 \nL 7.90625 -20.796875 \nL 7.90625 -13.28125 \nL 13.1875 -13.28125 \nQ 16.890625 -13.28125 18.9375 -11.515625 \nQ 21 -9.765625 23.484375 -3.21875 \nL 25.09375 0.875 \nL 2.984375 54.6875 \nL 12.5 54.6875 \nL 29.59375 11.921875 \nL 46.6875 54.6875 \nL 56.203125 54.6875 \nz\n\" id=\"DejaVuSans-121\"/>\n       <path d=\"M 50.984375 -16.609375 \nL 50.984375 -23.578125 \nL -0.984375 -23.578125 \nL -0.984375 -16.609375 \nz\n\" id=\"DejaVuSans-95\"/>\n      </defs>\n      <use xlink:href=\"#DejaVuSans-84\"/>\n      <use x=\"45.458984\" xlink:href=\"#DejaVuSans-121\"/>\n      <use x=\"104.638672\" xlink:href=\"#DejaVuSans-112\"/>\n      <use x=\"168.115234\" xlink:href=\"#DejaVuSans-101\"/>\n      <use x=\"229.638672\" xlink:href=\"#DejaVuSans-95\"/>\n      <use x=\"279.638672\" xlink:href=\"#DejaVuSans-108\"/>\n      <use x=\"307.421875\" xlink:href=\"#DejaVuSans-111\"/>\n      <use x=\"368.603516\" xlink:href=\"#DejaVuSans-99\"/>\n      <use x=\"423.583984\" xlink:href=\"#DejaVuSans-97\"/>\n      <use x=\"484.863281\" xlink:href=\"#DejaVuSans-108\"/>\n     </g>\n    </g>\n   </g>\n   <g id=\"matplotlib.axis_2\">\n    <g id=\"ytick_1\">\n     <g id=\"line2d_5\">\n      <defs>\n       <path d=\"M 0 0 \nL -3.5 0 \n\" id=\"m73de713a64\" style=\"stroke:#000000;stroke-width:0.8;\"/>\n      </defs>\n      <g>\n       <use style=\"stroke:#000000;stroke-width:0.8;\" x=\"43.78125\" xlink:href=\"#m73de713a64\" y=\"235.238437\"/>\n      </g>\n     </g>\n     <g id=\"text_6\">\n      <!-- 0.0 -->\n      <g transform=\"translate(20.878125 239.037656)scale(0.1 -0.1)\">\n       <defs>\n        <path d=\"M 31.78125 66.40625 \nQ 24.171875 66.40625 20.328125 58.90625 \nQ 16.5 51.421875 16.5 36.375 \nQ 16.5 21.390625 20.328125 13.890625 \nQ 24.171875 6.390625 31.78125 6.390625 \nQ 39.453125 6.390625 43.28125 13.890625 \nQ 47.125 21.390625 47.125 36.375 \nQ 47.125 51.421875 43.28125 58.90625 \nQ 39.453125 66.40625 31.78125 66.40625 \nz\nM 31.78125 74.21875 \nQ 44.046875 74.21875 50.515625 64.515625 \nQ 56.984375 54.828125 56.984375 36.375 \nQ 56.984375 17.96875 50.515625 8.265625 \nQ 44.046875 -1.421875 31.78125 -1.421875 \nQ 19.53125 -1.421875 13.0625 8.265625 \nQ 6.59375 17.96875 6.59375 36.375 \nQ 6.59375 54.828125 13.0625 64.515625 \nQ 19.53125 74.21875 31.78125 74.21875 \nz\n\" id=\"DejaVuSans-48\"/>\n       </defs>\n       <use xlink:href=\"#DejaVuSans-48\"/>\n       <use x=\"63.623047\" xlink:href=\"#DejaVuSans-46\"/>\n       <use x=\"95.410156\" xlink:href=\"#DejaVuSans-48\"/>\n      </g>\n     </g>\n    </g>\n    <g id=\"ytick_2\">\n     <g id=\"line2d_6\">\n      <g>\n       <use style=\"stroke:#000000;stroke-width:0.8;\" x=\"43.78125\" xlink:href=\"#m73de713a64\" y=\"198.007577\"/>\n      </g>\n     </g>\n     <g id=\"text_7\">\n      <!-- 0.5 -->\n      <g transform=\"translate(20.878125 201.806796)scale(0.1 -0.1)\">\n       <defs>\n        <path d=\"M 10.796875 72.90625 \nL 49.515625 72.90625 \nL 49.515625 64.59375 \nL 19.828125 64.59375 \nL 19.828125 46.734375 \nQ 21.96875 47.46875 24.109375 47.828125 \nQ 26.265625 48.1875 28.421875 48.1875 \nQ 40.625 48.1875 47.75 41.5 \nQ 54.890625 34.8125 54.890625 23.390625 \nQ 54.890625 11.625 47.5625 5.09375 \nQ 40.234375 -1.421875 26.90625 -1.421875 \nQ 22.3125 -1.421875 17.546875 -0.640625 \nQ 12.796875 0.140625 7.71875 1.703125 \nL 7.71875 11.625 \nQ 12.109375 9.234375 16.796875 8.0625 \nQ 21.484375 6.890625 26.703125 6.890625 \nQ 35.15625 6.890625 40.078125 11.328125 \nQ 45.015625 15.765625 45.015625 23.390625 \nQ 45.015625 31 40.078125 35.4375 \nQ 35.15625 39.890625 26.703125 39.890625 \nQ 22.75 39.890625 18.8125 39.015625 \nQ 14.890625 38.140625 10.796875 36.28125 \nz\n\" id=\"DejaVuSans-53\"/>\n       </defs>\n       <use xlink:href=\"#DejaVuSans-48\"/>\n       <use x=\"63.623047\" xlink:href=\"#DejaVuSans-46\"/>\n       <use x=\"95.410156\" xlink:href=\"#DejaVuSans-53\"/>\n      </g>\n     </g>\n    </g>\n    <g id=\"ytick_3\">\n     <g id=\"line2d_7\">\n      <g>\n       <use style=\"stroke:#000000;stroke-width:0.8;\" x=\"43.78125\" xlink:href=\"#m73de713a64\" y=\"160.776717\"/>\n      </g>\n     </g>\n     <g id=\"text_8\">\n      <!-- 1.0 -->\n      <g transform=\"translate(20.878125 164.575936)scale(0.1 -0.1)\">\n       <defs>\n        <path d=\"M 12.40625 8.296875 \nL 28.515625 8.296875 \nL 28.515625 63.921875 \nL 10.984375 60.40625 \nL 10.984375 69.390625 \nL 28.421875 72.90625 \nL 38.28125 72.90625 \nL 38.28125 8.296875 \nL 54.390625 8.296875 \nL 54.390625 0 \nL 12.40625 0 \nz\n\" id=\"DejaVuSans-49\"/>\n       </defs>\n       <use xlink:href=\"#DejaVuSans-49\"/>\n       <use x=\"63.623047\" xlink:href=\"#DejaVuSans-46\"/>\n       <use x=\"95.410156\" xlink:href=\"#DejaVuSans-48\"/>\n      </g>\n     </g>\n    </g>\n    <g id=\"ytick_4\">\n     <g id=\"line2d_8\">\n      <g>\n       <use style=\"stroke:#000000;stroke-width:0.8;\" x=\"43.78125\" xlink:href=\"#m73de713a64\" y=\"123.545857\"/>\n      </g>\n     </g>\n     <g id=\"text_9\">\n      <!-- 1.5 -->\n      <g transform=\"translate(20.878125 127.345075)scale(0.1 -0.1)\">\n       <use xlink:href=\"#DejaVuSans-49\"/>\n       <use x=\"63.623047\" xlink:href=\"#DejaVuSans-46\"/>\n       <use x=\"95.410156\" xlink:href=\"#DejaVuSans-53\"/>\n      </g>\n     </g>\n    </g>\n    <g id=\"ytick_5\">\n     <g id=\"line2d_9\">\n      <g>\n       <use style=\"stroke:#000000;stroke-width:0.8;\" x=\"43.78125\" xlink:href=\"#m73de713a64\" y=\"86.314996\"/>\n      </g>\n     </g>\n     <g id=\"text_10\">\n      <!-- 2.0 -->\n      <g transform=\"translate(20.878125 90.114215)scale(0.1 -0.1)\">\n       <defs>\n        <path d=\"M 19.1875 8.296875 \nL 53.609375 8.296875 \nL 53.609375 0 \nL 7.328125 0 \nL 7.328125 8.296875 \nQ 12.9375 14.109375 22.625 23.890625 \nQ 32.328125 33.6875 34.8125 36.53125 \nQ 39.546875 41.84375 41.421875 45.53125 \nQ 43.3125 49.21875 43.3125 52.78125 \nQ 43.3125 58.59375 39.234375 62.25 \nQ 35.15625 65.921875 28.609375 65.921875 \nQ 23.96875 65.921875 18.8125 64.3125 \nQ 13.671875 62.703125 7.8125 59.421875 \nL 7.8125 69.390625 \nQ 13.765625 71.78125 18.9375 73 \nQ 24.125 74.21875 28.421875 74.21875 \nQ 39.75 74.21875 46.484375 68.546875 \nQ 53.21875 62.890625 53.21875 53.421875 \nQ 53.21875 48.921875 51.53125 44.890625 \nQ 49.859375 40.875 45.40625 35.40625 \nQ 44.1875 33.984375 37.640625 27.21875 \nQ 31.109375 20.453125 19.1875 8.296875 \nz\n\" id=\"DejaVuSans-50\"/>\n       </defs>\n       <use xlink:href=\"#DejaVuSans-50\"/>\n       <use x=\"63.623047\" xlink:href=\"#DejaVuSans-46\"/>\n       <use x=\"95.410156\" xlink:href=\"#DejaVuSans-48\"/>\n      </g>\n     </g>\n    </g>\n    <g id=\"ytick_6\">\n     <g id=\"line2d_10\">\n      <g>\n       <use style=\"stroke:#000000;stroke-width:0.8;\" x=\"43.78125\" xlink:href=\"#m73de713a64\" y=\"49.084136\"/>\n      </g>\n     </g>\n     <g id=\"text_11\">\n      <!-- 2.5 -->\n      <g transform=\"translate(20.878125 52.883355)scale(0.1 -0.1)\">\n       <use xlink:href=\"#DejaVuSans-50\"/>\n       <use x=\"63.623047\" xlink:href=\"#DejaVuSans-46\"/>\n       <use x=\"95.410156\" xlink:href=\"#DejaVuSans-53\"/>\n      </g>\n     </g>\n    </g>\n    <g id=\"text_12\">\n     <!-- count -->\n     <g transform=\"translate(14.798438 140.624687)rotate(-90)scale(0.1 -0.1)\">\n      <use xlink:href=\"#DejaVuSans-99\"/>\n      <use x=\"54.980469\" xlink:href=\"#DejaVuSans-111\"/>\n      <use x=\"116.162109\" xlink:href=\"#DejaVuSans-117\"/>\n      <use x=\"179.541016\" xlink:href=\"#DejaVuSans-110\"/>\n      <use x=\"242.919922\" xlink:href=\"#DejaVuSans-116\"/>\n     </g>\n    </g>\n    <g id=\"text_13\">\n     <!-- 1e6 -->\n     <g transform=\"translate(43.78125 14.798437)scale(0.1 -0.1)\">\n      <defs>\n       <path d=\"M 33.015625 40.375 \nQ 26.375 40.375 22.484375 35.828125 \nQ 18.609375 31.296875 18.609375 23.390625 \nQ 18.609375 15.53125 22.484375 10.953125 \nQ 26.375 6.390625 33.015625 6.390625 \nQ 39.65625 6.390625 43.53125 10.953125 \nQ 47.40625 15.53125 47.40625 23.390625 \nQ 47.40625 31.296875 43.53125 35.828125 \nQ 39.65625 40.375 33.015625 40.375 \nz\nM 52.59375 71.296875 \nL 52.59375 62.3125 \nQ 48.875 64.0625 45.09375 64.984375 \nQ 41.3125 65.921875 37.59375 65.921875 \nQ 27.828125 65.921875 22.671875 59.328125 \nQ 17.53125 52.734375 16.796875 39.40625 \nQ 19.671875 43.65625 24.015625 45.921875 \nQ 28.375 48.1875 33.59375 48.1875 \nQ 44.578125 48.1875 50.953125 41.515625 \nQ 57.328125 34.859375 57.328125 23.390625 \nQ 57.328125 12.15625 50.6875 5.359375 \nQ 44.046875 -1.421875 33.015625 -1.421875 \nQ 20.359375 -1.421875 13.671875 8.265625 \nQ 6.984375 17.96875 6.984375 36.375 \nQ 6.984375 53.65625 15.1875 63.9375 \nQ 23.390625 74.21875 37.203125 74.21875 \nQ 40.921875 74.21875 44.703125 73.484375 \nQ 48.484375 72.75 52.59375 71.296875 \nz\n\" id=\"DejaVuSans-54\"/>\n      </defs>\n      <use xlink:href=\"#DejaVuSans-49\"/>\n      <use x=\"63.623047\" xlink:href=\"#DejaVuSans-101\"/>\n      <use x=\"125.146484\" xlink:href=\"#DejaVuSans-54\"/>\n     </g>\n    </g>\n   </g>\n   <g id=\"patch_7\">\n    <path d=\"M 43.78125 235.238437 \nL 43.78125 17.798437 \n\" style=\"fill:none;stroke:#000000;stroke-linecap:square;stroke-linejoin:miter;stroke-width:0.8;\"/>\n   </g>\n   <g id=\"patch_8\">\n    <path d=\"M 378.58125 235.238437 \nL 378.58125 17.798437 \n\" style=\"fill:none;stroke:#000000;stroke-linecap:square;stroke-linejoin:miter;stroke-width:0.8;\"/>\n   </g>\n   <g id=\"patch_9\">\n    <path d=\"M 43.78125 235.238437 \nL 378.58125 235.238437 \n\" style=\"fill:none;stroke:#000000;stroke-linecap:square;stroke-linejoin:miter;stroke-width:0.8;\"/>\n   </g>\n   <g id=\"patch_10\">\n    <path d=\"M 43.78125 17.798437 \nL 378.58125 17.798437 \n\" style=\"fill:none;stroke:#000000;stroke-linecap:square;stroke-linejoin:miter;stroke-width:0.8;\"/>\n   </g>\n  </g>\n </g>\n <defs>\n  <clipPath id=\"p3abc51209e\">\n   <rect height=\"217.44\" width=\"334.8\" x=\"43.78125\" y=\"17.798437\"/>\n  </clipPath>\n </defs>\n</svg>\n",
      "image/png": "[encoded data removed]"
     },
     "metadata": {
      "needs_background": "light"
     }
    }
   ],
   "source": [
    "sns.countplot(df.Type_local)"
   ]
  },
  {
   "cell_type": "code",
   "execution_count": 63,
   "metadata": {},
   "outputs": [
    {
     "output_type": "execute_result",
     "data": {
      "text/plain": [
       "(150, 1)"
      ]
     },
     "metadata": {},
     "execution_count": 63
    }
   ],
   "source": [
    "df_test = pd.DataFrame(df.groupby(['Type_de_voie'])['Valeur_fonciere'].count())\n",
    "df_test.sort_values('Valeur_fonciere').shape"
   ]
  },
  {
   "cell_type": "code",
   "execution_count": 17,
   "metadata": {},
   "outputs": [
    {
     "output_type": "execute_result",
     "data": {
      "text/plain": [
       "                                          Valeur_fonciere\n",
       "Type_local                                               \n",
       "Appartement                                  5.807725e+12\n",
       "Dépendance                                   2.408013e+12\n",
       "Local industriel. commercial ou assimilé     1.234074e+12\n",
       "Maison                                       1.193159e+12"
      ],
      "text/html": "<div>\n<style scoped>\n    .dataframe tbody tr th:only-of-type {\n        vertical-align: middle;\n    }\n\n    .dataframe tbody tr th {\n        vertical-align: top;\n    }\n\n    .dataframe thead th {\n        text-align: right;\n    }\n</style>\n<table border=\"1\" class=\"dataframe\">\n  <thead>\n    <tr style=\"text-align: right;\">\n      <th></th>\n      <th>Valeur_fonciere</th>\n    </tr>\n    <tr>\n      <th>Type_local</th>\n      <th></th>\n    </tr>\n  </thead>\n  <tbody>\n    <tr>\n      <th>Appartement</th>\n      <td>5.807725e+12</td>\n    </tr>\n    <tr>\n      <th>Dépendance</th>\n      <td>2.408013e+12</td>\n    </tr>\n    <tr>\n      <th>Local industriel. commercial ou assimilé</th>\n      <td>1.234074e+12</td>\n    </tr>\n    <tr>\n      <th>Maison</th>\n      <td>1.193159e+12</td>\n    </tr>\n  </tbody>\n</table>\n</div>"
     },
     "metadata": {},
     "execution_count": 17
    },
    {
     "output_type": "display_data",
     "data": {
      "text/plain": "<Figure size 360x360 with 1 Axes>",
      "image/svg+xml": "<?xml version=\"1.0\" encoding=\"utf-8\" standalone=\"no\"?>\n<!DOCTYPE svg PUBLIC \"-//W3C//DTD SVG 1.1//EN\"\n  \"http://www.w3.org/Graphics/SVG/1.1/DTD/svg11.dtd\">\n<!-- Created with matplotlib (https://matplotlib.org/) -->\n<svg height=\"555.96875pt\" version=\"1.1\" viewBox=\"0 0 366.74375 555.96875\" width=\"366.74375pt\" xmlns=\"http://www.w3.org/2000/svg\" xmlns:xlink=\"http://www.w3.org/1999/xlink\">\n <metadata>\n  <rdf:RDF xmlns:cc=\"http://creativecommons.org/ns#\" xmlns:dc=\"http://purl.org/dc/elements/1.1/\" xmlns:rdf=\"http://www.w3.org/1999/02/22-rdf-syntax-ns#\">\n   <cc:Work>\n    <dc:type rdf:resource=\"http://purl.org/dc/dcmitype/StillImage\"/>\n    <dc:date>2021-01-16T00:27:10.954848</dc:date>\n    <dc:format>image/svg+xml</dc:format>\n    <dc:creator>\n     <cc:Agent>\n      <dc:title>Matplotlib v3.3.2, https://matplotlib.org/</dc:title>\n     </cc:Agent>\n    </dc:creator>\n   </cc:Work>\n  </rdf:RDF>\n </metadata>\n <defs>\n  <style type=\"text/css\">*{stroke-linecap:butt;stroke-linejoin:round;}</style>\n </defs>\n <g id=\"figure_1\">\n  <g id=\"patch_1\">\n   <path d=\"M 0 555.96875 \nL 366.74375 555.96875 \nL 366.74375 0 \nL 0 0 \nz\n\" style=\"fill:none;\"/>\n  </g>\n  <g id=\"axes_1\">\n   <g id=\"patch_2\">\n    <path d=\"M 34.51875 327.698437 \nL 359.54375 327.698437 \nL 359.54375 17.798437 \nL 34.51875 17.798437 \nz\n\" style=\"fill:#ffffff;\"/>\n   </g>\n   <g id=\"patch_3\">\n    <path clip-path=\"url(#p0f732ed427)\" d=\"M 42.644375 327.698437 \nL 107.649375 327.698437 \nL 107.649375 32.55558 \nL 42.644375 32.55558 \nz\n\" style=\"fill:#3274a1;\"/>\n   </g>\n   <g id=\"patch_4\">\n    <path clip-path=\"url(#p0f732ed427)\" d=\"M 123.900625 327.698437 \nL 188.905625 327.698437 \nL 188.905625 205.325599 \nL 123.900625 205.325599 \nz\n\" style=\"fill:#e1812c;\"/>\n   </g>\n   <g id=\"patch_5\">\n    <path clip-path=\"url(#p0f732ed427)\" d=\"M 205.156875 327.698437 \nL 270.161875 327.698437 \nL 270.161875 264.984 \nL 205.156875 264.984 \nz\n\" style=\"fill:#3a923a;\"/>\n   </g>\n   <g id=\"patch_6\">\n    <path clip-path=\"url(#p0f732ed427)\" d=\"M 286.413125 327.698437 \nL 351.418125 327.698437 \nL 351.418125 267.063273 \nL 286.413125 267.063273 \nz\n\" style=\"fill:#c03d3e;\"/>\n   </g>\n   <g id=\"matplotlib.axis_1\">\n    <g id=\"xtick_1\">\n     <g id=\"line2d_1\">\n      <defs>\n       <path d=\"M 0 0 \nL 0 3.5 \n\" id=\"mc3ac70dca3\" style=\"stroke:#000000;stroke-width:0.8;\"/>\n      </defs>\n      <g>\n       <use style=\"stroke:#000000;stroke-width:0.8;\" x=\"75.146875\" xlink:href=\"#mc3ac70dca3\" y=\"327.698437\"/>\n      </g>\n     </g>\n     <g id=\"text_1\">\n      <!-- Appartement -->\n      <g transform=\"translate(77.90625 400.7)rotate(-90)scale(0.1 -0.1)\">\n       <defs>\n        <path d=\"M 34.1875 63.1875 \nL 20.796875 26.90625 \nL 47.609375 26.90625 \nz\nM 28.609375 72.90625 \nL 39.796875 72.90625 \nL 67.578125 0 \nL 57.328125 0 \nL 50.6875 18.703125 \nL 17.828125 18.703125 \nL 11.1875 0 \nL 0.78125 0 \nz\n\" id=\"DejaVuSans-65\"/>\n        <path d=\"M 18.109375 8.203125 \nL 18.109375 -20.796875 \nL 9.078125 -20.796875 \nL 9.078125 54.6875 \nL 18.109375 54.6875 \nL 18.109375 46.390625 \nQ 20.953125 51.265625 25.265625 53.625 \nQ 29.59375 56 35.59375 56 \nQ 45.5625 56 51.78125 48.09375 \nQ 58.015625 40.1875 58.015625 27.296875 \nQ 58.015625 14.40625 51.78125 6.484375 \nQ 45.5625 -1.421875 35.59375 -1.421875 \nQ 29.59375 -1.421875 25.265625 0.953125 \nQ 20.953125 3.328125 18.109375 8.203125 \nz\nM 48.6875 27.296875 \nQ 48.6875 37.203125 44.609375 42.84375 \nQ 40.53125 48.484375 33.40625 48.484375 \nQ 26.265625 48.484375 22.1875 42.84375 \nQ 18.109375 37.203125 18.109375 27.296875 \nQ 18.109375 17.390625 22.1875 11.75 \nQ 26.265625 6.109375 33.40625 6.109375 \nQ 40.53125 6.109375 44.609375 11.75 \nQ 48.6875 17.390625 48.6875 27.296875 \nz\n\" id=\"DejaVuSans-112\"/>\n        <path d=\"M 34.28125 27.484375 \nQ 23.390625 27.484375 19.1875 25 \nQ 14.984375 22.515625 14.984375 16.5 \nQ 14.984375 11.71875 18.140625 8.90625 \nQ 21.296875 6.109375 26.703125 6.109375 \nQ 34.1875 6.109375 38.703125 11.40625 \nQ 43.21875 16.703125 43.21875 25.484375 \nL 43.21875 27.484375 \nz\nM 52.203125 31.203125 \nL 52.203125 0 \nL 43.21875 0 \nL 43.21875 8.296875 \nQ 40.140625 3.328125 35.546875 0.953125 \nQ 30.953125 -1.421875 24.3125 -1.421875 \nQ 15.921875 -1.421875 10.953125 3.296875 \nQ 6 8.015625 6 15.921875 \nQ 6 25.140625 12.171875 29.828125 \nQ 18.359375 34.515625 30.609375 34.515625 \nL 43.21875 34.515625 \nL 43.21875 35.40625 \nQ 43.21875 41.609375 39.140625 45 \nQ 35.0625 48.390625 27.6875 48.390625 \nQ 23 48.390625 18.546875 47.265625 \nQ 14.109375 46.140625 10.015625 43.890625 \nL 10.015625 52.203125 \nQ 14.9375 54.109375 19.578125 55.046875 \nQ 24.21875 56 28.609375 56 \nQ 40.484375 56 46.34375 49.84375 \nQ 52.203125 43.703125 52.203125 31.203125 \nz\n\" id=\"DejaVuSans-97\"/>\n        <path d=\"M 41.109375 46.296875 \nQ 39.59375 47.171875 37.8125 47.578125 \nQ 36.03125 48 33.890625 48 \nQ 26.265625 48 22.1875 43.046875 \nQ 18.109375 38.09375 18.109375 28.8125 \nL 18.109375 0 \nL 9.078125 0 \nL 9.078125 54.6875 \nL 18.109375 54.6875 \nL 18.109375 46.1875 \nQ 20.953125 51.171875 25.484375 53.578125 \nQ 30.03125 56 36.53125 56 \nQ 37.453125 56 38.578125 55.875 \nQ 39.703125 55.765625 41.0625 55.515625 \nz\n\" id=\"DejaVuSans-114\"/>\n        <path d=\"M 18.3125 70.21875 \nL 18.3125 54.6875 \nL 36.8125 54.6875 \nL 36.8125 47.703125 \nL 18.3125 47.703125 \nL 18.3125 18.015625 \nQ 18.3125 11.328125 20.140625 9.421875 \nQ 21.96875 7.515625 27.59375 7.515625 \nL 36.8125 7.515625 \nL 36.8125 0 \nL 27.59375 0 \nQ 17.1875 0 13.234375 3.875 \nQ 9.28125 7.765625 9.28125 18.015625 \nL 9.28125 47.703125 \nL 2.6875 47.703125 \nL 2.6875 54.6875 \nL 9.28125 54.6875 \nL 9.28125 70.21875 \nz\n\" id=\"DejaVuSans-116\"/>\n        <path d=\"M 56.203125 29.59375 \nL 56.203125 25.203125 \nL 14.890625 25.203125 \nQ 15.484375 15.921875 20.484375 11.0625 \nQ 25.484375 6.203125 34.421875 6.203125 \nQ 39.59375 6.203125 44.453125 7.46875 \nQ 49.3125 8.734375 54.109375 11.28125 \nL 54.109375 2.78125 \nQ 49.265625 0.734375 44.1875 -0.34375 \nQ 39.109375 -1.421875 33.890625 -1.421875 \nQ 20.796875 -1.421875 13.15625 6.1875 \nQ 5.515625 13.8125 5.515625 26.8125 \nQ 5.515625 40.234375 12.765625 48.109375 \nQ 20.015625 56 32.328125 56 \nQ 43.359375 56 49.78125 48.890625 \nQ 56.203125 41.796875 56.203125 29.59375 \nz\nM 47.21875 32.234375 \nQ 47.125 39.59375 43.09375 43.984375 \nQ 39.0625 48.390625 32.421875 48.390625 \nQ 24.90625 48.390625 20.390625 44.140625 \nQ 15.875 39.890625 15.1875 32.171875 \nz\n\" id=\"DejaVuSans-101\"/>\n        <path d=\"M 52 44.1875 \nQ 55.375 50.25 60.0625 53.125 \nQ 64.75 56 71.09375 56 \nQ 79.640625 56 84.28125 50.015625 \nQ 88.921875 44.046875 88.921875 33.015625 \nL 88.921875 0 \nL 79.890625 0 \nL 79.890625 32.71875 \nQ 79.890625 40.578125 77.09375 44.375 \nQ 74.3125 48.1875 68.609375 48.1875 \nQ 61.625 48.1875 57.5625 43.546875 \nQ 53.515625 38.921875 53.515625 30.90625 \nL 53.515625 0 \nL 44.484375 0 \nL 44.484375 32.71875 \nQ 44.484375 40.625 41.703125 44.40625 \nQ 38.921875 48.1875 33.109375 48.1875 \nQ 26.21875 48.1875 22.15625 43.53125 \nQ 18.109375 38.875 18.109375 30.90625 \nL 18.109375 0 \nL 9.078125 0 \nL 9.078125 54.6875 \nL 18.109375 54.6875 \nL 18.109375 46.1875 \nQ 21.1875 51.21875 25.484375 53.609375 \nQ 29.78125 56 35.6875 56 \nQ 41.65625 56 45.828125 52.96875 \nQ 50 49.953125 52 44.1875 \nz\n\" id=\"DejaVuSans-109\"/>\n        <path d=\"M 54.890625 33.015625 \nL 54.890625 0 \nL 45.90625 0 \nL 45.90625 32.71875 \nQ 45.90625 40.484375 42.875 44.328125 \nQ 39.84375 48.1875 33.796875 48.1875 \nQ 26.515625 48.1875 22.3125 43.546875 \nQ 18.109375 38.921875 18.109375 30.90625 \nL 18.109375 0 \nL 9.078125 0 \nL 9.078125 54.6875 \nL 18.109375 54.6875 \nL 18.109375 46.1875 \nQ 21.34375 51.125 25.703125 53.5625 \nQ 30.078125 56 35.796875 56 \nQ 45.21875 56 50.046875 50.171875 \nQ 54.890625 44.34375 54.890625 33.015625 \nz\n\" id=\"DejaVuSans-110\"/>\n       </defs>\n       <use xlink:href=\"#DejaVuSans-65\"/>\n       <use x=\"68.408203\" xlink:href=\"#DejaVuSans-112\"/>\n       <use x=\"131.884766\" xlink:href=\"#DejaVuSans-112\"/>\n       <use x=\"195.361328\" xlink:href=\"#DejaVuSans-97\"/>\n       <use x=\"256.640625\" xlink:href=\"#DejaVuSans-114\"/>\n       <use x=\"297.753906\" xlink:href=\"#DejaVuSans-116\"/>\n       <use x=\"336.962891\" xlink:href=\"#DejaVuSans-101\"/>\n       <use x=\"398.486328\" xlink:href=\"#DejaVuSans-109\"/>\n       <use x=\"495.898438\" xlink:href=\"#DejaVuSans-101\"/>\n       <use x=\"557.421875\" xlink:href=\"#DejaVuSans-110\"/>\n       <use x=\"620.800781\" xlink:href=\"#DejaVuSans-116\"/>\n      </g>\n     </g>\n    </g>\n    <g id=\"xtick_2\">\n     <g id=\"line2d_2\">\n      <g>\n       <use style=\"stroke:#000000;stroke-width:0.8;\" x=\"156.403125\" xlink:href=\"#mc3ac70dca3\" y=\"327.698437\"/>\n      </g>\n     </g>\n     <g id=\"text_2\">\n      <!-- Dépendance -->\n      <g transform=\"translate(159.3625 397.85625)rotate(-90)scale(0.1 -0.1)\">\n       <defs>\n        <path d=\"M 19.671875 64.796875 \nL 19.671875 8.109375 \nL 31.59375 8.109375 \nQ 46.6875 8.109375 53.6875 14.9375 \nQ 60.6875 21.78125 60.6875 36.53125 \nQ 60.6875 51.171875 53.6875 57.984375 \nQ 46.6875 64.796875 31.59375 64.796875 \nz\nM 9.8125 72.90625 \nL 30.078125 72.90625 \nQ 51.265625 72.90625 61.171875 64.09375 \nQ 71.09375 55.28125 71.09375 36.53125 \nQ 71.09375 17.671875 61.125 8.828125 \nQ 51.171875 0 30.078125 0 \nL 9.8125 0 \nz\n\" id=\"DejaVuSans-68\"/>\n        <path d=\"M 56.203125 29.59375 \nL 56.203125 25.203125 \nL 14.890625 25.203125 \nQ 15.484375 15.921875 20.484375 11.0625 \nQ 25.484375 6.203125 34.421875 6.203125 \nQ 39.59375 6.203125 44.453125 7.46875 \nQ 49.3125 8.734375 54.109375 11.28125 \nL 54.109375 2.78125 \nQ 49.265625 0.734375 44.1875 -0.34375 \nQ 39.109375 -1.421875 33.890625 -1.421875 \nQ 20.796875 -1.421875 13.15625 6.1875 \nQ 5.515625 13.8125 5.515625 26.8125 \nQ 5.515625 40.234375 12.765625 48.109375 \nQ 20.015625 56 32.328125 56 \nQ 43.359375 56 49.78125 48.890625 \nQ 56.203125 41.796875 56.203125 29.59375 \nz\nM 47.21875 32.234375 \nQ 47.125 39.59375 43.09375 43.984375 \nQ 39.0625 48.390625 32.421875 48.390625 \nQ 24.90625 48.390625 20.390625 44.140625 \nQ 15.875 39.890625 15.1875 32.171875 \nz\nM 38.578125 79.984375 \nL 48.296875 79.984375 \nL 32.375 61.625 \nL 24.90625 61.625 \nz\n\" id=\"DejaVuSans-233\"/>\n        <path d=\"M 45.40625 46.390625 \nL 45.40625 75.984375 \nL 54.390625 75.984375 \nL 54.390625 0 \nL 45.40625 0 \nL 45.40625 8.203125 \nQ 42.578125 3.328125 38.25 0.953125 \nQ 33.9375 -1.421875 27.875 -1.421875 \nQ 17.96875 -1.421875 11.734375 6.484375 \nQ 5.515625 14.40625 5.515625 27.296875 \nQ 5.515625 40.1875 11.734375 48.09375 \nQ 17.96875 56 27.875 56 \nQ 33.9375 56 38.25 53.625 \nQ 42.578125 51.265625 45.40625 46.390625 \nz\nM 14.796875 27.296875 \nQ 14.796875 17.390625 18.875 11.75 \nQ 22.953125 6.109375 30.078125 6.109375 \nQ 37.203125 6.109375 41.296875 11.75 \nQ 45.40625 17.390625 45.40625 27.296875 \nQ 45.40625 37.203125 41.296875 42.84375 \nQ 37.203125 48.484375 30.078125 48.484375 \nQ 22.953125 48.484375 18.875 42.84375 \nQ 14.796875 37.203125 14.796875 27.296875 \nz\n\" id=\"DejaVuSans-100\"/>\n        <path d=\"M 48.78125 52.59375 \nL 48.78125 44.1875 \nQ 44.96875 46.296875 41.140625 47.34375 \nQ 37.3125 48.390625 33.40625 48.390625 \nQ 24.65625 48.390625 19.8125 42.84375 \nQ 14.984375 37.3125 14.984375 27.296875 \nQ 14.984375 17.28125 19.8125 11.734375 \nQ 24.65625 6.203125 33.40625 6.203125 \nQ 37.3125 6.203125 41.140625 7.25 \nQ 44.96875 8.296875 48.78125 10.40625 \nL 48.78125 2.09375 \nQ 45.015625 0.34375 40.984375 -0.53125 \nQ 36.96875 -1.421875 32.421875 -1.421875 \nQ 20.0625 -1.421875 12.78125 6.34375 \nQ 5.515625 14.109375 5.515625 27.296875 \nQ 5.515625 40.671875 12.859375 48.328125 \nQ 20.21875 56 33.015625 56 \nQ 37.15625 56 41.109375 55.140625 \nQ 45.0625 54.296875 48.78125 52.59375 \nz\n\" id=\"DejaVuSans-99\"/>\n       </defs>\n       <use xlink:href=\"#DejaVuSans-68\"/>\n       <use x=\"77.001953\" xlink:href=\"#DejaVuSans-233\"/>\n       <use x=\"138.525391\" xlink:href=\"#DejaVuSans-112\"/>\n       <use x=\"202.001953\" xlink:href=\"#DejaVuSans-101\"/>\n       <use x=\"263.525391\" xlink:href=\"#DejaVuSans-110\"/>\n       <use x=\"326.904297\" xlink:href=\"#DejaVuSans-100\"/>\n       <use x=\"390.380859\" xlink:href=\"#DejaVuSans-97\"/>\n       <use x=\"451.660156\" xlink:href=\"#DejaVuSans-110\"/>\n       <use x=\"515.039062\" xlink:href=\"#DejaVuSans-99\"/>\n       <use x=\"570.019531\" xlink:href=\"#DejaVuSans-101\"/>\n      </g>\n     </g>\n    </g>\n    <g id=\"xtick_3\">\n     <g id=\"line2d_3\">\n      <g>\n       <use style=\"stroke:#000000;stroke-width:0.8;\" x=\"237.659375\" xlink:href=\"#mc3ac70dca3\" y=\"327.698437\"/>\n      </g>\n     </g>\n     <g id=\"text_3\">\n      <!-- Local industriel. commercial ou assimilé -->\n      <g transform=\"translate(240.41875 534.8125)rotate(-90)scale(0.1 -0.1)\">\n       <defs>\n        <path d=\"M 9.8125 72.90625 \nL 19.671875 72.90625 \nL 19.671875 8.296875 \nL 55.171875 8.296875 \nL 55.171875 0 \nL 9.8125 0 \nz\n\" id=\"DejaVuSans-76\"/>\n        <path d=\"M 30.609375 48.390625 \nQ 23.390625 48.390625 19.1875 42.75 \nQ 14.984375 37.109375 14.984375 27.296875 \nQ 14.984375 17.484375 19.15625 11.84375 \nQ 23.34375 6.203125 30.609375 6.203125 \nQ 37.796875 6.203125 41.984375 11.859375 \nQ 46.1875 17.53125 46.1875 27.296875 \nQ 46.1875 37.015625 41.984375 42.703125 \nQ 37.796875 48.390625 30.609375 48.390625 \nz\nM 30.609375 56 \nQ 42.328125 56 49.015625 48.375 \nQ 55.71875 40.765625 55.71875 27.296875 \nQ 55.71875 13.875 49.015625 6.21875 \nQ 42.328125 -1.421875 30.609375 -1.421875 \nQ 18.84375 -1.421875 12.171875 6.21875 \nQ 5.515625 13.875 5.515625 27.296875 \nQ 5.515625 40.765625 12.171875 48.375 \nQ 18.84375 56 30.609375 56 \nz\n\" id=\"DejaVuSans-111\"/>\n        <path d=\"M 9.421875 75.984375 \nL 18.40625 75.984375 \nL 18.40625 0 \nL 9.421875 0 \nz\n\" id=\"DejaVuSans-108\"/>\n        <path id=\"DejaVuSans-32\"/>\n        <path d=\"M 9.421875 54.6875 \nL 18.40625 54.6875 \nL 18.40625 0 \nL 9.421875 0 \nz\nM 9.421875 75.984375 \nL 18.40625 75.984375 \nL 18.40625 64.59375 \nL 9.421875 64.59375 \nz\n\" id=\"DejaVuSans-105\"/>\n        <path d=\"M 8.5 21.578125 \nL 8.5 54.6875 \nL 17.484375 54.6875 \nL 17.484375 21.921875 \nQ 17.484375 14.15625 20.5 10.265625 \nQ 23.53125 6.390625 29.59375 6.390625 \nQ 36.859375 6.390625 41.078125 11.03125 \nQ 45.3125 15.671875 45.3125 23.6875 \nL 45.3125 54.6875 \nL 54.296875 54.6875 \nL 54.296875 0 \nL 45.3125 0 \nL 45.3125 8.40625 \nQ 42.046875 3.421875 37.71875 1 \nQ 33.40625 -1.421875 27.6875 -1.421875 \nQ 18.265625 -1.421875 13.375 4.4375 \nQ 8.5 10.296875 8.5 21.578125 \nz\nM 31.109375 56 \nz\n\" id=\"DejaVuSans-117\"/>\n        <path d=\"M 44.28125 53.078125 \nL 44.28125 44.578125 \nQ 40.484375 46.53125 36.375 47.5 \nQ 32.28125 48.484375 27.875 48.484375 \nQ 21.1875 48.484375 17.84375 46.4375 \nQ 14.5 44.390625 14.5 40.28125 \nQ 14.5 37.15625 16.890625 35.375 \nQ 19.28125 33.59375 26.515625 31.984375 \nL 29.59375 31.296875 \nQ 39.15625 29.25 43.1875 25.515625 \nQ 47.21875 21.78125 47.21875 15.09375 \nQ 47.21875 7.46875 41.1875 3.015625 \nQ 35.15625 -1.421875 24.609375 -1.421875 \nQ 20.21875 -1.421875 15.453125 -0.5625 \nQ 10.6875 0.296875 5.421875 2 \nL 5.421875 11.28125 \nQ 10.40625 8.6875 15.234375 7.390625 \nQ 20.0625 6.109375 24.8125 6.109375 \nQ 31.15625 6.109375 34.5625 8.28125 \nQ 37.984375 10.453125 37.984375 14.40625 \nQ 37.984375 18.0625 35.515625 20.015625 \nQ 33.0625 21.96875 24.703125 23.78125 \nL 21.578125 24.515625 \nQ 13.234375 26.265625 9.515625 29.90625 \nQ 5.8125 33.546875 5.8125 39.890625 \nQ 5.8125 47.609375 11.28125 51.796875 \nQ 16.75 56 26.8125 56 \nQ 31.78125 56 36.171875 55.265625 \nQ 40.578125 54.546875 44.28125 53.078125 \nz\n\" id=\"DejaVuSans-115\"/>\n        <path d=\"M 10.6875 12.40625 \nL 21 12.40625 \nL 21 0 \nL 10.6875 0 \nz\n\" id=\"DejaVuSans-46\"/>\n       </defs>\n       <use xlink:href=\"#DejaVuSans-76\"/>\n       <use x=\"53.962891\" xlink:href=\"#DejaVuSans-111\"/>\n       <use x=\"115.144531\" xlink:href=\"#DejaVuSans-99\"/>\n       <use x=\"170.125\" xlink:href=\"#DejaVuSans-97\"/>\n       <use x=\"231.404297\" xlink:href=\"#DejaVuSans-108\"/>\n       <use x=\"259.1875\" xlink:href=\"#DejaVuSans-32\"/>\n       <use x=\"290.974609\" xlink:href=\"#DejaVuSans-105\"/>\n       <use x=\"318.757812\" xlink:href=\"#DejaVuSans-110\"/>\n       <use x=\"382.136719\" xlink:href=\"#DejaVuSans-100\"/>\n       <use x=\"445.613281\" xlink:href=\"#DejaVuSans-117\"/>\n       <use x=\"508.992188\" xlink:href=\"#DejaVuSans-115\"/>\n       <use x=\"561.091797\" xlink:href=\"#DejaVuSans-116\"/>\n       <use x=\"600.300781\" xlink:href=\"#DejaVuSans-114\"/>\n       <use x=\"641.414062\" xlink:href=\"#DejaVuSans-105\"/>\n       <use x=\"669.197266\" xlink:href=\"#DejaVuSans-101\"/>\n       <use x=\"730.720703\" xlink:href=\"#DejaVuSans-108\"/>\n       <use x=\"758.503906\" xlink:href=\"#DejaVuSans-46\"/>\n       <use x=\"790.291016\" xlink:href=\"#DejaVuSans-32\"/>\n       <use x=\"822.078125\" xlink:href=\"#DejaVuSans-99\"/>\n       <use x=\"877.058594\" xlink:href=\"#DejaVuSans-111\"/>\n       <use x=\"938.240234\" xlink:href=\"#DejaVuSans-109\"/>\n       <use x=\"1035.652344\" xlink:href=\"#DejaVuSans-109\"/>\n       <use x=\"1133.064453\" xlink:href=\"#DejaVuSans-101\"/>\n       <use x=\"1194.587891\" xlink:href=\"#DejaVuSans-114\"/>\n       <use x=\"1233.451172\" xlink:href=\"#DejaVuSans-99\"/>\n       <use x=\"1288.431641\" xlink:href=\"#DejaVuSans-105\"/>\n       <use x=\"1316.214844\" xlink:href=\"#DejaVuSans-97\"/>\n       <use x=\"1377.494141\" xlink:href=\"#DejaVuSans-108\"/>\n       <use x=\"1405.277344\" xlink:href=\"#DejaVuSans-32\"/>\n       <use x=\"1437.064453\" xlink:href=\"#DejaVuSans-111\"/>\n       <use x=\"1498.246094\" xlink:href=\"#DejaVuSans-117\"/>\n       <use x=\"1561.625\" xlink:href=\"#DejaVuSans-32\"/>\n       <use x=\"1593.412109\" xlink:href=\"#DejaVuSans-97\"/>\n       <use x=\"1654.691406\" xlink:href=\"#DejaVuSans-115\"/>\n       <use x=\"1706.791016\" xlink:href=\"#DejaVuSans-115\"/>\n       <use x=\"1758.890625\" xlink:href=\"#DejaVuSans-105\"/>\n       <use x=\"1786.673828\" xlink:href=\"#DejaVuSans-109\"/>\n       <use x=\"1884.085938\" xlink:href=\"#DejaVuSans-105\"/>\n       <use x=\"1911.869141\" xlink:href=\"#DejaVuSans-108\"/>\n       <use x=\"1939.652344\" xlink:href=\"#DejaVuSans-233\"/>\n      </g>\n     </g>\n    </g>\n    <g id=\"xtick_4\">\n     <g id=\"line2d_4\">\n      <g>\n       <use style=\"stroke:#000000;stroke-width:0.8;\" x=\"318.915625\" xlink:href=\"#mc3ac70dca3\" y=\"327.698437\"/>\n      </g>\n     </g>\n     <g id=\"text_4\">\n      <!-- Maison -->\n      <g transform=\"translate(321.675 369.898437)rotate(-90)scale(0.1 -0.1)\">\n       <defs>\n        <path d=\"M 9.8125 72.90625 \nL 24.515625 72.90625 \nL 43.109375 23.296875 \nL 61.8125 72.90625 \nL 76.515625 72.90625 \nL 76.515625 0 \nL 66.890625 0 \nL 66.890625 64.015625 \nL 48.09375 14.015625 \nL 38.1875 14.015625 \nL 19.390625 64.015625 \nL 19.390625 0 \nL 9.8125 0 \nz\n\" id=\"DejaVuSans-77\"/>\n       </defs>\n       <use xlink:href=\"#DejaVuSans-77\"/>\n       <use x=\"86.279297\" xlink:href=\"#DejaVuSans-97\"/>\n       <use x=\"147.558594\" xlink:href=\"#DejaVuSans-105\"/>\n       <use x=\"175.341797\" xlink:href=\"#DejaVuSans-115\"/>\n       <use x=\"227.441406\" xlink:href=\"#DejaVuSans-111\"/>\n       <use x=\"288.623047\" xlink:href=\"#DejaVuSans-110\"/>\n      </g>\n     </g>\n    </g>\n    <g id=\"text_5\">\n     <!-- Type_local -->\n     <g transform=\"translate(171.397656 546.410937)scale(0.1 -0.1)\">\n      <defs>\n       <path d=\"M -0.296875 72.90625 \nL 61.375 72.90625 \nL 61.375 64.59375 \nL 35.5 64.59375 \nL 35.5 0 \nL 25.59375 0 \nL 25.59375 64.59375 \nL -0.296875 64.59375 \nz\n\" id=\"DejaVuSans-84\"/>\n       <path d=\"M 32.171875 -5.078125 \nQ 28.375 -14.84375 24.75 -17.8125 \nQ 21.140625 -20.796875 15.09375 -20.796875 \nL 7.90625 -20.796875 \nL 7.90625 -13.28125 \nL 13.1875 -13.28125 \nQ 16.890625 -13.28125 18.9375 -11.515625 \nQ 21 -9.765625 23.484375 -3.21875 \nL 25.09375 0.875 \nL 2.984375 54.6875 \nL 12.5 54.6875 \nL 29.59375 11.921875 \nL 46.6875 54.6875 \nL 56.203125 54.6875 \nz\n\" id=\"DejaVuSans-121\"/>\n       <path d=\"M 50.984375 -16.609375 \nL 50.984375 -23.578125 \nL -0.984375 -23.578125 \nL -0.984375 -16.609375 \nz\n\" id=\"DejaVuSans-95\"/>\n      </defs>\n      <use xlink:href=\"#DejaVuSans-84\"/>\n      <use x=\"45.458984\" xlink:href=\"#DejaVuSans-121\"/>\n      <use x=\"104.638672\" xlink:href=\"#DejaVuSans-112\"/>\n      <use x=\"168.115234\" xlink:href=\"#DejaVuSans-101\"/>\n      <use x=\"229.638672\" xlink:href=\"#DejaVuSans-95\"/>\n      <use x=\"279.638672\" xlink:href=\"#DejaVuSans-108\"/>\n      <use x=\"307.421875\" xlink:href=\"#DejaVuSans-111\"/>\n      <use x=\"368.603516\" xlink:href=\"#DejaVuSans-99\"/>\n      <use x=\"423.583984\" xlink:href=\"#DejaVuSans-97\"/>\n      <use x=\"484.863281\" xlink:href=\"#DejaVuSans-108\"/>\n     </g>\n    </g>\n   </g>\n   <g id=\"matplotlib.axis_2\">\n    <g id=\"ytick_1\">\n     <g id=\"line2d_5\">\n      <defs>\n       <path d=\"M 0 0 \nL -3.5 0 \n\" id=\"m5f1fd83bea\" style=\"stroke:#000000;stroke-width:0.8;\"/>\n      </defs>\n      <g>\n       <use style=\"stroke:#000000;stroke-width:0.8;\" x=\"34.51875\" xlink:href=\"#m5f1fd83bea\" y=\"327.698437\"/>\n      </g>\n     </g>\n     <g id=\"text_6\">\n      <!-- 0 -->\n      <g transform=\"translate(21.15625 331.497656)scale(0.1 -0.1)\">\n       <defs>\n        <path d=\"M 31.78125 66.40625 \nQ 24.171875 66.40625 20.328125 58.90625 \nQ 16.5 51.421875 16.5 36.375 \nQ 16.5 21.390625 20.328125 13.890625 \nQ 24.171875 6.390625 31.78125 6.390625 \nQ 39.453125 6.390625 43.28125 13.890625 \nQ 47.125 21.390625 47.125 36.375 \nQ 47.125 51.421875 43.28125 58.90625 \nQ 39.453125 66.40625 31.78125 66.40625 \nz\nM 31.78125 74.21875 \nQ 44.046875 74.21875 50.515625 64.515625 \nQ 56.984375 54.828125 56.984375 36.375 \nQ 56.984375 17.96875 50.515625 8.265625 \nQ 44.046875 -1.421875 31.78125 -1.421875 \nQ 19.53125 -1.421875 13.0625 8.265625 \nQ 6.59375 17.96875 6.59375 36.375 \nQ 6.59375 54.828125 13.0625 64.515625 \nQ 19.53125 74.21875 31.78125 74.21875 \nz\n\" id=\"DejaVuSans-48\"/>\n       </defs>\n       <use xlink:href=\"#DejaVuSans-48\"/>\n      </g>\n     </g>\n    </g>\n    <g id=\"ytick_2\">\n     <g id=\"line2d_6\">\n      <g>\n       <use style=\"stroke:#000000;stroke-width:0.8;\" x=\"34.51875\" xlink:href=\"#m5f1fd83bea\" y=\"276.879428\"/>\n      </g>\n     </g>\n     <g id=\"text_7\">\n      <!-- 1 -->\n      <g transform=\"translate(21.15625 280.678646)scale(0.1 -0.1)\">\n       <defs>\n        <path d=\"M 12.40625 8.296875 \nL 28.515625 8.296875 \nL 28.515625 63.921875 \nL 10.984375 60.40625 \nL 10.984375 69.390625 \nL 28.421875 72.90625 \nL 38.28125 72.90625 \nL 38.28125 8.296875 \nL 54.390625 8.296875 \nL 54.390625 0 \nL 12.40625 0 \nz\n\" id=\"DejaVuSans-49\"/>\n       </defs>\n       <use xlink:href=\"#DejaVuSans-49\"/>\n      </g>\n     </g>\n    </g>\n    <g id=\"ytick_3\">\n     <g id=\"line2d_7\">\n      <g>\n       <use style=\"stroke:#000000;stroke-width:0.8;\" x=\"34.51875\" xlink:href=\"#m5f1fd83bea\" y=\"226.060418\"/>\n      </g>\n     </g>\n     <g id=\"text_8\">\n      <!-- 2 -->\n      <g transform=\"translate(21.15625 229.859637)scale(0.1 -0.1)\">\n       <defs>\n        <path d=\"M 19.1875 8.296875 \nL 53.609375 8.296875 \nL 53.609375 0 \nL 7.328125 0 \nL 7.328125 8.296875 \nQ 12.9375 14.109375 22.625 23.890625 \nQ 32.328125 33.6875 34.8125 36.53125 \nQ 39.546875 41.84375 41.421875 45.53125 \nQ 43.3125 49.21875 43.3125 52.78125 \nQ 43.3125 58.59375 39.234375 62.25 \nQ 35.15625 65.921875 28.609375 65.921875 \nQ 23.96875 65.921875 18.8125 64.3125 \nQ 13.671875 62.703125 7.8125 59.421875 \nL 7.8125 69.390625 \nQ 13.765625 71.78125 18.9375 73 \nQ 24.125 74.21875 28.421875 74.21875 \nQ 39.75 74.21875 46.484375 68.546875 \nQ 53.21875 62.890625 53.21875 53.421875 \nQ 53.21875 48.921875 51.53125 44.890625 \nQ 49.859375 40.875 45.40625 35.40625 \nQ 44.1875 33.984375 37.640625 27.21875 \nQ 31.109375 20.453125 19.1875 8.296875 \nz\n\" id=\"DejaVuSans-50\"/>\n       </defs>\n       <use xlink:href=\"#DejaVuSans-50\"/>\n      </g>\n     </g>\n    </g>\n    <g id=\"ytick_4\">\n     <g id=\"line2d_8\">\n      <g>\n       <use style=\"stroke:#000000;stroke-width:0.8;\" x=\"34.51875\" xlink:href=\"#m5f1fd83bea\" y=\"175.241408\"/>\n      </g>\n     </g>\n     <g id=\"text_9\">\n      <!-- 3 -->\n      <g transform=\"translate(21.15625 179.040627)scale(0.1 -0.1)\">\n       <defs>\n        <path d=\"M 40.578125 39.3125 \nQ 47.65625 37.796875 51.625 33 \nQ 55.609375 28.21875 55.609375 21.1875 \nQ 55.609375 10.40625 48.1875 4.484375 \nQ 40.765625 -1.421875 27.09375 -1.421875 \nQ 22.515625 -1.421875 17.65625 -0.515625 \nQ 12.796875 0.390625 7.625 2.203125 \nL 7.625 11.71875 \nQ 11.71875 9.328125 16.59375 8.109375 \nQ 21.484375 6.890625 26.8125 6.890625 \nQ 36.078125 6.890625 40.9375 10.546875 \nQ 45.796875 14.203125 45.796875 21.1875 \nQ 45.796875 27.640625 41.28125 31.265625 \nQ 36.765625 34.90625 28.71875 34.90625 \nL 20.21875 34.90625 \nL 20.21875 43.015625 \nL 29.109375 43.015625 \nQ 36.375 43.015625 40.234375 45.921875 \nQ 44.09375 48.828125 44.09375 54.296875 \nQ 44.09375 59.90625 40.109375 62.90625 \nQ 36.140625 65.921875 28.71875 65.921875 \nQ 24.65625 65.921875 20.015625 65.03125 \nQ 15.375 64.15625 9.8125 62.3125 \nL 9.8125 71.09375 \nQ 15.4375 72.65625 20.34375 73.4375 \nQ 25.25 74.21875 29.59375 74.21875 \nQ 40.828125 74.21875 47.359375 69.109375 \nQ 53.90625 64.015625 53.90625 55.328125 \nQ 53.90625 49.265625 50.4375 45.09375 \nQ 46.96875 40.921875 40.578125 39.3125 \nz\n\" id=\"DejaVuSans-51\"/>\n       </defs>\n       <use xlink:href=\"#DejaVuSans-51\"/>\n      </g>\n     </g>\n    </g>\n    <g id=\"ytick_5\">\n     <g id=\"line2d_9\">\n      <g>\n       <use style=\"stroke:#000000;stroke-width:0.8;\" x=\"34.51875\" xlink:href=\"#m5f1fd83bea\" y=\"124.422398\"/>\n      </g>\n     </g>\n     <g id=\"text_10\">\n      <!-- 4 -->\n      <g transform=\"translate(21.15625 128.221617)scale(0.1 -0.1)\">\n       <defs>\n        <path d=\"M 37.796875 64.3125 \nL 12.890625 25.390625 \nL 37.796875 25.390625 \nz\nM 35.203125 72.90625 \nL 47.609375 72.90625 \nL 47.609375 25.390625 \nL 58.015625 25.390625 \nL 58.015625 17.1875 \nL 47.609375 17.1875 \nL 47.609375 0 \nL 37.796875 0 \nL 37.796875 17.1875 \nL 4.890625 17.1875 \nL 4.890625 26.703125 \nz\n\" id=\"DejaVuSans-52\"/>\n       </defs>\n       <use xlink:href=\"#DejaVuSans-52\"/>\n      </g>\n     </g>\n    </g>\n    <g id=\"ytick_6\">\n     <g id=\"line2d_10\">\n      <g>\n       <use style=\"stroke:#000000;stroke-width:0.8;\" x=\"34.51875\" xlink:href=\"#m5f1fd83bea\" y=\"73.603389\"/>\n      </g>\n     </g>\n     <g id=\"text_11\">\n      <!-- 5 -->\n      <g transform=\"translate(21.15625 77.402607)scale(0.1 -0.1)\">\n       <defs>\n        <path d=\"M 10.796875 72.90625 \nL 49.515625 72.90625 \nL 49.515625 64.59375 \nL 19.828125 64.59375 \nL 19.828125 46.734375 \nQ 21.96875 47.46875 24.109375 47.828125 \nQ 26.265625 48.1875 28.421875 48.1875 \nQ 40.625 48.1875 47.75 41.5 \nQ 54.890625 34.8125 54.890625 23.390625 \nQ 54.890625 11.625 47.5625 5.09375 \nQ 40.234375 -1.421875 26.90625 -1.421875 \nQ 22.3125 -1.421875 17.546875 -0.640625 \nQ 12.796875 0.140625 7.71875 1.703125 \nL 7.71875 11.625 \nQ 12.109375 9.234375 16.796875 8.0625 \nQ 21.484375 6.890625 26.703125 6.890625 \nQ 35.15625 6.890625 40.078125 11.328125 \nQ 45.015625 15.765625 45.015625 23.390625 \nQ 45.015625 31 40.078125 35.4375 \nQ 35.15625 39.890625 26.703125 39.890625 \nQ 22.75 39.890625 18.8125 39.015625 \nQ 14.890625 38.140625 10.796875 36.28125 \nz\n\" id=\"DejaVuSans-53\"/>\n       </defs>\n       <use xlink:href=\"#DejaVuSans-53\"/>\n      </g>\n     </g>\n    </g>\n    <g id=\"ytick_7\">\n     <g id=\"line2d_11\">\n      <g>\n       <use style=\"stroke:#000000;stroke-width:0.8;\" x=\"34.51875\" xlink:href=\"#m5f1fd83bea\" y=\"22.784379\"/>\n      </g>\n     </g>\n     <g id=\"text_12\">\n      <!-- 6 -->\n      <g transform=\"translate(21.15625 26.583598)scale(0.1 -0.1)\">\n       <defs>\n        <path d=\"M 33.015625 40.375 \nQ 26.375 40.375 22.484375 35.828125 \nQ 18.609375 31.296875 18.609375 23.390625 \nQ 18.609375 15.53125 22.484375 10.953125 \nQ 26.375 6.390625 33.015625 6.390625 \nQ 39.65625 6.390625 43.53125 10.953125 \nQ 47.40625 15.53125 47.40625 23.390625 \nQ 47.40625 31.296875 43.53125 35.828125 \nQ 39.65625 40.375 33.015625 40.375 \nz\nM 52.59375 71.296875 \nL 52.59375 62.3125 \nQ 48.875 64.0625 45.09375 64.984375 \nQ 41.3125 65.921875 37.59375 65.921875 \nQ 27.828125 65.921875 22.671875 59.328125 \nQ 17.53125 52.734375 16.796875 39.40625 \nQ 19.671875 43.65625 24.015625 45.921875 \nQ 28.375 48.1875 33.59375 48.1875 \nQ 44.578125 48.1875 50.953125 41.515625 \nQ 57.328125 34.859375 57.328125 23.390625 \nQ 57.328125 12.15625 50.6875 5.359375 \nQ 44.046875 -1.421875 33.015625 -1.421875 \nQ 20.359375 -1.421875 13.671875 8.265625 \nQ 6.984375 17.96875 6.984375 36.375 \nQ 6.984375 53.65625 15.1875 63.9375 \nQ 23.390625 74.21875 37.203125 74.21875 \nQ 40.921875 74.21875 44.703125 73.484375 \nQ 48.484375 72.75 52.59375 71.296875 \nz\n\" id=\"DejaVuSans-54\"/>\n       </defs>\n       <use xlink:href=\"#DejaVuSans-54\"/>\n      </g>\n     </g>\n    </g>\n    <g id=\"text_13\">\n     <!-- Valeur_fonciere -->\n     <g transform=\"translate(14.798438 211.257812)rotate(-90)scale(0.1 -0.1)\">\n      <defs>\n       <path d=\"M 28.609375 0 \nL 0.78125 72.90625 \nL 11.078125 72.90625 \nL 34.1875 11.53125 \nL 57.328125 72.90625 \nL 67.578125 72.90625 \nL 39.796875 0 \nz\n\" id=\"DejaVuSans-86\"/>\n       <path d=\"M 37.109375 75.984375 \nL 37.109375 68.5 \nL 28.515625 68.5 \nQ 23.6875 68.5 21.796875 66.546875 \nQ 19.921875 64.59375 19.921875 59.515625 \nL 19.921875 54.6875 \nL 34.71875 54.6875 \nL 34.71875 47.703125 \nL 19.921875 47.703125 \nL 19.921875 0 \nL 10.890625 0 \nL 10.890625 47.703125 \nL 2.296875 47.703125 \nL 2.296875 54.6875 \nL 10.890625 54.6875 \nL 10.890625 58.5 \nQ 10.890625 67.625 15.140625 71.796875 \nQ 19.390625 75.984375 28.609375 75.984375 \nz\n\" id=\"DejaVuSans-102\"/>\n      </defs>\n      <use xlink:href=\"#DejaVuSans-86\"/>\n      <use x=\"60.658203\" xlink:href=\"#DejaVuSans-97\"/>\n      <use x=\"121.9375\" xlink:href=\"#DejaVuSans-108\"/>\n      <use x=\"149.720703\" xlink:href=\"#DejaVuSans-101\"/>\n      <use x=\"211.244141\" xlink:href=\"#DejaVuSans-117\"/>\n      <use x=\"274.623047\" xlink:href=\"#DejaVuSans-114\"/>\n      <use x=\"315.736328\" xlink:href=\"#DejaVuSans-95\"/>\n      <use x=\"365.736328\" xlink:href=\"#DejaVuSans-102\"/>\n      <use x=\"400.941406\" xlink:href=\"#DejaVuSans-111\"/>\n      <use x=\"462.123047\" xlink:href=\"#DejaVuSans-110\"/>\n      <use x=\"525.501953\" xlink:href=\"#DejaVuSans-99\"/>\n      <use x=\"580.482422\" xlink:href=\"#DejaVuSans-105\"/>\n      <use x=\"608.265625\" xlink:href=\"#DejaVuSans-101\"/>\n      <use x=\"669.789062\" xlink:href=\"#DejaVuSans-114\"/>\n      <use x=\"708.652344\" xlink:href=\"#DejaVuSans-101\"/>\n     </g>\n    </g>\n    <g id=\"text_14\">\n     <!-- 1e12 -->\n     <g transform=\"translate(34.51875 14.798437)scale(0.1 -0.1)\">\n      <use xlink:href=\"#DejaVuSans-49\"/>\n      <use x=\"63.623047\" xlink:href=\"#DejaVuSans-101\"/>\n      <use x=\"125.146484\" xlink:href=\"#DejaVuSans-49\"/>\n      <use x=\"188.769531\" xlink:href=\"#DejaVuSans-50\"/>\n     </g>\n    </g>\n   </g>\n   <g id=\"line2d_12\">\n    <path clip-path=\"url(#p0f732ed427)\" d=\"M 0 0 \n\" style=\"fill:none;stroke:#424242;stroke-linecap:square;stroke-width:2.7;\"/>\n   </g>\n   <g id=\"line2d_13\">\n    <path clip-path=\"url(#p0f732ed427)\" d=\"M 0 0 \n\" style=\"fill:none;stroke:#424242;stroke-linecap:square;stroke-width:2.7;\"/>\n   </g>\n   <g id=\"line2d_14\">\n    <path clip-path=\"url(#p0f732ed427)\" d=\"M 0 0 \n\" style=\"fill:none;stroke:#424242;stroke-linecap:square;stroke-width:2.7;\"/>\n   </g>\n   <g id=\"line2d_15\">\n    <path clip-path=\"url(#p0f732ed427)\" d=\"M 0 0 \n\" style=\"fill:none;stroke:#424242;stroke-linecap:square;stroke-width:2.7;\"/>\n   </g>\n   <g id=\"patch_7\">\n    <path d=\"M 34.51875 327.698437 \nL 34.51875 17.798437 \n\" style=\"fill:none;stroke:#000000;stroke-linecap:square;stroke-linejoin:miter;stroke-width:0.8;\"/>\n   </g>\n   <g id=\"patch_8\">\n    <path d=\"M 34.51875 327.698437 \nL 359.54375 327.698437 \n\" style=\"fill:none;stroke:#000000;stroke-linecap:square;stroke-linejoin:miter;stroke-width:0.8;\"/>\n   </g>\n  </g>\n </g>\n <defs>\n  <clipPath id=\"p0f732ed427\">\n   <rect height=\"309.9\" width=\"325.025\" x=\"34.51875\" y=\"17.798437\"/>\n  </clipPath>\n </defs>\n</svg>\n",
      "image/png": "[encoded data removed]"
     },
     "metadata": {
      "needs_background": "light"
     }
    }
   ],
   "source": [
    "df_grp = df.groupby(['Type_local'])['Valeur_fonciere'].sum()\n",
    "df_grp = pd.DataFrame(df_grp)\n",
    "g = sns.catplot(x=df_grp.index, y='Valeur_fonciere', data = df_grp, kind='bar')\n",
    "g.set_xticklabels(rotation=90)\n",
    "df_grp.head()"
   ]
  },
  {
   "cell_type": "code",
   "execution_count": 32,
   "metadata": {},
   "outputs": [
    {
     "output_type": "execute_result",
     "data": {
      "text/plain": [
       "                                          Prix_par_m_bati\n",
       "Type_local                                               \n",
       "Appartement                                  1.196519e+11\n",
       "Dépendance                                   1.199478e+09\n",
       "Local industriel. commercial ou assimilé     3.329098e+10\n",
       "Maison                                       1.417523e+10"
      ],
      "text/html": "<div>\n<style scoped>\n    .dataframe tbody tr th:only-of-type {\n        vertical-align: middle;\n    }\n\n    .dataframe tbody tr th {\n        vertical-align: top;\n    }\n\n    .dataframe thead th {\n        text-align: right;\n    }\n</style>\n<table border=\"1\" class=\"dataframe\">\n  <thead>\n    <tr style=\"text-align: right;\">\n      <th></th>\n      <th>Prix_par_m_bati</th>\n    </tr>\n    <tr>\n      <th>Type_local</th>\n      <th></th>\n    </tr>\n  </thead>\n  <tbody>\n    <tr>\n      <th>Appartement</th>\n      <td>1.196519e+11</td>\n    </tr>\n    <tr>\n      <th>Dépendance</th>\n      <td>1.199478e+09</td>\n    </tr>\n    <tr>\n      <th>Local industriel. commercial ou assimilé</th>\n      <td>3.329098e+10</td>\n    </tr>\n    <tr>\n      <th>Maison</th>\n      <td>1.417523e+10</td>\n    </tr>\n  </tbody>\n</table>\n</div>"
     },
     "metadata": {},
     "execution_count": 32
    },
    {
     "output_type": "display_data",
     "data": {
      "text/plain": "<Figure size 360x360 with 1 Axes>",
      "image/svg+xml": "<?xml version=\"1.0\" encoding=\"utf-8\" standalone=\"no\"?>\n<!DOCTYPE svg PUBLIC \"-//W3C//DTD SVG 1.1//EN\"\n  \"http://www.w3.org/Graphics/SVG/1.1/DTD/svg11.dtd\">\n<!-- Created with matplotlib (https://matplotlib.org/) -->\n<svg height=\"555.96875pt\" version=\"1.1\" viewBox=\"0 0 366.659375 555.96875\" width=\"366.659375pt\" xmlns=\"http://www.w3.org/2000/svg\" xmlns:xlink=\"http://www.w3.org/1999/xlink\">\n <metadata>\n  <rdf:RDF xmlns:cc=\"http://creativecommons.org/ns#\" xmlns:dc=\"http://purl.org/dc/elements/1.1/\" xmlns:rdf=\"http://www.w3.org/1999/02/22-rdf-syntax-ns#\">\n   <cc:Work>\n    <dc:type rdf:resource=\"http://purl.org/dc/dcmitype/StillImage\"/>\n    <dc:date>2021-01-16T10:42:32.111977</dc:date>\n    <dc:format>image/svg+xml</dc:format>\n    <dc:creator>\n     <cc:Agent>\n      <dc:title>Matplotlib v3.3.2, https://matplotlib.org/</dc:title>\n     </cc:Agent>\n    </dc:creator>\n   </cc:Work>\n  </rdf:RDF>\n </metadata>\n <defs>\n  <style type=\"text/css\">*{stroke-linecap:butt;stroke-linejoin:round;}</style>\n </defs>\n <g id=\"figure_1\">\n  <g id=\"patch_1\">\n   <path d=\"M 0 555.96875 \nL 366.659375 555.96875 \nL 366.659375 0 \nL 0 0 \nz\n\" style=\"fill:none;\"/>\n  </g>\n  <g id=\"axes_1\">\n   <g id=\"patch_2\">\n    <path d=\"M 44.059375 327.698437 \nL 359.459375 327.698437 \nL 359.459375 17.798437 \nL 44.059375 17.798437 \nz\n\" style=\"fill:#ffffff;\"/>\n   </g>\n   <g id=\"patch_3\">\n    <path clip-path=\"url(#pc915f92a7e)\" d=\"M 51.944375 327.698437 \nL 115.024375 327.698437 \nL 115.024375 32.55558 \nL 51.944375 32.55558 \nz\n\" style=\"fill:#3274a1;\"/>\n   </g>\n   <g id=\"patch_4\">\n    <path clip-path=\"url(#pc915f92a7e)\" d=\"M 130.794375 327.698437 \nL 193.874375 327.698437 \nL 193.874375 324.739712 \nL 130.794375 324.739712 \nz\n\" style=\"fill:#e1812c;\"/>\n   </g>\n   <g id=\"patch_5\">\n    <path clip-path=\"url(#pc915f92a7e)\" d=\"M 209.644375 327.698437 \nL 272.724375 327.698437 \nL 272.724375 245.580285 \nL 209.644375 245.580285 \nz\n\" style=\"fill:#3a923a;\"/>\n   </g>\n   <g id=\"patch_6\">\n    <path clip-path=\"url(#pc915f92a7e)\" d=\"M 288.494375 327.698437 \nL 351.574375 327.698437 \nL 351.574375 292.732702 \nL 288.494375 292.732702 \nz\n\" style=\"fill:#c03d3e;\"/>\n   </g>\n   <g id=\"matplotlib.axis_1\">\n    <g id=\"xtick_1\">\n     <g id=\"line2d_1\">\n      <defs>\n       <path d=\"M 0 0 \nL 0 3.5 \n\" id=\"m1f45ad077c\" style=\"stroke:#000000;stroke-width:0.8;\"/>\n      </defs>\n      <g>\n       <use style=\"stroke:#000000;stroke-width:0.8;\" x=\"83.484375\" xlink:href=\"#m1f45ad077c\" y=\"327.698437\"/>\n      </g>\n     </g>\n     <g id=\"text_1\">\n      <!-- Appartement -->\n      <g transform=\"translate(86.24375 400.7)rotate(-90)scale(0.1 -0.1)\">\n       <defs>\n        <path d=\"M 34.1875 63.1875 \nL 20.796875 26.90625 \nL 47.609375 26.90625 \nz\nM 28.609375 72.90625 \nL 39.796875 72.90625 \nL 67.578125 0 \nL 57.328125 0 \nL 50.6875 18.703125 \nL 17.828125 18.703125 \nL 11.1875 0 \nL 0.78125 0 \nz\n\" id=\"DejaVuSans-65\"/>\n        <path d=\"M 18.109375 8.203125 \nL 18.109375 -20.796875 \nL 9.078125 -20.796875 \nL 9.078125 54.6875 \nL 18.109375 54.6875 \nL 18.109375 46.390625 \nQ 20.953125 51.265625 25.265625 53.625 \nQ 29.59375 56 35.59375 56 \nQ 45.5625 56 51.78125 48.09375 \nQ 58.015625 40.1875 58.015625 27.296875 \nQ 58.015625 14.40625 51.78125 6.484375 \nQ 45.5625 -1.421875 35.59375 -1.421875 \nQ 29.59375 -1.421875 25.265625 0.953125 \nQ 20.953125 3.328125 18.109375 8.203125 \nz\nM 48.6875 27.296875 \nQ 48.6875 37.203125 44.609375 42.84375 \nQ 40.53125 48.484375 33.40625 48.484375 \nQ 26.265625 48.484375 22.1875 42.84375 \nQ 18.109375 37.203125 18.109375 27.296875 \nQ 18.109375 17.390625 22.1875 11.75 \nQ 26.265625 6.109375 33.40625 6.109375 \nQ 40.53125 6.109375 44.609375 11.75 \nQ 48.6875 17.390625 48.6875 27.296875 \nz\n\" id=\"DejaVuSans-112\"/>\n        <path d=\"M 34.28125 27.484375 \nQ 23.390625 27.484375 19.1875 25 \nQ 14.984375 22.515625 14.984375 16.5 \nQ 14.984375 11.71875 18.140625 8.90625 \nQ 21.296875 6.109375 26.703125 6.109375 \nQ 34.1875 6.109375 38.703125 11.40625 \nQ 43.21875 16.703125 43.21875 25.484375 \nL 43.21875 27.484375 \nz\nM 52.203125 31.203125 \nL 52.203125 0 \nL 43.21875 0 \nL 43.21875 8.296875 \nQ 40.140625 3.328125 35.546875 0.953125 \nQ 30.953125 -1.421875 24.3125 -1.421875 \nQ 15.921875 -1.421875 10.953125 3.296875 \nQ 6 8.015625 6 15.921875 \nQ 6 25.140625 12.171875 29.828125 \nQ 18.359375 34.515625 30.609375 34.515625 \nL 43.21875 34.515625 \nL 43.21875 35.40625 \nQ 43.21875 41.609375 39.140625 45 \nQ 35.0625 48.390625 27.6875 48.390625 \nQ 23 48.390625 18.546875 47.265625 \nQ 14.109375 46.140625 10.015625 43.890625 \nL 10.015625 52.203125 \nQ 14.9375 54.109375 19.578125 55.046875 \nQ 24.21875 56 28.609375 56 \nQ 40.484375 56 46.34375 49.84375 \nQ 52.203125 43.703125 52.203125 31.203125 \nz\n\" id=\"DejaVuSans-97\"/>\n        <path d=\"M 41.109375 46.296875 \nQ 39.59375 47.171875 37.8125 47.578125 \nQ 36.03125 48 33.890625 48 \nQ 26.265625 48 22.1875 43.046875 \nQ 18.109375 38.09375 18.109375 28.8125 \nL 18.109375 0 \nL 9.078125 0 \nL 9.078125 54.6875 \nL 18.109375 54.6875 \nL 18.109375 46.1875 \nQ 20.953125 51.171875 25.484375 53.578125 \nQ 30.03125 56 36.53125 56 \nQ 37.453125 56 38.578125 55.875 \nQ 39.703125 55.765625 41.0625 55.515625 \nz\n\" id=\"DejaVuSans-114\"/>\n        <path d=\"M 18.3125 70.21875 \nL 18.3125 54.6875 \nL 36.8125 54.6875 \nL 36.8125 47.703125 \nL 18.3125 47.703125 \nL 18.3125 18.015625 \nQ 18.3125 11.328125 20.140625 9.421875 \nQ 21.96875 7.515625 27.59375 7.515625 \nL 36.8125 7.515625 \nL 36.8125 0 \nL 27.59375 0 \nQ 17.1875 0 13.234375 3.875 \nQ 9.28125 7.765625 9.28125 18.015625 \nL 9.28125 47.703125 \nL 2.6875 47.703125 \nL 2.6875 54.6875 \nL 9.28125 54.6875 \nL 9.28125 70.21875 \nz\n\" id=\"DejaVuSans-116\"/>\n        <path d=\"M 56.203125 29.59375 \nL 56.203125 25.203125 \nL 14.890625 25.203125 \nQ 15.484375 15.921875 20.484375 11.0625 \nQ 25.484375 6.203125 34.421875 6.203125 \nQ 39.59375 6.203125 44.453125 7.46875 \nQ 49.3125 8.734375 54.109375 11.28125 \nL 54.109375 2.78125 \nQ 49.265625 0.734375 44.1875 -0.34375 \nQ 39.109375 -1.421875 33.890625 -1.421875 \nQ 20.796875 -1.421875 13.15625 6.1875 \nQ 5.515625 13.8125 5.515625 26.8125 \nQ 5.515625 40.234375 12.765625 48.109375 \nQ 20.015625 56 32.328125 56 \nQ 43.359375 56 49.78125 48.890625 \nQ 56.203125 41.796875 56.203125 29.59375 \nz\nM 47.21875 32.234375 \nQ 47.125 39.59375 43.09375 43.984375 \nQ 39.0625 48.390625 32.421875 48.390625 \nQ 24.90625 48.390625 20.390625 44.140625 \nQ 15.875 39.890625 15.1875 32.171875 \nz\n\" id=\"DejaVuSans-101\"/>\n        <path d=\"M 52 44.1875 \nQ 55.375 50.25 60.0625 53.125 \nQ 64.75 56 71.09375 56 \nQ 79.640625 56 84.28125 50.015625 \nQ 88.921875 44.046875 88.921875 33.015625 \nL 88.921875 0 \nL 79.890625 0 \nL 79.890625 32.71875 \nQ 79.890625 40.578125 77.09375 44.375 \nQ 74.3125 48.1875 68.609375 48.1875 \nQ 61.625 48.1875 57.5625 43.546875 \nQ 53.515625 38.921875 53.515625 30.90625 \nL 53.515625 0 \nL 44.484375 0 \nL 44.484375 32.71875 \nQ 44.484375 40.625 41.703125 44.40625 \nQ 38.921875 48.1875 33.109375 48.1875 \nQ 26.21875 48.1875 22.15625 43.53125 \nQ 18.109375 38.875 18.109375 30.90625 \nL 18.109375 0 \nL 9.078125 0 \nL 9.078125 54.6875 \nL 18.109375 54.6875 \nL 18.109375 46.1875 \nQ 21.1875 51.21875 25.484375 53.609375 \nQ 29.78125 56 35.6875 56 \nQ 41.65625 56 45.828125 52.96875 \nQ 50 49.953125 52 44.1875 \nz\n\" id=\"DejaVuSans-109\"/>\n        <path d=\"M 54.890625 33.015625 \nL 54.890625 0 \nL 45.90625 0 \nL 45.90625 32.71875 \nQ 45.90625 40.484375 42.875 44.328125 \nQ 39.84375 48.1875 33.796875 48.1875 \nQ 26.515625 48.1875 22.3125 43.546875 \nQ 18.109375 38.921875 18.109375 30.90625 \nL 18.109375 0 \nL 9.078125 0 \nL 9.078125 54.6875 \nL 18.109375 54.6875 \nL 18.109375 46.1875 \nQ 21.34375 51.125 25.703125 53.5625 \nQ 30.078125 56 35.796875 56 \nQ 45.21875 56 50.046875 50.171875 \nQ 54.890625 44.34375 54.890625 33.015625 \nz\n\" id=\"DejaVuSans-110\"/>\n       </defs>\n       <use xlink:href=\"#DejaVuSans-65\"/>\n       <use x=\"68.408203\" xlink:href=\"#DejaVuSans-112\"/>\n       <use x=\"131.884766\" xlink:href=\"#DejaVuSans-112\"/>\n       <use x=\"195.361328\" xlink:href=\"#DejaVuSans-97\"/>\n       <use x=\"256.640625\" xlink:href=\"#DejaVuSans-114\"/>\n       <use x=\"297.753906\" xlink:href=\"#DejaVuSans-116\"/>\n       <use x=\"336.962891\" xlink:href=\"#DejaVuSans-101\"/>\n       <use x=\"398.486328\" xlink:href=\"#DejaVuSans-109\"/>\n       <use x=\"495.898438\" xlink:href=\"#DejaVuSans-101\"/>\n       <use x=\"557.421875\" xlink:href=\"#DejaVuSans-110\"/>\n       <use x=\"620.800781\" xlink:href=\"#DejaVuSans-116\"/>\n      </g>\n     </g>\n    </g>\n    <g id=\"xtick_2\">\n     <g id=\"line2d_2\">\n      <g>\n       <use style=\"stroke:#000000;stroke-width:0.8;\" x=\"162.334375\" xlink:href=\"#m1f45ad077c\" y=\"327.698437\"/>\n      </g>\n     </g>\n     <g id=\"text_2\">\n      <!-- Dépendance -->\n      <g transform=\"translate(165.29375 397.85625)rotate(-90)scale(0.1 -0.1)\">\n       <defs>\n        <path d=\"M 19.671875 64.796875 \nL 19.671875 8.109375 \nL 31.59375 8.109375 \nQ 46.6875 8.109375 53.6875 14.9375 \nQ 60.6875 21.78125 60.6875 36.53125 \nQ 60.6875 51.171875 53.6875 57.984375 \nQ 46.6875 64.796875 31.59375 64.796875 \nz\nM 9.8125 72.90625 \nL 30.078125 72.90625 \nQ 51.265625 72.90625 61.171875 64.09375 \nQ 71.09375 55.28125 71.09375 36.53125 \nQ 71.09375 17.671875 61.125 8.828125 \nQ 51.171875 0 30.078125 0 \nL 9.8125 0 \nz\n\" id=\"DejaVuSans-68\"/>\n        <path d=\"M 56.203125 29.59375 \nL 56.203125 25.203125 \nL 14.890625 25.203125 \nQ 15.484375 15.921875 20.484375 11.0625 \nQ 25.484375 6.203125 34.421875 6.203125 \nQ 39.59375 6.203125 44.453125 7.46875 \nQ 49.3125 8.734375 54.109375 11.28125 \nL 54.109375 2.78125 \nQ 49.265625 0.734375 44.1875 -0.34375 \nQ 39.109375 -1.421875 33.890625 -1.421875 \nQ 20.796875 -1.421875 13.15625 6.1875 \nQ 5.515625 13.8125 5.515625 26.8125 \nQ 5.515625 40.234375 12.765625 48.109375 \nQ 20.015625 56 32.328125 56 \nQ 43.359375 56 49.78125 48.890625 \nQ 56.203125 41.796875 56.203125 29.59375 \nz\nM 47.21875 32.234375 \nQ 47.125 39.59375 43.09375 43.984375 \nQ 39.0625 48.390625 32.421875 48.390625 \nQ 24.90625 48.390625 20.390625 44.140625 \nQ 15.875 39.890625 15.1875 32.171875 \nz\nM 38.578125 79.984375 \nL 48.296875 79.984375 \nL 32.375 61.625 \nL 24.90625 61.625 \nz\n\" id=\"DejaVuSans-233\"/>\n        <path d=\"M 45.40625 46.390625 \nL 45.40625 75.984375 \nL 54.390625 75.984375 \nL 54.390625 0 \nL 45.40625 0 \nL 45.40625 8.203125 \nQ 42.578125 3.328125 38.25 0.953125 \nQ 33.9375 -1.421875 27.875 -1.421875 \nQ 17.96875 -1.421875 11.734375 6.484375 \nQ 5.515625 14.40625 5.515625 27.296875 \nQ 5.515625 40.1875 11.734375 48.09375 \nQ 17.96875 56 27.875 56 \nQ 33.9375 56 38.25 53.625 \nQ 42.578125 51.265625 45.40625 46.390625 \nz\nM 14.796875 27.296875 \nQ 14.796875 17.390625 18.875 11.75 \nQ 22.953125 6.109375 30.078125 6.109375 \nQ 37.203125 6.109375 41.296875 11.75 \nQ 45.40625 17.390625 45.40625 27.296875 \nQ 45.40625 37.203125 41.296875 42.84375 \nQ 37.203125 48.484375 30.078125 48.484375 \nQ 22.953125 48.484375 18.875 42.84375 \nQ 14.796875 37.203125 14.796875 27.296875 \nz\n\" id=\"DejaVuSans-100\"/>\n        <path d=\"M 48.78125 52.59375 \nL 48.78125 44.1875 \nQ 44.96875 46.296875 41.140625 47.34375 \nQ 37.3125 48.390625 33.40625 48.390625 \nQ 24.65625 48.390625 19.8125 42.84375 \nQ 14.984375 37.3125 14.984375 27.296875 \nQ 14.984375 17.28125 19.8125 11.734375 \nQ 24.65625 6.203125 33.40625 6.203125 \nQ 37.3125 6.203125 41.140625 7.25 \nQ 44.96875 8.296875 48.78125 10.40625 \nL 48.78125 2.09375 \nQ 45.015625 0.34375 40.984375 -0.53125 \nQ 36.96875 -1.421875 32.421875 -1.421875 \nQ 20.0625 -1.421875 12.78125 6.34375 \nQ 5.515625 14.109375 5.515625 27.296875 \nQ 5.515625 40.671875 12.859375 48.328125 \nQ 20.21875 56 33.015625 56 \nQ 37.15625 56 41.109375 55.140625 \nQ 45.0625 54.296875 48.78125 52.59375 \nz\n\" id=\"DejaVuSans-99\"/>\n       </defs>\n       <use xlink:href=\"#DejaVuSans-68\"/>\n       <use x=\"77.001953\" xlink:href=\"#DejaVuSans-233\"/>\n       <use x=\"138.525391\" xlink:href=\"#DejaVuSans-112\"/>\n       <use x=\"202.001953\" xlink:href=\"#DejaVuSans-101\"/>\n       <use x=\"263.525391\" xlink:href=\"#DejaVuSans-110\"/>\n       <use x=\"326.904297\" xlink:href=\"#DejaVuSans-100\"/>\n       <use x=\"390.380859\" xlink:href=\"#DejaVuSans-97\"/>\n       <use x=\"451.660156\" xlink:href=\"#DejaVuSans-110\"/>\n       <use x=\"515.039062\" xlink:href=\"#DejaVuSans-99\"/>\n       <use x=\"570.019531\" xlink:href=\"#DejaVuSans-101\"/>\n      </g>\n     </g>\n    </g>\n    <g id=\"xtick_3\">\n     <g id=\"line2d_3\">\n      <g>\n       <use style=\"stroke:#000000;stroke-width:0.8;\" x=\"241.184375\" xlink:href=\"#m1f45ad077c\" y=\"327.698437\"/>\n      </g>\n     </g>\n     <g id=\"text_3\">\n      <!-- Local industriel. commercial ou assimilé -->\n      <g transform=\"translate(243.94375 534.8125)rotate(-90)scale(0.1 -0.1)\">\n       <defs>\n        <path d=\"M 9.8125 72.90625 \nL 19.671875 72.90625 \nL 19.671875 8.296875 \nL 55.171875 8.296875 \nL 55.171875 0 \nL 9.8125 0 \nz\n\" id=\"DejaVuSans-76\"/>\n        <path d=\"M 30.609375 48.390625 \nQ 23.390625 48.390625 19.1875 42.75 \nQ 14.984375 37.109375 14.984375 27.296875 \nQ 14.984375 17.484375 19.15625 11.84375 \nQ 23.34375 6.203125 30.609375 6.203125 \nQ 37.796875 6.203125 41.984375 11.859375 \nQ 46.1875 17.53125 46.1875 27.296875 \nQ 46.1875 37.015625 41.984375 42.703125 \nQ 37.796875 48.390625 30.609375 48.390625 \nz\nM 30.609375 56 \nQ 42.328125 56 49.015625 48.375 \nQ 55.71875 40.765625 55.71875 27.296875 \nQ 55.71875 13.875 49.015625 6.21875 \nQ 42.328125 -1.421875 30.609375 -1.421875 \nQ 18.84375 -1.421875 12.171875 6.21875 \nQ 5.515625 13.875 5.515625 27.296875 \nQ 5.515625 40.765625 12.171875 48.375 \nQ 18.84375 56 30.609375 56 \nz\n\" id=\"DejaVuSans-111\"/>\n        <path d=\"M 9.421875 75.984375 \nL 18.40625 75.984375 \nL 18.40625 0 \nL 9.421875 0 \nz\n\" id=\"DejaVuSans-108\"/>\n        <path id=\"DejaVuSans-32\"/>\n        <path d=\"M 9.421875 54.6875 \nL 18.40625 54.6875 \nL 18.40625 0 \nL 9.421875 0 \nz\nM 9.421875 75.984375 \nL 18.40625 75.984375 \nL 18.40625 64.59375 \nL 9.421875 64.59375 \nz\n\" id=\"DejaVuSans-105\"/>\n        <path d=\"M 8.5 21.578125 \nL 8.5 54.6875 \nL 17.484375 54.6875 \nL 17.484375 21.921875 \nQ 17.484375 14.15625 20.5 10.265625 \nQ 23.53125 6.390625 29.59375 6.390625 \nQ 36.859375 6.390625 41.078125 11.03125 \nQ 45.3125 15.671875 45.3125 23.6875 \nL 45.3125 54.6875 \nL 54.296875 54.6875 \nL 54.296875 0 \nL 45.3125 0 \nL 45.3125 8.40625 \nQ 42.046875 3.421875 37.71875 1 \nQ 33.40625 -1.421875 27.6875 -1.421875 \nQ 18.265625 -1.421875 13.375 4.4375 \nQ 8.5 10.296875 8.5 21.578125 \nz\nM 31.109375 56 \nz\n\" id=\"DejaVuSans-117\"/>\n        <path d=\"M 44.28125 53.078125 \nL 44.28125 44.578125 \nQ 40.484375 46.53125 36.375 47.5 \nQ 32.28125 48.484375 27.875 48.484375 \nQ 21.1875 48.484375 17.84375 46.4375 \nQ 14.5 44.390625 14.5 40.28125 \nQ 14.5 37.15625 16.890625 35.375 \nQ 19.28125 33.59375 26.515625 31.984375 \nL 29.59375 31.296875 \nQ 39.15625 29.25 43.1875 25.515625 \nQ 47.21875 21.78125 47.21875 15.09375 \nQ 47.21875 7.46875 41.1875 3.015625 \nQ 35.15625 -1.421875 24.609375 -1.421875 \nQ 20.21875 -1.421875 15.453125 -0.5625 \nQ 10.6875 0.296875 5.421875 2 \nL 5.421875 11.28125 \nQ 10.40625 8.6875 15.234375 7.390625 \nQ 20.0625 6.109375 24.8125 6.109375 \nQ 31.15625 6.109375 34.5625 8.28125 \nQ 37.984375 10.453125 37.984375 14.40625 \nQ 37.984375 18.0625 35.515625 20.015625 \nQ 33.0625 21.96875 24.703125 23.78125 \nL 21.578125 24.515625 \nQ 13.234375 26.265625 9.515625 29.90625 \nQ 5.8125 33.546875 5.8125 39.890625 \nQ 5.8125 47.609375 11.28125 51.796875 \nQ 16.75 56 26.8125 56 \nQ 31.78125 56 36.171875 55.265625 \nQ 40.578125 54.546875 44.28125 53.078125 \nz\n\" id=\"DejaVuSans-115\"/>\n        <path d=\"M 10.6875 12.40625 \nL 21 12.40625 \nL 21 0 \nL 10.6875 0 \nz\n\" id=\"DejaVuSans-46\"/>\n       </defs>\n       <use xlink:href=\"#DejaVuSans-76\"/>\n       <use x=\"53.962891\" xlink:href=\"#DejaVuSans-111\"/>\n       <use x=\"115.144531\" xlink:href=\"#DejaVuSans-99\"/>\n       <use x=\"170.125\" xlink:href=\"#DejaVuSans-97\"/>\n       <use x=\"231.404297\" xlink:href=\"#DejaVuSans-108\"/>\n       <use x=\"259.1875\" xlink:href=\"#DejaVuSans-32\"/>\n       <use x=\"290.974609\" xlink:href=\"#DejaVuSans-105\"/>\n       <use x=\"318.757812\" xlink:href=\"#DejaVuSans-110\"/>\n       <use x=\"382.136719\" xlink:href=\"#DejaVuSans-100\"/>\n       <use x=\"445.613281\" xlink:href=\"#DejaVuSans-117\"/>\n       <use x=\"508.992188\" xlink:href=\"#DejaVuSans-115\"/>\n       <use x=\"561.091797\" xlink:href=\"#DejaVuSans-116\"/>\n       <use x=\"600.300781\" xlink:href=\"#DejaVuSans-114\"/>\n       <use x=\"641.414062\" xlink:href=\"#DejaVuSans-105\"/>\n       <use x=\"669.197266\" xlink:href=\"#DejaVuSans-101\"/>\n       <use x=\"730.720703\" xlink:href=\"#DejaVuSans-108\"/>\n       <use x=\"758.503906\" xlink:href=\"#DejaVuSans-46\"/>\n       <use x=\"790.291016\" xlink:href=\"#DejaVuSans-32\"/>\n       <use x=\"822.078125\" xlink:href=\"#DejaVuSans-99\"/>\n       <use x=\"877.058594\" xlink:href=\"#DejaVuSans-111\"/>\n       <use x=\"938.240234\" xlink:href=\"#DejaVuSans-109\"/>\n       <use x=\"1035.652344\" xlink:href=\"#DejaVuSans-109\"/>\n       <use x=\"1133.064453\" xlink:href=\"#DejaVuSans-101\"/>\n       <use x=\"1194.587891\" xlink:href=\"#DejaVuSans-114\"/>\n       <use x=\"1233.451172\" xlink:href=\"#DejaVuSans-99\"/>\n       <use x=\"1288.431641\" xlink:href=\"#DejaVuSans-105\"/>\n       <use x=\"1316.214844\" xlink:href=\"#DejaVuSans-97\"/>\n       <use x=\"1377.494141\" xlink:href=\"#DejaVuSans-108\"/>\n       <use x=\"1405.277344\" xlink:href=\"#DejaVuSans-32\"/>\n       <use x=\"1437.064453\" xlink:href=\"#DejaVuSans-111\"/>\n       <use x=\"1498.246094\" xlink:href=\"#DejaVuSans-117\"/>\n       <use x=\"1561.625\" xlink:href=\"#DejaVuSans-32\"/>\n       <use x=\"1593.412109\" xlink:href=\"#DejaVuSans-97\"/>\n       <use x=\"1654.691406\" xlink:href=\"#DejaVuSans-115\"/>\n       <use x=\"1706.791016\" xlink:href=\"#DejaVuSans-115\"/>\n       <use x=\"1758.890625\" xlink:href=\"#DejaVuSans-105\"/>\n       <use x=\"1786.673828\" xlink:href=\"#DejaVuSans-109\"/>\n       <use x=\"1884.085938\" xlink:href=\"#DejaVuSans-105\"/>\n       <use x=\"1911.869141\" xlink:href=\"#DejaVuSans-108\"/>\n       <use x=\"1939.652344\" xlink:href=\"#DejaVuSans-233\"/>\n      </g>\n     </g>\n    </g>\n    <g id=\"xtick_4\">\n     <g id=\"line2d_4\">\n      <g>\n       <use style=\"stroke:#000000;stroke-width:0.8;\" x=\"320.034375\" xlink:href=\"#m1f45ad077c\" y=\"327.698437\"/>\n      </g>\n     </g>\n     <g id=\"text_4\">\n      <!-- Maison -->\n      <g transform=\"translate(322.79375 369.898437)rotate(-90)scale(0.1 -0.1)\">\n       <defs>\n        <path d=\"M 9.8125 72.90625 \nL 24.515625 72.90625 \nL 43.109375 23.296875 \nL 61.8125 72.90625 \nL 76.515625 72.90625 \nL 76.515625 0 \nL 66.890625 0 \nL 66.890625 64.015625 \nL 48.09375 14.015625 \nL 38.1875 14.015625 \nL 19.390625 64.015625 \nL 19.390625 0 \nL 9.8125 0 \nz\n\" id=\"DejaVuSans-77\"/>\n       </defs>\n       <use xlink:href=\"#DejaVuSans-77\"/>\n       <use x=\"86.279297\" xlink:href=\"#DejaVuSans-97\"/>\n       <use x=\"147.558594\" xlink:href=\"#DejaVuSans-105\"/>\n       <use x=\"175.341797\" xlink:href=\"#DejaVuSans-115\"/>\n       <use x=\"227.441406\" xlink:href=\"#DejaVuSans-111\"/>\n       <use x=\"288.623047\" xlink:href=\"#DejaVuSans-110\"/>\n      </g>\n     </g>\n    </g>\n    <g id=\"text_5\">\n     <!-- Type_local -->\n     <g transform=\"translate(176.125781 546.410937)scale(0.1 -0.1)\">\n      <defs>\n       <path d=\"M -0.296875 72.90625 \nL 61.375 72.90625 \nL 61.375 64.59375 \nL 35.5 64.59375 \nL 35.5 0 \nL 25.59375 0 \nL 25.59375 64.59375 \nL -0.296875 64.59375 \nz\n\" id=\"DejaVuSans-84\"/>\n       <path d=\"M 32.171875 -5.078125 \nQ 28.375 -14.84375 24.75 -17.8125 \nQ 21.140625 -20.796875 15.09375 -20.796875 \nL 7.90625 -20.796875 \nL 7.90625 -13.28125 \nL 13.1875 -13.28125 \nQ 16.890625 -13.28125 18.9375 -11.515625 \nQ 21 -9.765625 23.484375 -3.21875 \nL 25.09375 0.875 \nL 2.984375 54.6875 \nL 12.5 54.6875 \nL 29.59375 11.921875 \nL 46.6875 54.6875 \nL 56.203125 54.6875 \nz\n\" id=\"DejaVuSans-121\"/>\n       <path d=\"M 50.984375 -16.609375 \nL 50.984375 -23.578125 \nL -0.984375 -23.578125 \nL -0.984375 -16.609375 \nz\n\" id=\"DejaVuSans-95\"/>\n      </defs>\n      <use xlink:href=\"#DejaVuSans-84\"/>\n      <use x=\"45.458984\" xlink:href=\"#DejaVuSans-121\"/>\n      <use x=\"104.638672\" xlink:href=\"#DejaVuSans-112\"/>\n      <use x=\"168.115234\" xlink:href=\"#DejaVuSans-101\"/>\n      <use x=\"229.638672\" xlink:href=\"#DejaVuSans-95\"/>\n      <use x=\"279.638672\" xlink:href=\"#DejaVuSans-108\"/>\n      <use x=\"307.421875\" xlink:href=\"#DejaVuSans-111\"/>\n      <use x=\"368.603516\" xlink:href=\"#DejaVuSans-99\"/>\n      <use x=\"423.583984\" xlink:href=\"#DejaVuSans-97\"/>\n      <use x=\"484.863281\" xlink:href=\"#DejaVuSans-108\"/>\n     </g>\n    </g>\n   </g>\n   <g id=\"matplotlib.axis_2\">\n    <g id=\"ytick_1\">\n     <g id=\"line2d_5\">\n      <defs>\n       <path d=\"M 0 0 \nL -3.5 0 \n\" id=\"m7d1a86e50a\" style=\"stroke:#000000;stroke-width:0.8;\"/>\n      </defs>\n      <g>\n       <use style=\"stroke:#000000;stroke-width:0.8;\" x=\"44.059375\" xlink:href=\"#m7d1a86e50a\" y=\"327.698437\"/>\n      </g>\n     </g>\n     <g id=\"text_6\">\n      <!-- 0.0 -->\n      <g transform=\"translate(21.15625 331.497656)scale(0.1 -0.1)\">\n       <defs>\n        <path d=\"M 31.78125 66.40625 \nQ 24.171875 66.40625 20.328125 58.90625 \nQ 16.5 51.421875 16.5 36.375 \nQ 16.5 21.390625 20.328125 13.890625 \nQ 24.171875 6.390625 31.78125 6.390625 \nQ 39.453125 6.390625 43.28125 13.890625 \nQ 47.125 21.390625 47.125 36.375 \nQ 47.125 51.421875 43.28125 58.90625 \nQ 39.453125 66.40625 31.78125 66.40625 \nz\nM 31.78125 74.21875 \nQ 44.046875 74.21875 50.515625 64.515625 \nQ 56.984375 54.828125 56.984375 36.375 \nQ 56.984375 17.96875 50.515625 8.265625 \nQ 44.046875 -1.421875 31.78125 -1.421875 \nQ 19.53125 -1.421875 13.0625 8.265625 \nQ 6.59375 17.96875 6.59375 36.375 \nQ 6.59375 54.828125 13.0625 64.515625 \nQ 19.53125 74.21875 31.78125 74.21875 \nz\n\" id=\"DejaVuSans-48\"/>\n       </defs>\n       <use xlink:href=\"#DejaVuSans-48\"/>\n       <use x=\"63.623047\" xlink:href=\"#DejaVuSans-46\"/>\n       <use x=\"95.410156\" xlink:href=\"#DejaVuSans-48\"/>\n      </g>\n     </g>\n    </g>\n    <g id=\"ytick_2\">\n     <g id=\"line2d_6\">\n      <g>\n       <use style=\"stroke:#000000;stroke-width:0.8;\" x=\"44.059375\" xlink:href=\"#m7d1a86e50a\" y=\"278.364869\"/>\n      </g>\n     </g>\n     <g id=\"text_7\">\n      <!-- 0.2 -->\n      <g transform=\"translate(21.15625 282.164087)scale(0.1 -0.1)\">\n       <defs>\n        <path d=\"M 19.1875 8.296875 \nL 53.609375 8.296875 \nL 53.609375 0 \nL 7.328125 0 \nL 7.328125 8.296875 \nQ 12.9375 14.109375 22.625 23.890625 \nQ 32.328125 33.6875 34.8125 36.53125 \nQ 39.546875 41.84375 41.421875 45.53125 \nQ 43.3125 49.21875 43.3125 52.78125 \nQ 43.3125 58.59375 39.234375 62.25 \nQ 35.15625 65.921875 28.609375 65.921875 \nQ 23.96875 65.921875 18.8125 64.3125 \nQ 13.671875 62.703125 7.8125 59.421875 \nL 7.8125 69.390625 \nQ 13.765625 71.78125 18.9375 73 \nQ 24.125 74.21875 28.421875 74.21875 \nQ 39.75 74.21875 46.484375 68.546875 \nQ 53.21875 62.890625 53.21875 53.421875 \nQ 53.21875 48.921875 51.53125 44.890625 \nQ 49.859375 40.875 45.40625 35.40625 \nQ 44.1875 33.984375 37.640625 27.21875 \nQ 31.109375 20.453125 19.1875 8.296875 \nz\n\" id=\"DejaVuSans-50\"/>\n       </defs>\n       <use xlink:href=\"#DejaVuSans-48\"/>\n       <use x=\"63.623047\" xlink:href=\"#DejaVuSans-46\"/>\n       <use x=\"95.410156\" xlink:href=\"#DejaVuSans-50\"/>\n      </g>\n     </g>\n    </g>\n    <g id=\"ytick_3\">\n     <g id=\"line2d_7\">\n      <g>\n       <use style=\"stroke:#000000;stroke-width:0.8;\" x=\"44.059375\" xlink:href=\"#m7d1a86e50a\" y=\"229.0313\"/>\n      </g>\n     </g>\n     <g id=\"text_8\">\n      <!-- 0.4 -->\n      <g transform=\"translate(21.15625 232.830519)scale(0.1 -0.1)\">\n       <defs>\n        <path d=\"M 37.796875 64.3125 \nL 12.890625 25.390625 \nL 37.796875 25.390625 \nz\nM 35.203125 72.90625 \nL 47.609375 72.90625 \nL 47.609375 25.390625 \nL 58.015625 25.390625 \nL 58.015625 17.1875 \nL 47.609375 17.1875 \nL 47.609375 0 \nL 37.796875 0 \nL 37.796875 17.1875 \nL 4.890625 17.1875 \nL 4.890625 26.703125 \nz\n\" id=\"DejaVuSans-52\"/>\n       </defs>\n       <use xlink:href=\"#DejaVuSans-48\"/>\n       <use x=\"63.623047\" xlink:href=\"#DejaVuSans-46\"/>\n       <use x=\"95.410156\" xlink:href=\"#DejaVuSans-52\"/>\n      </g>\n     </g>\n    </g>\n    <g id=\"ytick_4\">\n     <g id=\"line2d_8\">\n      <g>\n       <use style=\"stroke:#000000;stroke-width:0.8;\" x=\"44.059375\" xlink:href=\"#m7d1a86e50a\" y=\"179.697731\"/>\n      </g>\n     </g>\n     <g id=\"text_9\">\n      <!-- 0.6 -->\n      <g transform=\"translate(21.15625 183.49695)scale(0.1 -0.1)\">\n       <defs>\n        <path d=\"M 33.015625 40.375 \nQ 26.375 40.375 22.484375 35.828125 \nQ 18.609375 31.296875 18.609375 23.390625 \nQ 18.609375 15.53125 22.484375 10.953125 \nQ 26.375 6.390625 33.015625 6.390625 \nQ 39.65625 6.390625 43.53125 10.953125 \nQ 47.40625 15.53125 47.40625 23.390625 \nQ 47.40625 31.296875 43.53125 35.828125 \nQ 39.65625 40.375 33.015625 40.375 \nz\nM 52.59375 71.296875 \nL 52.59375 62.3125 \nQ 48.875 64.0625 45.09375 64.984375 \nQ 41.3125 65.921875 37.59375 65.921875 \nQ 27.828125 65.921875 22.671875 59.328125 \nQ 17.53125 52.734375 16.796875 39.40625 \nQ 19.671875 43.65625 24.015625 45.921875 \nQ 28.375 48.1875 33.59375 48.1875 \nQ 44.578125 48.1875 50.953125 41.515625 \nQ 57.328125 34.859375 57.328125 23.390625 \nQ 57.328125 12.15625 50.6875 5.359375 \nQ 44.046875 -1.421875 33.015625 -1.421875 \nQ 20.359375 -1.421875 13.671875 8.265625 \nQ 6.984375 17.96875 6.984375 36.375 \nQ 6.984375 53.65625 15.1875 63.9375 \nQ 23.390625 74.21875 37.203125 74.21875 \nQ 40.921875 74.21875 44.703125 73.484375 \nQ 48.484375 72.75 52.59375 71.296875 \nz\n\" id=\"DejaVuSans-54\"/>\n       </defs>\n       <use xlink:href=\"#DejaVuSans-48\"/>\n       <use x=\"63.623047\" xlink:href=\"#DejaVuSans-46\"/>\n       <use x=\"95.410156\" xlink:href=\"#DejaVuSans-54\"/>\n      </g>\n     </g>\n    </g>\n    <g id=\"ytick_5\">\n     <g id=\"line2d_9\">\n      <g>\n       <use style=\"stroke:#000000;stroke-width:0.8;\" x=\"44.059375\" xlink:href=\"#m7d1a86e50a\" y=\"130.364162\"/>\n      </g>\n     </g>\n     <g id=\"text_10\">\n      <!-- 0.8 -->\n      <g transform=\"translate(21.15625 134.163381)scale(0.1 -0.1)\">\n       <defs>\n        <path d=\"M 31.78125 34.625 \nQ 24.75 34.625 20.71875 30.859375 \nQ 16.703125 27.09375 16.703125 20.515625 \nQ 16.703125 13.921875 20.71875 10.15625 \nQ 24.75 6.390625 31.78125 6.390625 \nQ 38.8125 6.390625 42.859375 10.171875 \nQ 46.921875 13.96875 46.921875 20.515625 \nQ 46.921875 27.09375 42.890625 30.859375 \nQ 38.875 34.625 31.78125 34.625 \nz\nM 21.921875 38.8125 \nQ 15.578125 40.375 12.03125 44.71875 \nQ 8.5 49.078125 8.5 55.328125 \nQ 8.5 64.0625 14.71875 69.140625 \nQ 20.953125 74.21875 31.78125 74.21875 \nQ 42.671875 74.21875 48.875 69.140625 \nQ 55.078125 64.0625 55.078125 55.328125 \nQ 55.078125 49.078125 51.53125 44.71875 \nQ 48 40.375 41.703125 38.8125 \nQ 48.828125 37.15625 52.796875 32.3125 \nQ 56.78125 27.484375 56.78125 20.515625 \nQ 56.78125 9.90625 50.3125 4.234375 \nQ 43.84375 -1.421875 31.78125 -1.421875 \nQ 19.734375 -1.421875 13.25 4.234375 \nQ 6.78125 9.90625 6.78125 20.515625 \nQ 6.78125 27.484375 10.78125 32.3125 \nQ 14.796875 37.15625 21.921875 38.8125 \nz\nM 18.3125 54.390625 \nQ 18.3125 48.734375 21.84375 45.5625 \nQ 25.390625 42.390625 31.78125 42.390625 \nQ 38.140625 42.390625 41.71875 45.5625 \nQ 45.3125 48.734375 45.3125 54.390625 \nQ 45.3125 60.0625 41.71875 63.234375 \nQ 38.140625 66.40625 31.78125 66.40625 \nQ 25.390625 66.40625 21.84375 63.234375 \nQ 18.3125 60.0625 18.3125 54.390625 \nz\n\" id=\"DejaVuSans-56\"/>\n       </defs>\n       <use xlink:href=\"#DejaVuSans-48\"/>\n       <use x=\"63.623047\" xlink:href=\"#DejaVuSans-46\"/>\n       <use x=\"95.410156\" xlink:href=\"#DejaVuSans-56\"/>\n      </g>\n     </g>\n    </g>\n    <g id=\"ytick_6\">\n     <g id=\"line2d_10\">\n      <g>\n       <use style=\"stroke:#000000;stroke-width:0.8;\" x=\"44.059375\" xlink:href=\"#m7d1a86e50a\" y=\"81.030593\"/>\n      </g>\n     </g>\n     <g id=\"text_11\">\n      <!-- 1.0 -->\n      <g transform=\"translate(21.15625 84.829812)scale(0.1 -0.1)\">\n       <defs>\n        <path d=\"M 12.40625 8.296875 \nL 28.515625 8.296875 \nL 28.515625 63.921875 \nL 10.984375 60.40625 \nL 10.984375 69.390625 \nL 28.421875 72.90625 \nL 38.28125 72.90625 \nL 38.28125 8.296875 \nL 54.390625 8.296875 \nL 54.390625 0 \nL 12.40625 0 \nz\n\" id=\"DejaVuSans-49\"/>\n       </defs>\n       <use xlink:href=\"#DejaVuSans-49\"/>\n       <use x=\"63.623047\" xlink:href=\"#DejaVuSans-46\"/>\n       <use x=\"95.410156\" xlink:href=\"#DejaVuSans-48\"/>\n      </g>\n     </g>\n    </g>\n    <g id=\"ytick_7\">\n     <g id=\"line2d_11\">\n      <g>\n       <use style=\"stroke:#000000;stroke-width:0.8;\" x=\"44.059375\" xlink:href=\"#m7d1a86e50a\" y=\"31.697024\"/>\n      </g>\n     </g>\n     <g id=\"text_12\">\n      <!-- 1.2 -->\n      <g transform=\"translate(21.15625 35.496243)scale(0.1 -0.1)\">\n       <use xlink:href=\"#DejaVuSans-49\"/>\n       <use x=\"63.623047\" xlink:href=\"#DejaVuSans-46\"/>\n       <use x=\"95.410156\" xlink:href=\"#DejaVuSans-50\"/>\n      </g>\n     </g>\n    </g>\n    <g id=\"text_13\">\n     <!-- Prix_par_m_bati -->\n     <g transform=\"translate(14.798437 212.33125)rotate(-90)scale(0.1 -0.1)\">\n      <defs>\n       <path d=\"M 19.671875 64.796875 \nL 19.671875 37.40625 \nL 32.078125 37.40625 \nQ 38.96875 37.40625 42.71875 40.96875 \nQ 46.484375 44.53125 46.484375 51.125 \nQ 46.484375 57.671875 42.71875 61.234375 \nQ 38.96875 64.796875 32.078125 64.796875 \nz\nM 9.8125 72.90625 \nL 32.078125 72.90625 \nQ 44.34375 72.90625 50.609375 67.359375 \nQ 56.890625 61.8125 56.890625 51.125 \nQ 56.890625 40.328125 50.609375 34.8125 \nQ 44.34375 29.296875 32.078125 29.296875 \nL 19.671875 29.296875 \nL 19.671875 0 \nL 9.8125 0 \nz\n\" id=\"DejaVuSans-80\"/>\n       <path d=\"M 54.890625 54.6875 \nL 35.109375 28.078125 \nL 55.90625 0 \nL 45.3125 0 \nL 29.390625 21.484375 \nL 13.484375 0 \nL 2.875 0 \nL 24.125 28.609375 \nL 4.6875 54.6875 \nL 15.28125 54.6875 \nL 29.78125 35.203125 \nL 44.28125 54.6875 \nz\n\" id=\"DejaVuSans-120\"/>\n       <path d=\"M 48.6875 27.296875 \nQ 48.6875 37.203125 44.609375 42.84375 \nQ 40.53125 48.484375 33.40625 48.484375 \nQ 26.265625 48.484375 22.1875 42.84375 \nQ 18.109375 37.203125 18.109375 27.296875 \nQ 18.109375 17.390625 22.1875 11.75 \nQ 26.265625 6.109375 33.40625 6.109375 \nQ 40.53125 6.109375 44.609375 11.75 \nQ 48.6875 17.390625 48.6875 27.296875 \nz\nM 18.109375 46.390625 \nQ 20.953125 51.265625 25.265625 53.625 \nQ 29.59375 56 35.59375 56 \nQ 45.5625 56 51.78125 48.09375 \nQ 58.015625 40.1875 58.015625 27.296875 \nQ 58.015625 14.40625 51.78125 6.484375 \nQ 45.5625 -1.421875 35.59375 -1.421875 \nQ 29.59375 -1.421875 25.265625 0.953125 \nQ 20.953125 3.328125 18.109375 8.203125 \nL 18.109375 0 \nL 9.078125 0 \nL 9.078125 75.984375 \nL 18.109375 75.984375 \nz\n\" id=\"DejaVuSans-98\"/>\n      </defs>\n      <use xlink:href=\"#DejaVuSans-80\"/>\n      <use x=\"58.552734\" xlink:href=\"#DejaVuSans-114\"/>\n      <use x=\"99.666016\" xlink:href=\"#DejaVuSans-105\"/>\n      <use x=\"127.449219\" xlink:href=\"#DejaVuSans-120\"/>\n      <use x=\"186.628906\" xlink:href=\"#DejaVuSans-95\"/>\n      <use x=\"236.628906\" xlink:href=\"#DejaVuSans-112\"/>\n      <use x=\"300.105469\" xlink:href=\"#DejaVuSans-97\"/>\n      <use x=\"361.384766\" xlink:href=\"#DejaVuSans-114\"/>\n      <use x=\"402.498047\" xlink:href=\"#DejaVuSans-95\"/>\n      <use x=\"452.498047\" xlink:href=\"#DejaVuSans-109\"/>\n      <use x=\"549.910156\" xlink:href=\"#DejaVuSans-95\"/>\n      <use x=\"599.910156\" xlink:href=\"#DejaVuSans-98\"/>\n      <use x=\"663.386719\" xlink:href=\"#DejaVuSans-97\"/>\n      <use x=\"724.666016\" xlink:href=\"#DejaVuSans-116\"/>\n      <use x=\"763.875\" xlink:href=\"#DejaVuSans-105\"/>\n     </g>\n    </g>\n    <g id=\"text_14\">\n     <!-- 1e11 -->\n     <g transform=\"translate(44.059375 14.798437)scale(0.1 -0.1)\">\n      <use xlink:href=\"#DejaVuSans-49\"/>\n      <use x=\"63.623047\" xlink:href=\"#DejaVuSans-101\"/>\n      <use x=\"125.146484\" xlink:href=\"#DejaVuSans-49\"/>\n      <use x=\"188.769531\" xlink:href=\"#DejaVuSans-49\"/>\n     </g>\n    </g>\n   </g>\n   <g id=\"line2d_12\">\n    <path clip-path=\"url(#pc915f92a7e)\" d=\"M 0 0 \n\" style=\"fill:none;stroke:#424242;stroke-linecap:square;stroke-width:2.7;\"/>\n   </g>\n   <g id=\"line2d_13\">\n    <path clip-path=\"url(#pc915f92a7e)\" d=\"M 0 0 \n\" style=\"fill:none;stroke:#424242;stroke-linecap:square;stroke-width:2.7;\"/>\n   </g>\n   <g id=\"line2d_14\">\n    <path clip-path=\"url(#pc915f92a7e)\" d=\"M 0 0 \n\" style=\"fill:none;stroke:#424242;stroke-linecap:square;stroke-width:2.7;\"/>\n   </g>\n   <g id=\"line2d_15\">\n    <path clip-path=\"url(#pc915f92a7e)\" d=\"M 0 0 \n\" style=\"fill:none;stroke:#424242;stroke-linecap:square;stroke-width:2.7;\"/>\n   </g>\n   <g id=\"patch_7\">\n    <path d=\"M 44.059375 327.698437 \nL 44.059375 17.798437 \n\" style=\"fill:none;stroke:#000000;stroke-linecap:square;stroke-linejoin:miter;stroke-width:0.8;\"/>\n   </g>\n   <g id=\"patch_8\">\n    <path d=\"M 44.059375 327.698437 \nL 359.459375 327.698437 \n\" style=\"fill:none;stroke:#000000;stroke-linecap:square;stroke-linejoin:miter;stroke-width:0.8;\"/>\n   </g>\n  </g>\n </g>\n <defs>\n  <clipPath id=\"pc915f92a7e\">\n   <rect height=\"309.9\" width=\"315.4\" x=\"44.059375\" y=\"17.798437\"/>\n  </clipPath>\n </defs>\n</svg>\n",
      "image/png": "[encoded data removed]"
     },
     "metadata": {
      "needs_background": "light"
     }
    }
   ],
   "source": [
    "df_grp = df.groupby(['Type_local'])['Prix_par_m_bati'].sum()\n",
    "df_grp = pd.DataFrame(df_grp)\n",
    "g = sns.catplot(x=df_grp.index, y='Prix_par_m_bati', data = df_grp, kind='bar')\n",
    "g.set_xticklabels(rotation=90)\n",
    "df_grp.head()"
   ]
  },
  {
   "cell_type": "code",
   "execution_count": 38,
   "metadata": {},
   "outputs": [
    {
     "output_type": "execute_result",
     "data": {
      "text/plain": [
       "   Date_mutation  Valeur_fonciere  No_voie Type_de_voie             Voie  \\\n",
       "Id                                                                         \n",
       "0     2019-04-01          37220.0     26.0          RUE     DE MONTHOLON   \n",
       "1     2019-04-01         185100.0     22.0          RUE  GEN DELESTRAINT   \n",
       "2     2019-04-01         185100.0     22.0          RUE  GEN DELESTRAINT   \n",
       "3     2019-08-01         209000.0      3.0          RUE   DES CHAMPAGNES   \n",
       "4     2019-07-01         134900.0      5.0          LOT        LE BIOLAY   \n",
       "\n",
       "    Code_postal                Commune Code_departement   Type_local  \\\n",
       "Id                                                                     \n",
       "0        1000.0        BOURG-EN-BRESSE               01  Appartement   \n",
       "1        1000.0        BOURG-EN-BRESSE               01  Appartement   \n",
       "2        1000.0        BOURG-EN-BRESSE               01   Dépendance   \n",
       "3        1160.0                  PRIAY               01       Maison   \n",
       "4        1370.0  SAINT-ETIENNE-DU-BOIS               01       Maison   \n",
       "\n",
       "    Surface_reelle_bati  Nombre_pieces_principales  Surface_terrain  \\\n",
       "Id                                                                    \n",
       "0                  20.0                        1.0              NaN   \n",
       "1                  62.0                        3.0              NaN   \n",
       "2                   0.0                        0.0              NaN   \n",
       "3                  90.0                        4.0            940.0   \n",
       "4                 101.0                        5.0            490.0   \n",
       "\n",
       "    Prix_par_m_bati  Prix_par_m_terrain  \n",
       "Id                                       \n",
       "0       1861.000000            0.000000  \n",
       "1       2985.483871            0.000000  \n",
       "2          0.000000            0.000000  \n",
       "3       2322.222222          222.340426  \n",
       "4       1335.643564          275.306122  "
      ],
      "text/html": "<div>\n<style scoped>\n    .dataframe tbody tr th:only-of-type {\n        vertical-align: middle;\n    }\n\n    .dataframe tbody tr th {\n        vertical-align: top;\n    }\n\n    .dataframe thead th {\n        text-align: right;\n    }\n</style>\n<table border=\"1\" class=\"dataframe\">\n  <thead>\n    <tr style=\"text-align: right;\">\n      <th></th>\n      <th>Date_mutation</th>\n      <th>Valeur_fonciere</th>\n      <th>No_voie</th>\n      <th>Type_de_voie</th>\n      <th>Voie</th>\n      <th>Code_postal</th>\n      <th>Commune</th>\n      <th>Code_departement</th>\n      <th>Type_local</th>\n      <th>Surface_reelle_bati</th>\n      <th>Nombre_pieces_principales</th>\n      <th>Surface_terrain</th>\n      <th>Prix_par_m_bati</th>\n      <th>Prix_par_m_terrain</th>\n    </tr>\n    <tr>\n      <th>Id</th>\n      <th></th>\n      <th></th>\n      <th></th>\n      <th></th>\n      <th></th>\n      <th></th>\n      <th></th>\n      <th></th>\n      <th></th>\n      <th></th>\n      <th></th>\n      <th></th>\n      <th></th>\n      <th></th>\n    </tr>\n  </thead>\n  <tbody>\n    <tr>\n      <th>0</th>\n      <td>2019-04-01</td>\n      <td>37220.0</td>\n      <td>26.0</td>\n      <td>RUE</td>\n      <td>DE MONTHOLON</td>\n      <td>1000.0</td>\n      <td>BOURG-EN-BRESSE</td>\n      <td>01</td>\n      <td>Appartement</td>\n      <td>20.0</td>\n      <td>1.0</td>\n      <td>NaN</td>\n      <td>1861.000000</td>\n      <td>0.000000</td>\n    </tr>\n    <tr>\n      <th>1</th>\n      <td>2019-04-01</td>\n      <td>185100.0</td>\n      <td>22.0</td>\n      <td>RUE</td>\n      <td>GEN DELESTRAINT</td>\n      <td>1000.0</td>\n      <td>BOURG-EN-BRESSE</td>\n      <td>01</td>\n      <td>Appartement</td>\n      <td>62.0</td>\n      <td>3.0</td>\n      <td>NaN</td>\n      <td>2985.483871</td>\n      <td>0.000000</td>\n    </tr>\n    <tr>\n      <th>2</th>\n      <td>2019-04-01</td>\n      <td>185100.0</td>\n      <td>22.0</td>\n      <td>RUE</td>\n      <td>GEN DELESTRAINT</td>\n      <td>1000.0</td>\n      <td>BOURG-EN-BRESSE</td>\n      <td>01</td>\n      <td>Dépendance</td>\n      <td>0.0</td>\n      <td>0.0</td>\n      <td>NaN</td>\n      <td>0.000000</td>\n      <td>0.000000</td>\n    </tr>\n    <tr>\n      <th>3</th>\n      <td>2019-08-01</td>\n      <td>209000.0</td>\n      <td>3.0</td>\n      <td>RUE</td>\n      <td>DES CHAMPAGNES</td>\n      <td>1160.0</td>\n      <td>PRIAY</td>\n      <td>01</td>\n      <td>Maison</td>\n      <td>90.0</td>\n      <td>4.0</td>\n      <td>940.0</td>\n      <td>2322.222222</td>\n      <td>222.340426</td>\n    </tr>\n    <tr>\n      <th>4</th>\n      <td>2019-07-01</td>\n      <td>134900.0</td>\n      <td>5.0</td>\n      <td>LOT</td>\n      <td>LE BIOLAY</td>\n      <td>1370.0</td>\n      <td>SAINT-ETIENNE-DU-BOIS</td>\n      <td>01</td>\n      <td>Maison</td>\n      <td>101.0</td>\n      <td>5.0</td>\n      <td>490.0</td>\n      <td>1335.643564</td>\n      <td>275.306122</td>\n    </tr>\n  </tbody>\n</table>\n</div>"
     },
     "metadata": {},
     "execution_count": 38
    }
   ],
   "source": [
    "df.head()"
   ]
  },
  {
   "cell_type": "code",
   "execution_count": 20,
   "metadata": {},
   "outputs": [],
   "source": [
    "import json\n",
    "import time\n",
    "import requests"
   ]
  },
  {
   "cell_type": "code",
   "execution_count": 21,
   "metadata": {},
   "outputs": [
    {
     "output_type": "stream",
     "name": "stdout",
     "text": [
      "0.16933631896972656  secondes\n{\n    \"attribution\": \"BAN\",\n    \"features\": [\n        {\n            \"geometry\": {\n                \"coordinates\": [\n                    2.360283,\n                    48.837446\n                ],\n                \"type\": \"Point\"\n            },\n            \"properties\": {\n                \"city\": \"Paris\",\n                \"citycode\": \"75113\",\n                \"context\": \"75, Paris, \\u00cele-de-France\",\n                \"district\": \"Paris 13e Arrondissement\",\n                \"id\": \"75113_4649\",\n                \"importance\": 0.78778,\n                \"label\": \"Boulevard de l'H\\u00f4pital 75013 Paris\",\n                \"name\": \"Boulevard de l'H\\u00f4pital\",\n                \"postcode\": \"75013\",\n                \"score\": 0.6023288943488944,\n                \"type\": \"street\",\n                \"x\": 653044.83,\n                \"y\": 6859900.68\n            },\n            \"type\": \"Feature\"\n        }\n    ],\n    \"licence\": \"ETALAB-2.0\",\n    \"limit\": 2,\n    \"query\": \"8 bd de l hopital paris 75013\",\n    \"type\": \"FeatureCollection\",\n    \"version\": \"draft\"\n}\n"
     ]
    }
   ],
   "source": [
    "#test de l'appel de l'API et du json\n",
    "\n",
    "def jprint(obj):\n",
    "    # create a formatted string of the Python JSON object\n",
    "    text = json.dumps(obj, sort_keys=True, indent=4)\n",
    "    print(text)\n",
    "\n",
    "\n",
    "t = time.time()\n",
    "response = requests.get(\"https://api-adresse.data.gouv.fr/search/?q=8+bd+de+l+hopital+paris+75013&limit=2\")\n",
    "print(time.time()-t, \" secondes\")\n",
    "jprint(response.json())\n"
   ]
  },
  {
   "cell_type": "code",
   "execution_count": 26,
   "metadata": {},
   "outputs": [],
   "source": [
    "#je n'exécute pas, je vais corriger on the fly\n",
    "df.No_voie.replace(to_replace=' ', value=0.0, inplace=True)\n",
    "values = {'No_voie': ' ', 'Type_de_voie': ' ', 'Voie': ' ', 'Code_postal': ' ', }\n",
    "df.fillna(value=values, inplace=True)"
   ]
  },
  {
   "cell_type": "code",
   "execution_count": 28,
   "metadata": {},
   "outputs": [
    {
     "output_type": "stream",
     "name": "stdout",
     "text": [
      "0.30370187759399414  secondes pour charger  0\n",
      "1.576554298400879  secondes pour charger  0\n",
      "2.811964273452759  secondes pour charger  0\n",
      "4.054694414138794  secondes pour charger  0\n",
      "5.386611700057983  secondes pour charger  0\n",
      "6.513110637664795  secondes pour charger  0\n",
      "7.637644529342651  secondes pour charger  0\n",
      "9.712125539779663  secondes pour charger  0\n",
      "11.209997653961182  secondes pour charger  0\n",
      "12.484461069107056  secondes pour charger  0\n",
      "13.804218769073486  secondes pour charger  1\n",
      "13.915932655334473  secondes\n"
     ]
    }
   ],
   "source": [
    "def row_to_adress_fields(df, i):\n",
    "    no_voie = str(int(df['No_voie'][i]))\n",
    "    type_de_voie = df['Type_de_voie'][i].replace(' ', '+')\n",
    "    voie = df['Voie'][i].replace(' ', '+')\n",
    "    code_postal = str(int(df['Code_postal'][i])).replace(' ', '+')\n",
    "    commune = df['Commune'][i].replace(' ', '+')\n",
    "    if no_voie == 0.0:\n",
    "        adress = type_de_voie + '+' + voie + '+' + code_postal + '+' + commune\n",
    "    else:\n",
    "        adress = no_voie + '+' + type_de_voie + '+' + voie + '+' + code_postal + '+' + commune\n",
    "    return adress\n",
    "\n",
    "url = \"https://api-adresse.data.gouv.fr/search/?q=\"\n",
    "end_url = '&limit=1'\n",
    "list_dic = []\n",
    "t = time.time()\n",
    "\n",
    "df['Longitude'] = 0.0\n",
    "df['Latitude'] = 0.0\n",
    "\n",
    "#les index de df ne sont pas successifs. il fallait parcourir les index de df au lieu de range(len(df))\n",
    "for i in df.index[:100]:\n",
    "    adress = row_to_adress_fields(df, i)\n",
    "    response = requests.get(url + adress + end_url)\n",
    "    result = response.json()\n",
    "    df['Longitude'][i] = result['features'][0]['geometry']['coordinates'][0]\n",
    "    df['Latitude'][i] = result['features'][0]['geometry']['coordinates'][1]\n",
    "    if i % (100//10) == 0:\n",
    "        print(time.time()-t, \" secondes pour charger \", (i//10))\n",
    "\n",
    "\n",
    "print(time.time()-t, \" secondes\")"
   ]
  },
  {
   "cell_type": "code",
   "execution_count": 166,
   "metadata": {},
   "outputs": [],
   "source": [
    "df.drop(columns=['Longitude', 'Latitude'], inplace=True)"
   ]
  },
  {
   "cell_type": "code",
   "execution_count": 176,
   "metadata": {},
   "outputs": [
    {
     "output_type": "execute_result",
     "data": {
      "text/plain": [
       "   Date_mutation  Valeur_fonciere  No_voie Type_de_voie              Voie  \\\n",
       "Id                                                                          \n",
       "81    2019-03-01             6000        0                       CHEVRIER   \n",
       "82    2019-01-15           133000       14           BD   DE L HIPPODROME   \n",
       "83    2019-01-15           133000       14           BD   DE L HIPPODROME   \n",
       "84    2019-01-16             9000       49           AV          DE MACON   \n",
       "85    2019-01-21            62500       28          RUE  BERNARD GANGLOFF   \n",
       "\n",
       "   Code_postal          Commune Code_departement  \\\n",
       "Id                                                 \n",
       "81        1310        MONTRACOL               01   \n",
       "82        1000  BOURG-EN-BRESSE               01   \n",
       "83        1000  BOURG-EN-BRESSE               01   \n",
       "84        1000  BOURG-EN-BRESSE               01   \n",
       "85        1160       PONT-D AIN               01   \n",
       "\n",
       "                                  Type_local  Surface_reelle_bati  \\\n",
       "Id                                                                  \n",
       "81                                       NaN                  NaN   \n",
       "82                               Appartement                 77.0   \n",
       "83                                Dépendance                  0.0   \n",
       "84                                Dépendance                  0.0   \n",
       "85  Local industriel. commercial ou assimilé                130.0   \n",
       "\n",
       "    Nombre_pieces_principales  Surface_terrain  Prix_par_m_bati  \\\n",
       "Id                                                                \n",
       "81                          0           1356.0         0.000000   \n",
       "82                          4              NaN      1727.272727   \n",
       "83                          0              NaN         0.000000   \n",
       "84                          0              NaN         0.000000   \n",
       "85                          0              NaN       480.769231   \n",
       "\n",
       "    Prix_par_m_terrain  \n",
       "Id                      \n",
       "81            4.424779  \n",
       "82            0.000000  \n",
       "83            0.000000  \n",
       "84            0.000000  \n",
       "85            0.000000  "
      ],
      "text/html": "<div>\n<style scoped>\n    .dataframe tbody tr th:only-of-type {\n        vertical-align: middle;\n    }\n\n    .dataframe tbody tr th {\n        vertical-align: top;\n    }\n\n    .dataframe thead th {\n        text-align: right;\n    }\n</style>\n<table border=\"1\" class=\"dataframe\">\n  <thead>\n    <tr style=\"text-align: right;\">\n      <th></th>\n      <th>Date_mutation</th>\n      <th>Valeur_fonciere</th>\n      <th>No_voie</th>\n      <th>Type_de_voie</th>\n      <th>Voie</th>\n      <th>Code_postal</th>\n      <th>Commune</th>\n      <th>Code_departement</th>\n      <th>Type_local</th>\n      <th>Surface_reelle_bati</th>\n      <th>Nombre_pieces_principales</th>\n      <th>Surface_terrain</th>\n      <th>Prix_par_m_bati</th>\n      <th>Prix_par_m_terrain</th>\n    </tr>\n    <tr>\n      <th>Id</th>\n      <th></th>\n      <th></th>\n      <th></th>\n      <th></th>\n      <th></th>\n      <th></th>\n      <th></th>\n      <th></th>\n      <th></th>\n      <th></th>\n      <th></th>\n      <th></th>\n      <th></th>\n      <th></th>\n    </tr>\n  </thead>\n  <tbody>\n    <tr>\n      <th>81</th>\n      <td>2019-03-01</td>\n      <td>6000</td>\n      <td>0</td>\n      <td></td>\n      <td>CHEVRIER</td>\n      <td>1310</td>\n      <td>MONTRACOL</td>\n      <td>01</td>\n      <td>NaN</td>\n      <td>NaN</td>\n      <td>0</td>\n      <td>1356.0</td>\n      <td>0.000000</td>\n      <td>4.424779</td>\n    </tr>\n    <tr>\n      <th>82</th>\n      <td>2019-01-15</td>\n      <td>133000</td>\n      <td>14</td>\n      <td>BD</td>\n      <td>DE L HIPPODROME</td>\n      <td>1000</td>\n      <td>BOURG-EN-BRESSE</td>\n      <td>01</td>\n      <td>Appartement</td>\n      <td>77.0</td>\n      <td>4</td>\n      <td>NaN</td>\n      <td>1727.272727</td>\n      <td>0.000000</td>\n    </tr>\n    <tr>\n      <th>83</th>\n      <td>2019-01-15</td>\n      <td>133000</td>\n      <td>14</td>\n      <td>BD</td>\n      <td>DE L HIPPODROME</td>\n      <td>1000</td>\n      <td>BOURG-EN-BRESSE</td>\n      <td>01</td>\n      <td>Dépendance</td>\n      <td>0.0</td>\n      <td>0</td>\n      <td>NaN</td>\n      <td>0.000000</td>\n      <td>0.000000</td>\n    </tr>\n    <tr>\n      <th>84</th>\n      <td>2019-01-16</td>\n      <td>9000</td>\n      <td>49</td>\n      <td>AV</td>\n      <td>DE MACON</td>\n      <td>1000</td>\n      <td>BOURG-EN-BRESSE</td>\n      <td>01</td>\n      <td>Dépendance</td>\n      <td>0.0</td>\n      <td>0</td>\n      <td>NaN</td>\n      <td>0.000000</td>\n      <td>0.000000</td>\n    </tr>\n    <tr>\n      <th>85</th>\n      <td>2019-01-21</td>\n      <td>62500</td>\n      <td>28</td>\n      <td>RUE</td>\n      <td>BERNARD GANGLOFF</td>\n      <td>1160</td>\n      <td>PONT-D AIN</td>\n      <td>01</td>\n      <td>Local industriel. commercial ou assimilé</td>\n      <td>130.0</td>\n      <td>0</td>\n      <td>NaN</td>\n      <td>480.769231</td>\n      <td>0.000000</td>\n    </tr>\n  </tbody>\n</table>\n</div>"
     },
     "metadata": {},
     "execution_count": 176
    }
   ],
   "source": [
    "df[df.index > 80].head(5)"
   ]
  },
  {
   "cell_type": "code",
   "execution_count": 188,
   "metadata": {},
   "outputs": [],
   "source": [
    "df.Valeur_fonciere.fillna(0, inplace=True)\n",
    "df['Valeur_fonciere'] = df.Valeur_fonciere.apply(int)\n",
    "\n",
    "df.No_voie.fillna(0, inplace=True)\n",
    "df['No_voie'] = df.No_voie.apply(int)\n",
    "\n",
    "df.Nombre_pieces_principales.fillna(0, inplace=True)\n",
    "df['Nombre_pieces_principales'] = df.Nombre_pieces_principales.apply(int)\n",
    "\n",
    "#on écrit une function pour gérer les exceptions (caractères non int) lors de la conversion en int\n",
    "def handle_special_to_int(string):\n",
    "    try:\n",
    "        return int(string)\n",
    "    except:\n",
    "        return 0\n",
    "\n",
    "df.Code_postal.fillna(0, inplace=True)\n",
    "df['Code_postal'] = df.Code_postal.apply(handle_special_to_int)"
   ]
  },
  {
   "cell_type": "code",
   "execution_count": 178,
   "metadata": {},
   "outputs": [
    {
     "output_type": "execute_result",
     "data": {
      "text/plain": [
       "Index(['Date_mutation', 'Valeur_fonciere', 'No_voie', 'Type_de_voie', 'Voie',\n",
       "       'Code_postal', 'Commune', 'Code_departement', 'Type_local',\n",
       "       'Surface_reelle_bati', 'Nombre_pieces_principales', 'Surface_terrain',\n",
       "       'Prix_par_m_bati', 'Prix_par_m_terrain'],\n",
       "      dtype='object')"
      ]
     },
     "metadata": {},
     "execution_count": 178
    }
   ],
   "source": [
    "df.columns"
   ]
  },
  {
   "cell_type": "code",
   "execution_count": 213,
   "metadata": {},
   "outputs": [],
   "source": [
    "df.reset_index(inplace=True)"
   ]
  },
  {
   "cell_type": "code",
   "execution_count": 179,
   "metadata": {},
   "outputs": [],
   "source": [
    "df_adress_csv = df.drop(columns=['Date_mutation', 'Valeur_fonciere','Type_local', 'Surface_reelle_bati', 'Nombre_pieces_principales', 'Surface_terrain','Prix_par_m_bati', 'Prix_par_m_terrain'])\n",
    "df_adress_csv.to_csv('processed_2015_2019_to_geo_complete.csv', sep = ',')"
   ]
  },
  {
   "cell_type": "code",
   "execution_count": 214,
   "metadata": {},
   "outputs": [
    {
     "output_type": "execute_result",
     "data": {
      "text/plain": [
       "0       26 RUE DE MONTHOLON 1000 BOURG-EN-BRESSE\n",
       "1    22 RUE GEN DELESTRAINT 1000 BOURG-EN-BRESSE\n",
       "2    22 RUE GEN DELESTRAINT 1000 BOURG-EN-BRESSE\n",
       "3                3 RUE DES CHAMPAGNES 1160 PRIAY\n",
       "4     5 LOT LE BIOLAY 1370 SAINT-ETIENNE-DU-BOIS\n",
       "dtype: object"
      ]
     },
     "metadata": {},
     "execution_count": 214
    }
   ],
   "source": [
    "df_adress_csv_2 = df.No_voie.apply(str) + ' ' + df.Type_de_voie + ' ' + df.Voie + ' ' + df.Code_postal.apply(str) + ' ' + df.Commune\n",
    "df_adress_csv_2.head(5)"
   ]
  },
  {
   "cell_type": "code",
   "execution_count": 223,
   "metadata": {},
   "outputs": [
    {
     "output_type": "stream",
     "name": "stdout",
     "text": [
      "[1040065, 1040065, 1040065, 1040065, 1040065, 1040065, 1040065, 1040065, 1040065, 1040065, 1040065, 1040065]\n12480780\n12480780\n"
     ]
    }
   ],
   "source": [
    "l = len(df)\n",
    "lengths = []\n",
    "length = 0\n",
    "slices = 12\n",
    "\n",
    "#on decoupe le dataset en \"slices\" fichiers pour les transformer car le file transfert est limité à 50Mo\n",
    "for i in range(slices-1):\n",
    "    df_adress_csv_2[ (i*l)//slices : (((i+1)*l)//slices) ].to_csv('processed_2015_2019_to_geo_'+str(i)+'.csv', sep = ',')\n",
    "    lengths.append(len(df_adress_csv_2[ (i*l)//slices : (((i+1)*l)//slices) ]))\n",
    "    length += lengths[i]\n",
    "\n",
    "df_adress_csv_2[ ((slices-1)*l)//6 :].to_csv('processed_2015_2019_to_geo_'+str(5)+'.csv', sep = ',')\n",
    "lengths.append(len(df_adress_csv_2[ ((slices-1)*l)//slices :] ))\n",
    "length += lengths[slices-1]\n",
    "\n",
    "print(lengths)\n",
    "print(length)\n",
    "print(len(df))"
   ]
  },
  {
   "cell_type": "code",
   "execution_count": 216,
   "metadata": {},
   "outputs": [
    {
     "output_type": "execute_result",
     "data": {
      "text/plain": [
       "12480780"
      ]
     },
     "metadata": {},
     "execution_count": 216
    }
   ],
   "source": [
    "len(df_adress_csv_2)"
   ]
  }
 ],
 "metadata": {
  "kernelspec": {
   "name": "python3",
   "display_name": "Python 3.9.1 64-bit",
   "metadata": {
    "interpreter": {
     "hash": "ac59ebe37160ed0dfa835113d9b8498d9f09ceb179beaac4002f036b9467c963"
    }
   }
  },
  "language_info": {
   "codemirror_mode": {
    "name": "ipython",
    "version": 3
   },
   "file_extension": ".py",
   "mimetype": "text/x-python",
   "name": "python",
   "nbconvert_exporter": "python",
   "pygments_lexer": "ipython3",
   "version": "3.9.1-final"
  }
 },
 "nbformat": 4,
 "nbformat_minor": 4
}