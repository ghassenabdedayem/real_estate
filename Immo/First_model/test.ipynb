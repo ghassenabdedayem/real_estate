{
 "cells": [
  {
   "cell_type": "code",
   "execution_count": 2,
   "metadata": {},
   "outputs": [],
   "source": [
    "sys.path.insert(1, '/Users/ghassenabdedayem/Documents/Data/Immo/Services')"
   ]
  },
  {
   "cell_type": "code",
   "execution_count": 4,
   "metadata": {
    "collapsed": true
   },
   "outputs": [
    {
     "name": "stdout",
     "output_type": "stream",
     "text": [
      "hello\n"
     ]
    },
    {
     "name": "stderr",
     "output_type": "stream",
     "text": [
      "/Users/ghassenabdedayem/opt/anaconda3/envs/immo_env/lib/python3.8/site-packages/IPython/core/interactiveshell.py:3145: DtypeWarning: Columns (10,11,13,15,17,19,27) have mixed types.Specify dtype option on import or set low_memory=False.\n",
      "  has_raised = await self.run_ast_nodes(code_ast.body, cell_name,\n"
     ]
    },
    {
     "data": {
      "text/plain": "   Unnamed: 0  No_disposition Date_mutation Nature_mutation  Valeur_fonciere  \\\n0           0               1    2019-04-01           Vente          37220.0   \n1           1               1    2019-04-01           Vente         185100.0   \n2           2               1    2019-04-01           Vente         185100.0   \n3           3               1    2019-08-01           Vente         209000.0   \n4           4               1    2019-07-01           Vente         134900.0   \n\n   No_voie Type_de_voie             Voie  Code_postal                Commune  \\\n0     26.0          RUE     DE MONTHOLON       1000.0        BOURG-EN-BRESSE   \n1     22.0          RUE  GEN DELESTRAINT       1000.0        BOURG-EN-BRESSE   \n2     22.0          RUE  GEN DELESTRAINT       1000.0        BOURG-EN-BRESSE   \n3      3.0          RUE   DES CHAMPAGNES       1160.0                  PRIAY   \n4      5.0          LOT        LE BIOLAY       1370.0  SAINT-ETIENNE-DU-BOIS   \n\n   ... 5eme_lot Surface_Carrez_du_5eme_lot  Nombre_de_lots Code_type_local  \\\n0  ...      NaN                        NaN               1             2.0   \n1  ...      NaN                        NaN               2             2.0   \n2  ...      NaN                        NaN               1             3.0   \n3  ...      NaN                        NaN               0             1.0   \n4  ...      NaN                        NaN               0             1.0   \n\n    Type_local Surface_reelle_bati  Nombre_pieces_principales Nature_culture  \\\n0  Appartement                20.0                        1.0            NaN   \n1  Appartement                62.0                        3.0            NaN   \n2   Dépendance                 0.0                        0.0            NaN   \n3       Maison                90.0                        4.0              S   \n4       Maison               101.0                        5.0              S   \n\n   Nature_culture_speciale Surface_terrain  \n0                      NaN             NaN  \n1                      NaN             NaN  \n2                      NaN             NaN  \n3                      NaN           940.0  \n4                      NaN           490.0  \n\n[5 rows x 29 columns]",
      "text/html": "<div>\n<style scoped>\n    .dataframe tbody tr th:only-of-type {\n        vertical-align: middle;\n    }\n\n    .dataframe tbody tr th {\n        vertical-align: top;\n    }\n\n    .dataframe thead th {\n        text-align: right;\n    }\n</style>\n<table border=\"1\" class=\"dataframe\">\n  <thead>\n    <tr style=\"text-align: right;\">\n      <th></th>\n      <th>Unnamed: 0</th>\n      <th>No_disposition</th>\n      <th>Date_mutation</th>\n      <th>Nature_mutation</th>\n      <th>Valeur_fonciere</th>\n      <th>No_voie</th>\n      <th>Type_de_voie</th>\n      <th>Voie</th>\n      <th>Code_postal</th>\n      <th>Commune</th>\n      <th>...</th>\n      <th>5eme_lot</th>\n      <th>Surface_Carrez_du_5eme_lot</th>\n      <th>Nombre_de_lots</th>\n      <th>Code_type_local</th>\n      <th>Type_local</th>\n      <th>Surface_reelle_bati</th>\n      <th>Nombre_pieces_principales</th>\n      <th>Nature_culture</th>\n      <th>Nature_culture_speciale</th>\n      <th>Surface_terrain</th>\n    </tr>\n  </thead>\n  <tbody>\n    <tr>\n      <th>0</th>\n      <td>0</td>\n      <td>1</td>\n      <td>2019-04-01</td>\n      <td>Vente</td>\n      <td>37220.0</td>\n      <td>26.0</td>\n      <td>RUE</td>\n      <td>DE MONTHOLON</td>\n      <td>1000.0</td>\n      <td>BOURG-EN-BRESSE</td>\n      <td>...</td>\n      <td>NaN</td>\n      <td>NaN</td>\n      <td>1</td>\n      <td>2.0</td>\n      <td>Appartement</td>\n      <td>20.0</td>\n      <td>1.0</td>\n      <td>NaN</td>\n      <td>NaN</td>\n      <td>NaN</td>\n    </tr>\n    <tr>\n      <th>1</th>\n      <td>1</td>\n      <td>1</td>\n      <td>2019-04-01</td>\n      <td>Vente</td>\n      <td>185100.0</td>\n      <td>22.0</td>\n      <td>RUE</td>\n      <td>GEN DELESTRAINT</td>\n      <td>1000.0</td>\n      <td>BOURG-EN-BRESSE</td>\n      <td>...</td>\n      <td>NaN</td>\n      <td>NaN</td>\n      <td>2</td>\n      <td>2.0</td>\n      <td>Appartement</td>\n      <td>62.0</td>\n      <td>3.0</td>\n      <td>NaN</td>\n      <td>NaN</td>\n      <td>NaN</td>\n    </tr>\n    <tr>\n      <th>2</th>\n      <td>2</td>\n      <td>1</td>\n      <td>2019-04-01</td>\n      <td>Vente</td>\n      <td>185100.0</td>\n      <td>22.0</td>\n      <td>RUE</td>\n      <td>GEN DELESTRAINT</td>\n      <td>1000.0</td>\n      <td>BOURG-EN-BRESSE</td>\n      <td>...</td>\n      <td>NaN</td>\n      <td>NaN</td>\n      <td>1</td>\n      <td>3.0</td>\n      <td>Dépendance</td>\n      <td>0.0</td>\n      <td>0.0</td>\n      <td>NaN</td>\n      <td>NaN</td>\n      <td>NaN</td>\n    </tr>\n    <tr>\n      <th>3</th>\n      <td>3</td>\n      <td>1</td>\n      <td>2019-08-01</td>\n      <td>Vente</td>\n      <td>209000.0</td>\n      <td>3.0</td>\n      <td>RUE</td>\n      <td>DES CHAMPAGNES</td>\n      <td>1160.0</td>\n      <td>PRIAY</td>\n      <td>...</td>\n      <td>NaN</td>\n      <td>NaN</td>\n      <td>0</td>\n      <td>1.0</td>\n      <td>Maison</td>\n      <td>90.0</td>\n      <td>4.0</td>\n      <td>S</td>\n      <td>NaN</td>\n      <td>940.0</td>\n    </tr>\n    <tr>\n      <th>4</th>\n      <td>4</td>\n      <td>1</td>\n      <td>2019-07-01</td>\n      <td>Vente</td>\n      <td>134900.0</td>\n      <td>5.0</td>\n      <td>LOT</td>\n      <td>LE BIOLAY</td>\n      <td>1370.0</td>\n      <td>SAINT-ETIENNE-DU-BOIS</td>\n      <td>...</td>\n      <td>NaN</td>\n      <td>NaN</td>\n      <td>0</td>\n      <td>1.0</td>\n      <td>Maison</td>\n      <td>101.0</td>\n      <td>5.0</td>\n      <td>S</td>\n      <td>NaN</td>\n      <td>490.0</td>\n    </tr>\n  </tbody>\n</table>\n<p>5 rows × 29 columns</p>\n</div>"
     },
     "execution_count": 4,
     "metadata": {},
     "output_type": "execute_result"
    }
   ],
   "source": [
    "import pandas as pd\n",
    "print('hello')\n",
    "\n",
    "df = pd.read_csv('/Users/ghassenabdedayem/Documents/Data/Immo/Destination_2015_2019.csv')\n",
    "df.head()"
   ]
  },
  {
   "cell_type": "code",
   "execution_count": 2,
   "outputs": [
    {
     "data": {
      "text/plain": "   Unnamed: 0  No_disposition Date_mutation Nature_mutation  Valeur_fonciere  \\\n0           0               1    2019-04-01           Vente          37220.0   \n1           1               1    2019-04-01           Vente         185100.0   \n2           2               1    2019-04-01           Vente         185100.0   \n3           3               1    2019-08-01           Vente         209000.0   \n4           4               1    2019-07-01           Vente         134900.0   \n\n   No_voie Type_de_voie             Voie  Code_postal                Commune  \\\n0     26.0          RUE     DE MONTHOLON       1000.0        BOURG-EN-BRESSE   \n1     22.0          RUE  GEN DELESTRAINT       1000.0        BOURG-EN-BRESSE   \n2     22.0          RUE  GEN DELESTRAINT       1000.0        BOURG-EN-BRESSE   \n3      3.0          RUE   DES CHAMPAGNES       1160.0                  PRIAY   \n4      5.0          LOT        LE BIOLAY       1370.0  SAINT-ETIENNE-DU-BOIS   \n\n   ... 5eme_lot Surface_Carrez_du_5eme_lot  Nombre_de_lots Code_type_local  \\\n0  ...      NaN                        NaN               1             2.0   \n1  ...      NaN                        NaN               2             2.0   \n2  ...      NaN                        NaN               1             3.0   \n3  ...      NaN                        NaN               0             1.0   \n4  ...      NaN                        NaN               0             1.0   \n\n    Type_local Surface_reelle_bati  Nombre_pieces_principales Nature_culture  \\\n0  Appartement                20.0                        1.0            NaN   \n1  Appartement                62.0                        3.0            NaN   \n2   Dépendance                 0.0                        0.0            NaN   \n3       Maison                90.0                        4.0              S   \n4       Maison               101.0                        5.0              S   \n\n   Nature_culture_speciale Surface_terrain  \n0                      NaN             NaN  \n1                      NaN             NaN  \n2                      NaN             NaN  \n3                      NaN           940.0  \n4                      NaN           490.0  \n\n[5 rows x 29 columns]",
      "text/html": "<div>\n<style scoped>\n    .dataframe tbody tr th:only-of-type {\n        vertical-align: middle;\n    }\n\n    .dataframe tbody tr th {\n        vertical-align: top;\n    }\n\n    .dataframe thead th {\n        text-align: right;\n    }\n</style>\n<table border=\"1\" class=\"dataframe\">\n  <thead>\n    <tr style=\"text-align: right;\">\n      <th></th>\n      <th>Unnamed: 0</th>\n      <th>No_disposition</th>\n      <th>Date_mutation</th>\n      <th>Nature_mutation</th>\n      <th>Valeur_fonciere</th>\n      <th>No_voie</th>\n      <th>Type_de_voie</th>\n      <th>Voie</th>\n      <th>Code_postal</th>\n      <th>Commune</th>\n      <th>...</th>\n      <th>5eme_lot</th>\n      <th>Surface_Carrez_du_5eme_lot</th>\n      <th>Nombre_de_lots</th>\n      <th>Code_type_local</th>\n      <th>Type_local</th>\n      <th>Surface_reelle_bati</th>\n      <th>Nombre_pieces_principales</th>\n      <th>Nature_culture</th>\n      <th>Nature_culture_speciale</th>\n      <th>Surface_terrain</th>\n    </tr>\n  </thead>\n  <tbody>\n    <tr>\n      <th>0</th>\n      <td>0</td>\n      <td>1</td>\n      <td>2019-04-01</td>\n      <td>Vente</td>\n      <td>37220.0</td>\n      <td>26.0</td>\n      <td>RUE</td>\n      <td>DE MONTHOLON</td>\n      <td>1000.0</td>\n      <td>BOURG-EN-BRESSE</td>\n      <td>...</td>\n      <td>NaN</td>\n      <td>NaN</td>\n      <td>1</td>\n      <td>2.0</td>\n      <td>Appartement</td>\n      <td>20.0</td>\n      <td>1.0</td>\n      <td>NaN</td>\n      <td>NaN</td>\n      <td>NaN</td>\n    </tr>\n    <tr>\n      <th>1</th>\n      <td>1</td>\n      <td>1</td>\n      <td>2019-04-01</td>\n      <td>Vente</td>\n      <td>185100.0</td>\n      <td>22.0</td>\n      <td>RUE</td>\n      <td>GEN DELESTRAINT</td>\n      <td>1000.0</td>\n      <td>BOURG-EN-BRESSE</td>\n      <td>...</td>\n      <td>NaN</td>\n      <td>NaN</td>\n      <td>2</td>\n      <td>2.0</td>\n      <td>Appartement</td>\n      <td>62.0</td>\n      <td>3.0</td>\n      <td>NaN</td>\n      <td>NaN</td>\n      <td>NaN</td>\n    </tr>\n    <tr>\n      <th>2</th>\n      <td>2</td>\n      <td>1</td>\n      <td>2019-04-01</td>\n      <td>Vente</td>\n      <td>185100.0</td>\n      <td>22.0</td>\n      <td>RUE</td>\n      <td>GEN DELESTRAINT</td>\n      <td>1000.0</td>\n      <td>BOURG-EN-BRESSE</td>\n      <td>...</td>\n      <td>NaN</td>\n      <td>NaN</td>\n      <td>1</td>\n      <td>3.0</td>\n      <td>Dépendance</td>\n      <td>0.0</td>\n      <td>0.0</td>\n      <td>NaN</td>\n      <td>NaN</td>\n      <td>NaN</td>\n    </tr>\n    <tr>\n      <th>3</th>\n      <td>3</td>\n      <td>1</td>\n      <td>2019-08-01</td>\n      <td>Vente</td>\n      <td>209000.0</td>\n      <td>3.0</td>\n      <td>RUE</td>\n      <td>DES CHAMPAGNES</td>\n      <td>1160.0</td>\n      <td>PRIAY</td>\n      <td>...</td>\n      <td>NaN</td>\n      <td>NaN</td>\n      <td>0</td>\n      <td>1.0</td>\n      <td>Maison</td>\n      <td>90.0</td>\n      <td>4.0</td>\n      <td>S</td>\n      <td>NaN</td>\n      <td>940.0</td>\n    </tr>\n    <tr>\n      <th>4</th>\n      <td>4</td>\n      <td>1</td>\n      <td>2019-07-01</td>\n      <td>Vente</td>\n      <td>134900.0</td>\n      <td>5.0</td>\n      <td>LOT</td>\n      <td>LE BIOLAY</td>\n      <td>1370.0</td>\n      <td>SAINT-ETIENNE-DU-BOIS</td>\n      <td>...</td>\n      <td>NaN</td>\n      <td>NaN</td>\n      <td>0</td>\n      <td>1.0</td>\n      <td>Maison</td>\n      <td>101.0</td>\n      <td>5.0</td>\n      <td>S</td>\n      <td>NaN</td>\n      <td>490.0</td>\n    </tr>\n  </tbody>\n</table>\n<p>5 rows × 29 columns</p>\n</div>"
     },
     "execution_count": 2,
     "metadata": {},
     "output_type": "execute_result"
    }
   ],
   "source": [
    "df.head()"
   ],
   "metadata": {
    "collapsed": false,
    "pycharm": {
     "name": "#%%\n"
    }
   }
  }
 ],
 "metadata": {
  "kernelspec": {
   "display_name": "Python 3",
   "language": "python",
   "name": "python3"
  },
  "language_info": {
   "codemirror_mode": {
    "name": "ipython",
    "version": 2
   },
   "file_extension": ".py",
   "mimetype": "text/x-python",
   "name": "python",
   "nbconvert_exporter": "python",
   "pygments_lexer": "ipython2",
   "version": "3.8.5-final"
  }
 },
 "nbformat": 4,
 "nbformat_minor": 0
}