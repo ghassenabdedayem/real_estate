{
 "metadata": {
  "language_info": {
   "codemirror_mode": {
    "name": "ipython",
    "version": 3
   },
   "file_extension": ".py",
   "mimetype": "text/x-python",
   "name": "python",
   "nbconvert_exporter": "python",
   "pygments_lexer": "ipython3",
   "version": "3.8.5-final"
  },
  "orig_nbformat": 2,
  "kernelspec": {
   "name": "python3",
   "display_name": "Python 3",
   "language": "python"
  }
 },
 "nbformat": 4,
 "nbformat_minor": 2,
 "cells": [
  {
   "cell_type": "code",
   "execution_count": 3,
   "metadata": {},
   "outputs": [],
   "source": [
    "import time\n",
    "import requests\n",
    "import json\n",
    "import pandas as pd"
   ]
  },
  {
   "cell_type": "code",
   "execution_count": 9,
   "metadata": {},
   "outputs": [
    {
     "output_type": "error",
     "ename": "IndentationError",
     "evalue": "unexpected unindent (<ipython-input-9-0278099b6d0d>, line 7)",
     "traceback": [
      "\u001b[0;36m  File \u001b[0;32m\"<ipython-input-9-0278099b6d0d>\"\u001b[0;36m, line \u001b[0;32m7\u001b[0m\n\u001b[0;31m    def concatenate_columns(df, columns, sep='+'):\u001b[0m\n\u001b[0m                                                  ^\u001b[0m\n\u001b[0;31mIndentationError\u001b[0m\u001b[0;31m:\u001b[0m unexpected unindent\n"
     ]
    }
   ],
   "source": [
    "#a function that replaces spaces by plus into a given string (phrase)\n",
    "def replace_space_by_plus(phrase):\n",
    "    try:\n",
    "        return phrase.replace(' ', '+')\n",
    "    except:\n",
    "        return phrase\n",
    "\n",
    "#a function that concatenates the giden columns strings adding in between a given separator\n",
    "def concatenate_columns(df, columns, sep='+'):\n",
    "    df_temporary = df[columns[0]].apply(replace_space_by_plus)\n",
    "    for column in columns[1:]:\n",
    "        df_temporary = df_temporary + sep + df[column]\n",
    "    return df_temporary"
   ]
  },
  {
   "cell_type": "code",
   "execution_count": 8,
   "metadata": {},
   "outputs": [
    {
     "output_type": "execute_result",
     "data": {
      "text/plain": [
       "0    NaN\n",
       "1    NaN\n",
       "2    NaN\n",
       "3    NaN\n",
       "4    NaN\n",
       "dtype: object"
      ]
     },
     "metadata": {},
     "execution_count": 8
    }
   ],
   "source": [
    "df = pd.read_csv('processed_to_geo.csv')\n",
    "columns = ['No_voie', 'Type_de_voie', 'Voie', 'Code_postal', 'Commune']\n",
    "adresses = concatenate_columns(df, columns, ' ')\n",
    "adresses.head()"
   ]
  }
 ]
}